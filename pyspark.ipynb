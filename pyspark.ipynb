{
 "cells": [
  {
   "cell_type": "markdown",
   "metadata": {},
   "source": [
    "## Pyspark 測試"
   ]
  },
  {
   "cell_type": "code",
   "execution_count": 31,
   "metadata": {
    "collapsed": true
   },
   "outputs": [
    {
     "name": "stdout",
     "output_type": "stream",
     "text": [
      "跨年,專刊,【,連線,報導,】,「,5,、,4,、,3,、,2,、,1,，,新年,快樂,！,」,北,、,中,、,南今,凌晨,零時,同步,以絢爛,煙花,迎接,2016,年,。,台北,101,大樓,施放,其史,上,最長,238,秒,、,號稱,歷來,圖案,最,多,的,3,萬發,煙火,；,雲林劍,湖山,世界,以,摩天,輪,、,高空,吊車,加設,2,組風,火輪,，,組成,「,三環,」,煙火燦爛,施放,；,高雄義大,世界,則以,全台,最長,888,秒,、,5,萬發,煙火,，,祝國人,新,的,一年,「,發發發,」,。,台北,101,大樓,第,12,次,施放,跨年,煙火,，,今年,新增,花,、,魚,、,鳥等動,植物,造型,煙火,。,昨晚,約,150,萬人,湧入,北市,信義區,欣賞,跨年,晚會,和,煙火,，,眾人,高聲,倒,數後即,目不轉睛,盯,著煙火,，,時,而,發出,驚嘆聲,。,民眾,張偉雄,說,，,現場,煙火,震撼,聲響,、,人擠,人,的,熱鬧,氣氛,，,都,是,看,電視,轉播,比不上,的,，,「,再,冷,也,要,來,。,」,連,3,年,和,妻子,到場,的,民眾,徐先生,說,，,太太,半年,後,生頭胎,，,希望,101,煙火持續,下去,，,「,以後是,一家,3,口來,看,了,。,」,劍,湖山,摩天,輪,在,倒,數後開,出,藍色,、,銀色,璀璨,煙花,，,更,在,空中,綻放,一朵朵,笑,臉,造型,煙火,，,施放,長,達,610,秒,（,10,分,10,秒,）,，,吸引,約,10,萬人,入園,。,現場,遊客,緊握,身旁,親友,的,手,，,歡呼聲,此起彼落,，,眾人,抬頭,緊,盯,煙火,，,也,有人,不斷,用,手機,記錄,美麗,時刻,，,興奮,大叫,：,「,比,我,想像,還,漂亮,，,還要,再,來,跨,年,。,」,雲林,科技,大學,陳,姓,學生,昨,傍晚,就,守,在,劍,湖山,摩天,輪前,，,原都,在家,跨年,的,他,，,特地,約,8,名同,學來,享受,現場,氣氛,。,台中民眾,林先生,、,邱,小姐,說,：,「,五彩,摩天,輪,很漂亮,、,很,浪漫,。,」,義大,世界,888,秒,（,14,分鐘,48,秒,）,煙火則,搭配,音樂,絢麗,演出,，,在,夜空,編織成,一幅幅,美麗,圖畫,，,毫無冷場,，,估約,10,萬人,到場,。\n",
      "1\n",
      "<type 'list'>\n",
      "971\n",
      "跨年,專刊,【,連線,報導,】,「,5,、,4,、,3,、,2,、,1,，,新年,快樂,！,」,北,、,中,、,南今,凌晨,零時,同步,以絢爛,煙花,迎接,2016,年,。,台北,101,大樓,施放,其史,上,最長,238,秒,、,號稱,歷來,圖案,最,多,的,3,萬發,煙火,；,雲林劍,湖山,世界,以,摩天,輪,、,高空,吊車,加設,2,組風,火輪,，,組成,「,三環,」,煙火燦爛,施放,；,高雄義大,世界,則以,全台,最長,888,秒,、,5,萬發,煙火,，,祝國人,新,的,一年,「,發發發,」,。,台北,101,大樓,第,12,次,施放,跨年,煙火,，,今年,新增,花,、,魚,、,鳥等動,植物,造型,煙火,。,昨晚,約,150,萬人,湧入,北市,信義區,欣賞,跨年,晚會,和,煙火,，,眾人,高聲,倒,數後即,目不轉睛,盯,著煙火,，,時,而,發出,驚嘆聲,。,民眾,張偉雄,說,，,現場,煙火,震撼,聲響,、,人擠,人,的,熱鬧,氣氛,，,都,是,看,電視,轉播,比不上,的,，,「,再,冷,也,要,來,。,」,連,3,年,和,妻子,到場,的,民眾,徐先生,說,，,太太,半年,後,生頭胎,，,希望,101,煙火持續,下去,，,「,以後是,一家,3,口來,看,了,。,」,劍,湖山,摩天,輪,在,倒,數後開,出,藍色,、,銀色,璀璨,煙花,，,更,在,空中,綻放,一朵朵,笑,臉,造型,煙火,，,施放,長,達,610,秒,（,10,分,10,秒,）,，,吸引,約,10,萬人,入園,。,現場,遊客,緊握,身旁,親友,的,手,，,歡呼聲,此起彼落,，,眾人,抬頭,緊,盯,煙火,，,也,有人,不斷,用,手機,記錄,美麗,時刻,，,興奮,大叫,：,「,比,我,想像,還,漂亮,，,還要,再,來,跨,年,。,」,雲林,科技,大學,陳,姓,學生,昨,傍晚,就,守,在,劍,湖山,摩天,輪前,，,原都,在家,跨年,的,他,，,特地,約,8,名同,學來,享受,現場,氣氛,。,台中民眾,林先生,、,邱,小姐,說,：,「,五彩,摩天,輪,很漂亮,、,很,浪漫,。,」,義大,世界,888,秒,（,14,分鐘,48,秒,）,煙火則,搭配,音樂,絢麗,演出,，,在,夜空,編織成,一幅幅,美麗,圖畫,，,毫無冷場,，,估約,10,萬人,到場,。\n"
     ]
    }
   ],
   "source": [
    "import pymongo\n",
    "from pymongo import MongoClient\n",
    "import jieba\n",
    "\n",
    "client = MongoClient('10.120.28.12', 27017)\n",
    "database = client[\"test\"]\n",
    "collection = database[\"test2\"]\n",
    "\n",
    "content= \"\"\n",
    "for post in collection.find().limit(1):\n",
    "    #content.append(\",\".join(jieba.cut(post['content'])))\n",
    "    content += \",\".join(jieba.cut(post['content']))\n",
    "cpntent =  content.split(' ')\n",
    "print content\n",
    "print len(cpntent)\n",
    "print type(cpntent)\n",
    "print len(content)\n",
    "print content"
   ]
  },
  {
   "cell_type": "markdown",
   "metadata": {},
   "source": [
    "## 將mongo.db取出來的資料變成RDD"
   ]
  },
  {
   "cell_type": "code",
   "execution_count": 39,
   "metadata": {
    "collapsed": false
   },
   "outputs": [
    {
     "name": "stdout",
     "output_type": "stream",
     "text": [
      "[u'\\u8de8\\u5e74', u'\\u5c08\\u520a', u'\\u3010', u'\\u9023\\u7dda', u'\\u5831\\u5c0e', u'\\u3011', u'\\u300c', u'5', u'\\u3001', u'4', u'\\u3001', u'3', u'\\u3001', u'2', u'\\u3001', u'1', u'\\uff0c', u'\\u65b0\\u5e74', u'\\u5feb\\u6a02', u'\\uff01', u'\\u300d', u'\\u5317', u'\\u3001', u'\\u4e2d', u'\\u3001', u'\\u5357\\u4eca', u'\\u51cc\\u6668', u'\\u96f6\\u6642', u'\\u540c\\u6b65', u'\\u4ee5\\u7d62\\u721b', u'\\u7159\\u82b1', u'\\u8fce\\u63a5', u'2016', u'\\u5e74', u'\\u3002', u'\\u53f0\\u5317', u'101', u'\\u5927\\u6a13', u'\\u65bd\\u653e', u'\\u5176\\u53f2', u'\\u4e0a', u'\\u6700\\u9577', u'238', u'\\u79d2', u'\\u3001', u'\\u865f\\u7a31', u'\\u6b77\\u4f86', u'\\u5716\\u6848', u'\\u6700', u'\\u591a', u'\\u7684', u'3', u'\\u842c\\u767c', u'\\u7159\\u706b', u'\\uff1b', u'\\u96f2\\u6797\\u528d', u'\\u6e56\\u5c71', u'\\u4e16\\u754c', u'\\u4ee5', u'\\u6469\\u5929', u'\\u8f2a', u'\\u3001', u'\\u9ad8\\u7a7a', u'\\u540a\\u8eca', u'\\u52a0\\u8a2d', u'2', u'\\u7d44\\u98a8', u'\\u706b\\u8f2a', u'\\uff0c', u'\\u7d44\\u6210', u'\\u300c', u'\\u4e09\\u74b0', u'\\u300d', u'\\u7159\\u706b\\u71e6\\u721b', u'\\u65bd\\u653e', u'\\uff1b', u'\\u9ad8\\u96c4\\u7fa9\\u5927', u'\\u4e16\\u754c', u'\\u5247\\u4ee5', u'\\u5168\\u53f0', u'\\u6700\\u9577', u'888', u'\\u79d2', u'\\u3001', u'5', u'\\u842c\\u767c', u'\\u7159\\u706b', u'\\uff0c', u'\\u795d\\u570b\\u4eba', u'\\u65b0', u'\\u7684', u'\\u4e00\\u5e74', u'\\u300c', u'\\u767c\\u767c\\u767c', u'\\u300d', u'\\u3002', u'\\u53f0\\u5317', u'101', u'\\u5927\\u6a13', u'\\u7b2c', u'12', u'\\u6b21', u'\\u65bd\\u653e', u'\\u8de8\\u5e74', u'\\u7159\\u706b', u'\\uff0c', u'\\u4eca\\u5e74', u'\\u65b0\\u589e', u'\\u82b1', u'\\u3001', u'\\u9b5a', u'\\u3001', u'\\u9ce5\\u7b49\\u52d5', u'\\u690d\\u7269', u'\\u9020\\u578b', u'\\u7159\\u706b', u'\\u3002', u'\\u6628\\u665a', u'\\u7d04', u'150', u'\\u842c\\u4eba', u'\\u6e67\\u5165', u'\\u5317\\u5e02', u'\\u4fe1\\u7fa9\\u5340', u'\\u6b23\\u8cde', u'\\u8de8\\u5e74', u'\\u665a\\u6703', u'\\u548c', u'\\u7159\\u706b', u'\\uff0c', u'\\u773e\\u4eba', u'\\u9ad8\\u8072', u'\\u5012', u'\\u6578\\u5f8c\\u5373', u'\\u76ee\\u4e0d\\u8f49\\u775b', u'\\u76ef', u'\\u8457\\u7159\\u706b', u'\\uff0c', u'\\u6642', u'\\u800c', u'\\u767c\\u51fa', u'\\u9a5a\\u5606\\u8072', u'\\u3002', u'\\u6c11\\u773e', u'\\u5f35\\u5049\\u96c4', u'\\u8aaa', u'\\uff0c', u'\\u73fe\\u5834', u'\\u7159\\u706b', u'\\u9707\\u64bc', u'\\u8072\\u97ff', u'\\u3001', u'\\u4eba\\u64e0', u'\\u4eba', u'\\u7684', u'\\u71b1\\u9b27', u'\\u6c23\\u6c1b', u'\\uff0c', u'\\u90fd', u'\\u662f', u'\\u770b', u'\\u96fb\\u8996', u'\\u8f49\\u64ad', u'\\u6bd4\\u4e0d\\u4e0a', u'\\u7684', u'\\uff0c', u'\\u300c', u'\\u518d', u'\\u51b7', u'\\u4e5f', u'\\u8981', u'\\u4f86', u'\\u3002', u'\\u300d', u'\\u9023', u'3', u'\\u5e74', u'\\u548c', u'\\u59bb\\u5b50', u'\\u5230\\u5834', u'\\u7684', u'\\u6c11\\u773e', u'\\u5f90\\u5148\\u751f', u'\\u8aaa', u'\\uff0c', u'\\u592a\\u592a', u'\\u534a\\u5e74', u'\\u5f8c', u'\\u751f\\u982d\\u80ce', u'\\uff0c', u'\\u5e0c\\u671b', u'101', u'\\u7159\\u706b\\u6301\\u7e8c', u'\\u4e0b\\u53bb', u'\\uff0c', u'\\u300c', u'\\u4ee5\\u5f8c\\u662f', u'\\u4e00\\u5bb6', u'3', u'\\u53e3\\u4f86', u'\\u770b', u'\\u4e86', u'\\u3002', u'\\u300d', u'\\u528d', u'\\u6e56\\u5c71', u'\\u6469\\u5929', u'\\u8f2a', u'\\u5728', u'\\u5012', u'\\u6578\\u5f8c\\u958b', u'\\u51fa', u'\\u85cd\\u8272', u'\\u3001', u'\\u9280\\u8272', u'\\u7480\\u74a8', u'\\u7159\\u82b1', u'\\uff0c', u'\\u66f4', u'\\u5728', u'\\u7a7a\\u4e2d', u'\\u7dbb\\u653e', u'\\u4e00\\u6735\\u6735', u'\\u7b11', u'\\u81c9', u'\\u9020\\u578b', u'\\u7159\\u706b', u'\\uff0c', u'\\u65bd\\u653e', u'\\u9577', u'\\u9054', u'610', u'\\u79d2', u'\\uff08', u'10', u'\\u5206', u'10', u'\\u79d2', u'\\uff09', u'\\uff0c', u'\\u5438\\u5f15', u'\\u7d04', u'10', u'\\u842c\\u4eba', u'\\u5165\\u5712', u'\\u3002', u'\\u73fe\\u5834', u'\\u904a\\u5ba2', u'\\u7dca\\u63e1', u'\\u8eab\\u65c1', u'\\u89aa\\u53cb', u'\\u7684', u'\\u624b', u'\\uff0c', u'\\u6b61\\u547c\\u8072', u'\\u6b64\\u8d77\\u5f7c\\u843d', u'\\uff0c', u'\\u773e\\u4eba', u'\\u62ac\\u982d', u'\\u7dca', u'\\u76ef', u'\\u7159\\u706b', u'\\uff0c', u'\\u4e5f', u'\\u6709\\u4eba', u'\\u4e0d\\u65b7', u'\\u7528', u'\\u624b\\u6a5f', u'\\u8a18\\u9304', u'\\u7f8e\\u9e97', u'\\u6642\\u523b', u'\\uff0c', u'\\u8208\\u596e', u'\\u5927\\u53eb', u'\\uff1a', u'\\u300c', u'\\u6bd4', u'\\u6211', u'\\u60f3\\u50cf', u'\\u9084', u'\\u6f02\\u4eae', u'\\uff0c', u'\\u9084\\u8981', u'\\u518d', u'\\u4f86', u'\\u8de8', u'\\u5e74', u'\\u3002', u'\\u300d', u'\\u96f2\\u6797', u'\\u79d1\\u6280', u'\\u5927\\u5b78', u'\\u9673', u'\\u59d3', u'\\u5b78\\u751f', u'\\u6628', u'\\u508d\\u665a', u'\\u5c31', u'\\u5b88', u'\\u5728', u'\\u528d', u'\\u6e56\\u5c71', u'\\u6469\\u5929', u'\\u8f2a\\u524d', u'\\uff0c', u'\\u539f\\u90fd', u'\\u5728\\u5bb6', u'\\u8de8\\u5e74', u'\\u7684', u'\\u4ed6', u'\\uff0c', u'\\u7279\\u5730', u'\\u7d04', u'8', u'\\u540d\\u540c', u'\\u5b78\\u4f86', u'\\u4eab\\u53d7', u'\\u73fe\\u5834', u'\\u6c23\\u6c1b', u'\\u3002', u'\\u53f0\\u4e2d\\u6c11\\u773e', u'\\u6797\\u5148\\u751f', u'\\u3001', u'\\u90b1', u'\\u5c0f\\u59d0', u'\\u8aaa', u'\\uff1a', u'\\u300c', u'\\u4e94\\u5f69', u'\\u6469\\u5929', u'\\u8f2a', u'\\u5f88\\u6f02\\u4eae', u'\\u3001', u'\\u5f88', u'\\u6d6a\\u6f2b', u'\\u3002', u'\\u300d', u'\\u7fa9\\u5927', u'\\u4e16\\u754c', u'888', u'\\u79d2', u'\\uff08', u'14', u'\\u5206\\u9418', u'48', u'\\u79d2', u'\\uff09', u'\\u7159\\u706b\\u5247', u'\\u642d\\u914d', u'\\u97f3\\u6a02', u'\\u7d62\\u9e97', u'\\u6f14\\u51fa', u'\\uff0c', u'\\u5728', u'\\u591c\\u7a7a', u'\\u7de8\\u7e54\\u6210', u'\\u4e00\\u5e45\\u5e45', u'\\u7f8e\\u9e97', u'\\u5716\\u756b', u'\\uff0c', u'\\u6beb\\u7121\\u51b7\\u5834', u'\\uff0c', u'\\u4f30\\u7d04', u'10', u'\\u842c\\u4eba', u'\\u5230\\u5834', u'\\u3002']\n",
      "367\n"
     ]
    }
   ],
   "source": [
    "import pymongo\n",
    "from pymongo import MongoClient\n",
    "import jieba\n",
    "from pyspark import SparkConf, SparkContext\n",
    "sc = SparkContext()\n",
    "\n",
    "client = MongoClient('10.120.28.12', 27017)\n",
    "database = client[\"test\"]\n",
    "collection = database[\"test2\"]\n",
    "\n",
    "content= \"\"\n",
    "for post in collection.find().limit(1):\n",
    "    content += \",\".join(jieba.cut(post['content'])) #切好的詞中間用,號隔開，此時content會是一個大字串nuicode\n",
    "\n",
    "#相當重要的一步，會根據逗號把切好的詞變成一個一個的字串，並集合成list\n",
    "content =  content.split(',')   \n",
    "#這個list就可以丟給parallelize進行處理了\n",
    "words = sc.parallelize(content)\n",
    "result = words.map(lamba x: (x,1)).reduceByKey(lamba x,y:x+y)\n",
    "result.saveAsTextFile('')"
   ]
  },
  {
   "cell_type": "markdown",
   "metadata": {},
   "source": [
    "## TF-IDF計算\n",
    "- pip install numpy (pyspark.mllib.feature需要這個套件)"
   ]
  },
  {
   "cell_type": "code",
   "execution_count": 47,
   "metadata": {
    "collapsed": false,
    "scrolled": true
   },
   "outputs": [
    {
     "name": "stdout",
     "output_type": "stream",
     "text": [
      "[[u'\\u8de8\\u5e74', u'\\u5c08\\u520a', u'\\u3010', u'\\u9023\\u7dda', u'\\u5831\\u5c0e', u'\\u3011', u'\\u300c', u'5', u'\\u3001', u'4', u'\\u3001', u'3', u'\\u3001', u'2', u'\\u3001', u'1', u'\\uff0c', u'\\u65b0\\u5e74', u'\\u5feb\\u6a02', u'\\uff01', u'\\u300d', u'\\u5317', u'\\u3001', u'\\u4e2d', u'\\u3001', u'\\u5357\\u4eca', u'\\u51cc\\u6668', u'\\u96f6\\u6642', u'\\u540c\\u6b65', u'\\u4ee5\\u7d62\\u721b', u'\\u7159\\u82b1', u'\\u8fce\\u63a5', u'2016', u'\\u5e74', u'\\u3002', u'\\u53f0\\u5317', u'101', u'\\u5927\\u6a13', u'\\u65bd\\u653e', u'\\u5176\\u53f2', u'\\u4e0a', u'\\u6700\\u9577', u'238', u'\\u79d2', u'\\u3001', u'\\u865f\\u7a31', u'\\u6b77\\u4f86', u'\\u5716\\u6848', u'\\u6700', u'\\u591a', u'\\u7684', u'3', u'\\u842c\\u767c', u'\\u7159\\u706b', u'\\uff1b', u'\\u96f2\\u6797\\u528d', u'\\u6e56\\u5c71', u'\\u4e16\\u754c', u'\\u4ee5', u'\\u6469\\u5929', u'\\u8f2a', u'\\u3001', u'\\u9ad8\\u7a7a', u'\\u540a\\u8eca', u'\\u52a0\\u8a2d', u'2', u'\\u7d44\\u98a8', u'\\u706b\\u8f2a', u'\\uff0c', u'\\u7d44\\u6210', u'\\u300c', u'\\u4e09\\u74b0', u'\\u300d', u'\\u7159\\u706b\\u71e6\\u721b', u'\\u65bd\\u653e', u'\\uff1b', u'\\u9ad8\\u96c4\\u7fa9\\u5927', u'\\u4e16\\u754c', u'\\u5247\\u4ee5', u'\\u5168\\u53f0', u'\\u6700\\u9577', u'888', u'\\u79d2', u'\\u3001', u'5', u'\\u842c\\u767c', u'\\u7159\\u706b', u'\\uff0c', u'\\u795d\\u570b\\u4eba', u'\\u65b0', u'\\u7684', u'\\u4e00\\u5e74', u'\\u300c', u'\\u767c\\u767c\\u767c', u'\\u300d', u'\\u3002', u'\\u53f0\\u5317', u'101', u'\\u5927\\u6a13', u'\\u7b2c', u'12', u'\\u6b21', u'\\u65bd\\u653e', u'\\u8de8\\u5e74', u'\\u7159\\u706b', u'\\uff0c', u'\\u4eca\\u5e74', u'\\u65b0\\u589e', u'\\u82b1', u'\\u3001', u'\\u9b5a', u'\\u3001', u'\\u9ce5\\u7b49\\u52d5', u'\\u690d\\u7269', u'\\u9020\\u578b', u'\\u7159\\u706b', u'\\u3002', u'\\u6628\\u665a', u'\\u7d04', u'150', u'\\u842c\\u4eba', u'\\u6e67\\u5165', u'\\u5317\\u5e02', u'\\u4fe1\\u7fa9\\u5340', u'\\u6b23\\u8cde', u'\\u8de8\\u5e74', u'\\u665a\\u6703', u'\\u548c', u'\\u7159\\u706b', u'\\uff0c', u'\\u773e\\u4eba', u'\\u9ad8\\u8072', u'\\u5012', u'\\u6578\\u5f8c\\u5373', u'\\u76ee\\u4e0d\\u8f49\\u775b', u'\\u76ef', u'\\u8457\\u7159\\u706b', u'\\uff0c', u'\\u6642', u'\\u800c', u'\\u767c\\u51fa', u'\\u9a5a\\u5606\\u8072', u'\\u3002', u'\\u6c11\\u773e', u'\\u5f35\\u5049\\u96c4', u'\\u8aaa', u'\\uff0c', u'\\u73fe\\u5834', u'\\u7159\\u706b', u'\\u9707\\u64bc', u'\\u8072\\u97ff', u'\\u3001', u'\\u4eba\\u64e0', u'\\u4eba', u'\\u7684', u'\\u71b1\\u9b27', u'\\u6c23\\u6c1b', u'\\uff0c', u'\\u90fd', u'\\u662f', u'\\u770b', u'\\u96fb\\u8996', u'\\u8f49\\u64ad', u'\\u6bd4\\u4e0d\\u4e0a', u'\\u7684', u'\\uff0c', u'\\u300c', u'\\u518d', u'\\u51b7', u'\\u4e5f', u'\\u8981', u'\\u4f86', u'\\u3002', u'\\u300d', u'\\u9023', u'3', u'\\u5e74', u'\\u548c', u'\\u59bb\\u5b50', u'\\u5230\\u5834', u'\\u7684', u'\\u6c11\\u773e', u'\\u5f90\\u5148\\u751f', u'\\u8aaa', u'\\uff0c', u'\\u592a\\u592a', u'\\u534a\\u5e74', u'\\u5f8c', u'\\u751f\\u982d\\u80ce', u'\\uff0c', u'\\u5e0c\\u671b', u'101', u'\\u7159\\u706b\\u6301\\u7e8c', u'\\u4e0b\\u53bb', u'\\uff0c', u'\\u300c', u'\\u4ee5\\u5f8c\\u662f', u'\\u4e00\\u5bb6', u'3', u'\\u53e3\\u4f86', u'\\u770b', u'\\u4e86', u'\\u3002', u'\\u300d', u'\\u528d', u'\\u6e56\\u5c71', u'\\u6469\\u5929', u'\\u8f2a', u'\\u5728', u'\\u5012', u'\\u6578\\u5f8c\\u958b', u'\\u51fa', u'\\u85cd\\u8272', u'\\u3001', u'\\u9280\\u8272', u'\\u7480\\u74a8', u'\\u7159\\u82b1', u'\\uff0c', u'\\u66f4', u'\\u5728', u'\\u7a7a\\u4e2d', u'\\u7dbb\\u653e', u'\\u4e00\\u6735\\u6735', u'\\u7b11', u'\\u81c9', u'\\u9020\\u578b', u'\\u7159\\u706b', u'\\uff0c', u'\\u65bd\\u653e', u'\\u9577', u'\\u9054', u'610', u'\\u79d2', u'\\uff08', u'10', u'\\u5206', u'10', u'\\u79d2', u'\\uff09', u'\\uff0c', u'\\u5438\\u5f15', u'\\u7d04', u'10', u'\\u842c\\u4eba', u'\\u5165\\u5712', u'\\u3002', u'\\u73fe\\u5834', u'\\u904a\\u5ba2', u'\\u7dca\\u63e1', u'\\u8eab\\u65c1', u'\\u89aa\\u53cb', u'\\u7684', u'\\u624b', u'\\uff0c', u'\\u6b61\\u547c\\u8072', u'\\u6b64\\u8d77\\u5f7c\\u843d', u'\\uff0c', u'\\u773e\\u4eba', u'\\u62ac\\u982d', u'\\u7dca', u'\\u76ef', u'\\u7159\\u706b', u'\\uff0c', u'\\u4e5f', u'\\u6709\\u4eba', u'\\u4e0d\\u65b7', u'\\u7528', u'\\u624b\\u6a5f', u'\\u8a18\\u9304', u'\\u7f8e\\u9e97', u'\\u6642\\u523b', u'\\uff0c', u'\\u8208\\u596e', u'\\u5927\\u53eb', u'\\uff1a', u'\\u300c', u'\\u6bd4', u'\\u6211', u'\\u60f3\\u50cf', u'\\u9084', u'\\u6f02\\u4eae', u'\\uff0c', u'\\u9084\\u8981', u'\\u518d', u'\\u4f86', u'\\u8de8', u'\\u5e74', u'\\u3002', u'\\u300d', u'\\u96f2\\u6797', u'\\u79d1\\u6280', u'\\u5927\\u5b78', u'\\u9673', u'\\u59d3', u'\\u5b78\\u751f', u'\\u6628', u'\\u508d\\u665a', u'\\u5c31', u'\\u5b88', u'\\u5728', u'\\u528d', u'\\u6e56\\u5c71', u'\\u6469\\u5929', u'\\u8f2a\\u524d', u'\\uff0c', u'\\u539f\\u90fd', u'\\u5728\\u5bb6', u'\\u8de8\\u5e74', u'\\u7684', u'\\u4ed6', u'\\uff0c', u'\\u7279\\u5730', u'\\u7d04', u'8', u'\\u540d\\u540c', u'\\u5b78\\u4f86', u'\\u4eab\\u53d7', u'\\u73fe\\u5834', u'\\u6c23\\u6c1b', u'\\u3002', u'\\u53f0\\u4e2d\\u6c11\\u773e', u'\\u6797\\u5148\\u751f', u'\\u3001', u'\\u90b1', u'\\u5c0f\\u59d0', u'\\u8aaa', u'\\uff1a', u'\\u300c', u'\\u4e94\\u5f69', u'\\u6469\\u5929', u'\\u8f2a', u'\\u5f88\\u6f02\\u4eae', u'\\u3001', u'\\u5f88', u'\\u6d6a\\u6f2b', u'\\u3002', u'\\u300d', u'\\u7fa9\\u5927', u'\\u4e16\\u754c', u'888', u'\\u79d2', u'\\uff08', u'14', u'\\u5206\\u9418', u'48', u'\\u79d2', u'\\uff09', u'\\u7159\\u706b\\u5247', u'\\u642d\\u914d', u'\\u97f3\\u6a02', u'\\u7d62\\u9e97', u'\\u6f14\\u51fa', u'\\uff0c', u'\\u5728', u'\\u591c\\u7a7a', u'\\u7de8\\u7e54\\u6210', u'\\u4e00\\u5e45\\u5e45', u'\\u7f8e\\u9e97', u'\\u5716\\u756b', u'\\uff0c', u'\\u6beb\\u7121\\u51b7\\u5834', u'\\uff0c', u'\\u4f30\\u7d04', u'10', u'\\u842c\\u4eba', u'\\u5230\\u5834', u'\\u3002'], [u'\\u3010', u'\\u7d9c\\u5408', u'\\u5831\\u5c0e', u'\\u3011', u'2015', u'\\u7684', u'\\u8de8', u'\\u5e74', u'\\u665a\\u6703', u'\\u773e\\u661f\\u5317', u'\\u4e2d\\u5357', u'\\u8d95\\u5834', u'\\u63a5\\u529b', u'\\u958b\\u5531', u'\\uff0c', u'\\u5168\\u53f0', u'\\u4f30\\u6709', u'250', u'\\u842c\\u6c11\\u773e', u'\\u4e00\\u8d77', u'\\u760b', u'\\u8de8', u'\\u5e74', u'\\uff0c', u'\\u5171\\u540c', u'\\u70ba', u'2015', u'\\u5e74\\u5283', u'\\u4e0b\\u53e5\\u9ede', u'\\u3002', u'\\u5929\\u540e', u'\\u5f35\\u60e0\\u59b9', u'\\uff08', u'\\u963f\\u59b9', u'\\uff09', u'\\u662f', u'\\u300c', u'2016', u'\\u53f0\\u5317', u'\\u6700', u'High', u'\\u65b0\\u5e74', u'\\u57ce', u'\\u300d', u'\\u8de8\\u5e74', u'\\u665a\\u6703', u'\\u7684', u'\\u58d3\\u8ef8', u'\\uff0c', u'\\u5979\\u5c07', u'\\u300c', u'\\u70cf\\u6258\\u90a6', u'\\u5de1', u'\\u8ff4', u'\\u6f14\\u5531', u'\\u6703', u'\\u300d', u'\\u5718\\u968a', u'\\u642c', u'\\u5230', u'\\u53f0\\u5317', u'\\u5834', u'\\uff0c', u'\\u52c1\\u6b4c', u'\\u71b1\\u821e', u'\\u71b1\\u529b', u'\\u5954\\u653e', u'\\uff1b', u'\\u9ad8\\u96c4', u'\\u5922', u'\\u6642\\u4ee3\\u5247', u'\\u7531', u'MP', u'\\u9b54\\u5e7b', u'\\u529b\\u91cf', u'\\u8de8\\u5e74', u'\\u58d3\\u8ef8', u'\\uff0c', u'\\u71b1\\u6b4c', u'\\u76f4\\u5230', u'\\u51cc\\u6668', u'1', u'\\u6642\\u624d', u'\\u6563\\u5834', u'\\u3002', u'\\u53f0\\u5317', u'101', u'\\u53ca', u'\\u5e02\\u5e9c', u'\\u5ee3\\u5834', u'\\u4f30\\u8a08', u'\\u6e67\\u5165', u'150', u'\\u842c\\u4eba', u'\\uff0c', u'\\u8de8\\u5e74', u'\\u6f14\\u5531', u'\\u6703', u'\\u7531', u'\\u96fb\\u97f3', u'\\u5973\\u795e', u'\\u8b1d\\u91d1\\u71d5', u'\\u6253\\u982d\\u9663', u'\\uff0c', u'\\u5979', u'\\u63f9', u'\\u8457', u'\\u8d85\\u5927\\u578b', u'PIZZA', u'\\u9020\\u578b', u'\\u9053\\u5177', u'\\u51fa\\u5834', u'\\uff0c', u'\\u5531', u'\\u5230', u'\\u65e5\\u6587', u'\\u6b4c', u'\\u300a', u'\\u5996\\u602a', u'\\u624b', u'\\u9336', u'\\u300b', u'\\u6642', u'\\uff0c', u'\\u9084\\u671d', u'\\u53f0\\u4e0b', u'\\u4e1f', u'\\u300a', u'\\u5996\\u602a', u'\\u624b', u'\\u9336', u'\\u300b', u'\\u4eba\\u6c23', u'\\u89d2\\u8272', u'\\u5409\\u80d6\\u8c93', u'\\u73a9\\u5076', u'\\uff0c', u'\\u4e4b', u'\\u5f8c', u'\\u5979', u'\\u63db\\u4e0a', u'\\u958b\\u9ad8\\u8869', u'\\u7d05\\u767d\\u88dd', u'\\u5316\\u8eab', u'\\u6027\\u611f', u'\\u8c93\\u5973', u'\\uff0c', u'\\u4e58\\u5750', u'\\u7d05\\u8272', u'\\u507d\\u9f8d\\u8c93', u'\\u9053\\u5177', u'\\u8eca\\u51fa\\u5834', u'\\uff0c', u'\\u6027\\u611f', u'\\u6307\\u6578', u'\\u7834\\u8868', u'\\uff0c', u'\\u5168\\u5834', u'\\u5171\\u63db', u'7', u'\\u5957\\u670d', u'\\u88dd', u'\\u3002', u'\\u856d\\u4e9e\\u8ed2', u'\\u4e5f', u'\\u5728', u'\\u5bd2\\u98a8\\u4e2d', u'\\u6fd5\\u8eab', u'\\u8868\\u6f14', u'7', u'\\u9996\\u6b4c', u'\\uff0c', u'\\u8b93', u'\\u89c0\\u773e', u'\\u55e8', u'\\u7ffb', u'\\u5168\\u5834', u'\\uff01', u'\\u53f0\\u4e2d', u'\\u8de8\\u5e74', u'\\u665a\\u6703', u'\\u5927\\u958b', u'\\u9752\\u6625', u'\\u8db4', u'\\uff0c', u'\\u4e3b\\u6301\\u4eba', u'\\u9ec3', u'\\u5b50', u'\\u4f7c', u'\\u8207', u'\\u90b5\\u5ead', u'\\u9996\\u5ea6', u'\\u642d\\u6a94', u'\\uff0c', u'\\u958b\\u5834', u'\\u5c31', u'\\u626e\\u6210', u'\\u300c', u'MC', u' ', u'HOT', u' ', u'DOG', u'\\u300d', u'\\u53ca', u'\\u5f35\\u9707', u'\\u5dbd', u'\\uff0c', u'\\u5927', u'\\u55c6', u'\\u300c', u'\\u6211\\u611b\\u53f0', u'\\u4e2d', u'\\uff0c', u'\\u53f0\\u4e2d', u'\\u611b\\u6211', u'\\uff0c', u'\\u6709', u'\\u4e86', u'\\u53f0', u'\\u4e2d', u'\\uff0c', u'\\u5916\\u7e23', u'\\u5e02\\u7b97', u'\\u4ec0\\u9ebc', u'\\uff01', u'\\u300d', u'\\u7092', u'\\u71b1\\u6c23\\u6c1b', u'\\u3002', u'\\u5275\\u4f5c', u'\\u6b4c\\u624b', u'\\u8881\\u8a60\\u7433', u'\\u958b\\u5834', u'\\u5f8c', u'\\uff0c', u'MP', u'\\u9b54\\u5e7b', u'\\u529b\\u91cf', u'\\u3001', u'\\u6234\\u611b\\u73b2', u'\\u3001', u'\\u5f90\\u4f73\\u7469', u'\\u3001', u'\\u9673', u'\\u52e2\\u5b89', u'\\u3001', u'\\u674e\\u5343\\u5a1c', u'\\u7b49', u'\\u85dd\\u4eba', u'\\u63a5\\u529b', u'\\u71b1\\u5531', u'\\uff0c', u'\\u5168\\u6c11', u'\\u60c5\\u6b4c', u'\\u5929\\u540e', u'\\u4e01', u'\\u5679', u'\\u300a', u'\\u6211', u'\\u662f', u'\\u4e00', u'\\u96bb', u'\\u5c0f\\u5c0f', u'\\u9ce5', u'\\u300b', u'\\u4e00\\u9023', u'8', u'\\u9996', u'\\u592f\\u6b4c', u'\\uff0c', u'\\u8b93', u'\\u73fe\\u5834', u'15', u'\\u842c\\u6c11\\u773e', u'\\u807d', u'\\u5f97', u'\\u5982\\u75f4\\u5982\\u9189', u'\\u3002', u'\\u5012\\u6578', u'\\u8a08\\u6642', u'\\u65bd\\u653e', u'\\u7159\\u706b', u'\\u5f8c', u'\\uff0c', u'\\u4f0d\\u4f70', u'\\u548c', u'China', u' ', u'Blue', u'\\u4ee5', u'\\u5927\\u578b', u'\\u6f14\\u5531', u'\\u6703', u'\\u898f\\u6a21', u'\\uff0c', u'\\u8207\\u6c11\\u773e', u'\\u4e00\\u8d77', u'\\u8e0f\\u5165', u'2016', u'\\u5e74', u'\\u3002', u'\\u53f0\\u5357\\u5e02', u'2016', u'\\u5fc3\\u6642\\u4ee3', u'\\u8de8\\u5e74', u'\\u665a\\u6703', u'\\u6e67\\u5165', u'15', u'\\u842c\\u4eba', u'\\uff0c', u'\\u7531', u'\\u80e1\\u74dc', u'\\u7387', u'Janet', u'\\u3001', u'Gino', u'\\u3001', u'\\u8b1d\\u5ffb', u'\\u7b49', u'\\u4eba', u'\\u4e3b\\u6301', u'\\uff0c', u'\\u5e36\\u4f86', u'\\u68d2\\u7403', u'\\u821e', u'\\u63ed\\u958b', u'\\u5e8f\\u5e55', u'\\u3002', u'\\u6eab\\u5d50\\u5e36', u'\\u9818\\u76e7\\u5b78', u'\\u53e1', u'\\u3001', u'\\u5b89\\u6b46\\u6f90', u'\\u3001', u'\\u66fe\\u744b\\u4e2d', u'\\u3001', u'\\u5433\\u4ea6\\u5e06', u'\\uff0c', u'\\u52a0\\u4e0a', u'100', u'\\u4f4d', u'\\u539f\\u4f4f\\u6c11', u'\\u6b61\\u5531', u'\\uff0c', u'\\u5012\\u6578', u'\\u8fce\\u65b0', u'\\u5f8c', u'\\uff0c', u'\\u7531', u'\\u5927\\u5634\\u5df4', u'\\u58d3\\u8ef8\\u52d5\\u611f', u'\\u6f14\\u51fa', u'\\u3002', u'\\u9ad8\\u96c4', u'\\u6700\\u5927', u'\\u5834\\u5922', u'\\u6642\\u4ee3', u'\\u8de8', u'\\u5e74', u'\\u6f14\\u5531', u'\\u6703', u'\\u7531', u'\\u708e\\u4e9e\\u7db8', u'\\u958b\\u5834', u'\\u5f8c', u'\\uff0c', u'\\u5305\\u62ec', u'\\u9673', u'\\u52e2\\u5b89', u'\\u3001', u'\\u6731\\u4fd0\\u975c', u'\\u3001', u'\\u674e\\u7389\\u74bd', u'\\u7b49', u'\\u6b4c\\u624b', u'\\u63a5\\u529b', u'\\u6f14\\u51fa', u'6', u'\\u500b\\u5c0f\\u6642', u'\\uff0c', u'\\u8b1d\\u91d1\\u71d5', u'\\u7531', u'\\u53f0\\u5317', u'\\u8d95\\u5230', u'\\u9ad8\\u96c4', u'\\u5f8c', u'\\uff0c', u'\\u4e00\\u9023\\u534a\\u500b', u'\\u5c0f\\u6642', u'\\u7121\\u51b7\\u5834', u'\\u7684', u'\\u6f14\\u51fa', u'\\uff0c', u'\\u7279\\u5225', u'\\u7684', u'\\u662f', u'\\u9084', u'\\u63f9', u'\\u4e0a', u'\\u751c\\u751c', u'\\u5708\\u71b1\\u529b', u'\\u958b\\u5531', u'\\uff0c', u'\\u66f4\\u662f', u'\\u8b93', u'\\u73fe\\u5834', u'\\u6c23\\u6c1b', u'\\u55e8', u'\\u5230', u'\\u7ffb', u'\\u3002', u'\\u73fe\\u5834', u'\\u6e67\\u5165', u'70', u'\\u842c\\u540d\\u6c11\\u773e', u'\\uff0c', u'11', u'\\u6642', u'45', u'\\u5206\\u4eba\\u6c23', u'\\u5718\\u9ad4', u'SpeXial', u'\\u4e0a\\u53f0', u'\\u8868\\u6f14', u'\\uff0c', u'\\u63a5\\u8457', u'\\u82b1\\u5abd', u'\\u9673', u'\\u83ca', u'\\u966a\\u6c11\\u773e', u'\\u5012\\u6578', u'\\u8de8', u'\\u5e74', u'\\uff0c', u'\\u8fce\\u63a5', u'2016', u'\\u5e74', u'\\u3002']]\n",
      "367\n"
     ]
    }
   ],
   "source": [
    "#步驟一 :將取得的資料轉成rdd\n",
    "import pymongo\n",
    "from pymongo import MongoClient\n",
    "import jieba\n",
    "#from pyspark import SparkConf, SparkContext\n",
    "#sc = SparkContext()\n",
    "\n",
    "client = MongoClient('10.120.28.12', 27017)\n",
    "database = client[\"test\"]\n",
    "collection = database[\"test2\"]\n",
    "\n",
    "news = []\n",
    "\n",
    "for post in collection.find().limit(2):\n",
    "    content= \"\"\n",
    "    content += \",\".join(jieba.cut(post['content'])) #切好的詞中間用,號隔開，此時content會是一個大字串nuicode\n",
    "    content =  content.split(',')  #相當重要的一步，會根據逗號把切好的詞變成一個一個的字串，並集合成list\n",
    "    news.append(content)           #[[],[]] 這種形式，parallize也可以讀，要兩個文本以上，才能算tfidf\n",
    "print news\n",
    "print len(news[0])\n",
    "    \n",
    "\n",
    "words = sc.parallelize(news)"
   ]
  },
  {
   "cell_type": "code",
   "execution_count": null,
   "metadata": {
    "collapsed": true
   },
   "outputs": [],
   "source": [
    "#步驟二 將資料進行TF計算\n",
    "from pyspark import SparkContext\n",
    "from pyspark.mllib.feature import HashingTF\n",
    "\n",
    "sc = SparkContext()\n",
    "\n",
    "#法一 Load documents (one per line).\n",
    "#documents = sc.textFile(\"...\").map(lambda line: line.split(\" \"))\n",
    "\n",
    "#法二 拿上面的轉好的rdd\n",
    "documents = words\n",
    "\n",
    "hashingTF = HashingTF()\n",
    "tf = hashingTF.transform(documents)"
   ]
  },
  {
   "cell_type": "code",
   "execution_count": null,
   "metadata": {
    "collapsed": true
   },
   "outputs": [],
   "source": [
    "#步驟三 將資料進行IDF 計算\n",
    "from pyspark.mllib.feature import IDF\n",
    "\n",
    "# ... continue from the previous example\n",
    "tf.cache()\n",
    "idf = IDF().fit(tf)\n",
    "tfidf = idf.transform(tf)"
   ]
  },
  {
   "cell_type": "markdown",
   "metadata": {},
   "source": [
    "## 取得較高TFIDF的詞\n",
    "- spark.mllib’s IDF implementation provides an option for ignoring terms which occur in less than a minimum number of documents. In such cases, the IDF for these terms is set to 0. This feature can be used by passing the minDocFreq value to the IDF constructor."
   ]
  },
  {
   "cell_type": "code",
   "execution_count": null,
   "metadata": {
    "collapsed": true
   },
   "outputs": [],
   "source": [
    "#步驟四補充----可將次數較少的字詞忽略掉 = 取得較高的TFIDF詞\n",
    "# ... continue from the previous example\n",
    "tf.cache()\n",
    "idf = IDF(minDocFreq=2).fit(tf)\n",
    "tfidf = idf.transform(tf)"
   ]
  }
 ],
 "metadata": {
  "kernelspec": {
   "display_name": "Python 2",
   "language": "python",
   "name": "python2"
  },
  "language_info": {
   "codemirror_mode": {
    "name": "ipython",
    "version": 2
   },
   "file_extension": ".py",
   "mimetype": "text/x-python",
   "name": "python",
   "nbconvert_exporter": "python",
   "pygments_lexer": "ipython2",
   "version": "2.7.11"
  }
 },
 "nbformat": 4,
 "nbformat_minor": 0
}
