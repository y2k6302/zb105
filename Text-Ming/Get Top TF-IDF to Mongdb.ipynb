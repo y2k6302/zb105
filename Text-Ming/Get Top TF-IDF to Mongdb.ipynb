{
 "cells": [
  {
   "cell_type": "markdown",
   "metadata": {},
   "source": [
    "## 把抓到的TF-IDF 關鍵詞存入資料庫"
   ]
  },
  {
   "cell_type": "code",
   "execution_count": 1,
   "metadata": {
    "collapsed": false
   },
   "outputs": [
    {
     "name": "stderr",
     "output_type": "stream",
     "text": [
      "Building prefix dict from E:\\dics\\dict.txt.big.txt ...\n",
      "Loading model from cache c:\\users\\bigdat~1\\appdata\\local\\temp\\jieba.u56ec63d90e89b3354142c30b3eb89a90.cache\n",
      "Loading model cost 0.515 seconds.\n",
      "Prefix dict has been built succesfully.\n"
     ]
    }
   ],
   "source": [
    "#把使用的套件都匯入\n",
    "import re\n",
    "from pymongo import MongoClient \n",
    "from sklearn.feature_extraction.text import TfidfVectorizer\n",
    "import numpy as np\n",
    "import re\n",
    "import jieba\n",
    "jieba.set_dictionary('E:/dics/dict.txt.big.txt')  #切換至中文繁體字庫\n",
    "jieba.load_userdict(\"E:/dics/dict_keyw.txt\")       #加入自建詞庫\n",
    "\n",
    "#預設就是自己\n",
    "client = MongoClient('10.120.28.12',27017)\n",
    "database = client['test']\n",
    "collection =database['test']"
   ]
  },
  {
   "cell_type": "markdown",
   "metadata": {},
   "source": [
    "## Get Data"
   ]
  },
  {
   "cell_type": "code",
   "execution_count": 2,
   "metadata": {
    "collapsed": false
   },
   "outputs": [
    {
     "name": "stdout",
     "output_type": "stream",
     "text": [
      "文章數: 7135\n",
      "執行時間: 15.3731672151 秒\n"
     ]
    }
   ],
   "source": [
    "import time\n",
    "tic = time.clock()\n",
    "\n",
    "title=[]\n",
    "content =[]\n",
    "#拿資料\n",
    "for post in collection.find(): \n",
    "    summary = post['content']\n",
    "    content.append('/'.join(jieba.cut(summary)))\n",
    "    title.append(post['title'])\n",
    "#總文章數量\n",
    "print \"文章數:\",len(title)\n",
    "toc = time.clock()\n",
    "print \"執行時間:\",(toc - tic),\"秒\""
   ]
  },
  {
   "cell_type": "markdown",
   "metadata": {},
   "source": [
    "## Get Weight & features"
   ]
  },
  {
   "cell_type": "code",
   "execution_count": 3,
   "metadata": {
    "collapsed": false
   },
   "outputs": [
    {
     "name": "stdout",
     "output_type": "stream",
     "text": [
      "特徵值數量: 123652\n"
     ]
    }
   ],
   "source": [
    "from sklearn.feature_extraction.text import TfidfVectorizer\n",
    "import numpy as np\n",
    "\n",
    "vectorizer = TfidfVectorizer()\n",
    "X = vectorizer.fit_transform(content)  # titile 放文本\n",
    "weight = X.toarray()\n",
    "\n",
    "#特徵值總共有多少個\n",
    "features = vectorizer.get_feature_names()     # 拿到所有的關鍵詞  \n",
    "print \"特徵值數量:\",len(features)"
   ]
  },
  {
   "cell_type": "markdown",
   "metadata": {},
   "source": [
    "## Get Top TF-IDF"
   ]
  },
  {
   "cell_type": "code",
   "execution_count": 5,
   "metadata": {
    "collapsed": false
   },
   "outputs": [
    {
     "name": "stdout",
     "output_type": "stream",
     "text": [
      "執行時間: 12.4889157746 秒\n",
      "7135\n",
      "<type 'list'>\n"
     ]
    }
   ],
   "source": [
    "import time\n",
    "tic = time.clock()\n",
    "\n",
    "top_features = []\n",
    "for n in range(0,7135):  #迴圈參考上面的總文章數\n",
    "    indices = np.argsort(weight[n])[::-1]  # transformer = TfidfTransformer()  #X.toarray()[5] 是第幾篇新聞的意思\n",
    "    # 看TOP多少的詞\n",
    "    top_n = 30\n",
    "    top_features.append([features[i] for i in indices[:top_n]])    #這邊的寫法會讓關鍵字中間會有空白\n",
    "    \n",
    "toc = time.clock()\n",
    "print \"執行時間:\",(toc - tic),\"秒\"\n",
    "\n",
    "print len(top_features) #可加一行讓每組關鍵字中間是 /\n",
    "print type(top_features)"
   ]
  },
  {
   "cell_type": "markdown",
   "metadata": {},
   "source": [
    "## Put into Database"
   ]
  },
  {
   "cell_type": "code",
   "execution_count": 6,
   "metadata": {
    "collapsed": false
   },
   "outputs": [
    {
     "name": "stdout",
     "output_type": "stream",
     "text": [
      "執行時間: 9.05286167458 秒\n"
     ]
    }
   ],
   "source": [
    "import time\n",
    "tic = time.clock()\n",
    "\n",
    "obj = collection.find()  #這行一定要加\n",
    "for i in range(0,7135):  #迴圈參考上面的總文章數\n",
    "    collection.update({\"_id\":obj[i][\"_id\"]},{\"$set\":{\"tfidf\":top_features[i]}}) #collection.update即可，$set裡面若沒有該欄位會自動建立\n",
    "\n",
    "toc = time.clock()\n",
    "print \"執行時間:\",(toc - tic),\"秒\""
   ]
  },
  {
   "cell_type": "code",
   "execution_count": 9,
   "metadata": {
    "collapsed": false
   },
   "outputs": [
    {
     "name": "stdout",
     "output_type": "stream",
     "text": [
      "龜速車\n",
      "五月天\n"
     ]
    }
   ],
   "source": [
    "# Check\n",
    "#存放方式 \"tfidf1\" : [ \"最新民調\", \"成則\", \"強國\", \"大陸人\", \"釣魚台主權\", \"中日關係\", \"爭端\", \"中日\", \"環球時報\"]\n",
    "\n",
    "obj = collection.find()\n",
    "print obj[110]['tfidf'][0]  #看第幾篇新聞的tf-idf屬性以及看第幾個元素\n",
    "print top_features[1][2]"
   ]
  },
  {
   "cell_type": "markdown",
   "metadata": {
    "collapsed": true
   },
   "source": [
    "## 多月份同時倒入"
   ]
  },
  {
   "cell_type": "code",
   "execution_count": null,
   "metadata": {
    "collapsed": true
   },
   "outputs": [],
   "source": [
    "import re\n",
    "from pymongo import MongoClient \n",
    "from sklearn.feature_extraction.text import TfidfVectorizer\n",
    "import numpy as np\n",
    "import re\n",
    "import jieba\n",
    "jieba.set_dictionary('E:/text_mining/dict.txt')  #切換至中文繁體字庫\n",
    "jieba.load_userdict('E:/text_mining/dict_keyw.txt')  #\n",
    "jieba.load_userdict('E:/text_mining/dict_cbdic.txt')  #\n",
    "#預設就是自己\n",
    "client = MongoClient('10.120.28.14',27017)\n",
    "database = client['news']\n",
    "collection =database['news']"
   ]
  },
  {
   "cell_type": "code",
   "execution_count": null,
   "metadata": {
    "collapsed": true
   },
   "outputs": [],
   "source": [
    "from sklearn.feature_extraction.text import TfidfVectorizer\n",
    "import numpy as np\n",
    "import time\n",
    "\n",
    "for ii in range (1,10):\n",
    "    a=collection.find(\n",
    "        {\"$and\":[                   \n",
    "                {\"comp\":{\"$regex\":\"ebc\"}},\n",
    "                {\"date\":{\"$regex\":\"20130{}\".format(ii)}}           #計算當月文章數\n",
    "                ]},{\"_id\":0}).count()    \n",
    "    content =[]\n",
    "    tStart=time.time() #計算所需時間(計時開始)\n",
    "    \n",
    "    for post in collection.find(\n",
    "        {\"$and\":[                   \n",
    "                {\"comp\":{\"$regex\":\"ebc\"}},                              #尋找一個月新聞(報社手動修改)\n",
    "                {\"date\":{\"$regex\":\"20130{}\".format(ii)}}\n",
    "                ]}): \n",
    "        summary = post['content']\n",
    "        content.append('/'.join(jieba.cut(summary)))\n",
    "\n",
    "    vectorizer = TfidfVectorizer()\n",
    "    X = vectorizer.fit_transform(content)  # titile 放文本\n",
    "    weight = X.toarray()\n",
    "    features = vectorizer.get_feature_names()     # 拿到所有的關鍵詞  \n",
    "\n",
    "    top_features = []\n",
    "    for n in range(0,a):  #迴圈參考上面的總文章數\n",
    "        indices = np.argsort(weight[n])[::-1]  # transformer = TfidfTransformer()  #X.toarray()[5] 是第幾篇新聞的意思\n",
    "        # 看TOP多少的詞\n",
    "        top_n = 40\n",
    "        top_features.append([features[i] for i in indices[:top_n]])    #這邊的寫法會讓關鍵字中間會有空白     \n",
    "\n",
    "    obj=collection.find(\n",
    "        {\"$and\":[                                                                  #尋找一個月新聞(報社手動修改)\n",
    "                {\"comp\":{\"$regex\":\"ebc\"}},                               \n",
    "                {\"date\":{\"$regex\":\"20130{}\".format(ii)}}\n",
    "                ]})\n",
    "    for i in range(0,a):  #迴圈參考上面的總文章數\n",
    "        collection.update({\"_id\":obj[i][\"_id\"]},{\"$set\":{\"tfidf\":top_features[i]}}) #collection.update即可\n",
    "\n",
    "    tEnd = time.time() #記時(時間結束)\n",
    "    print '完成',len(top_features),'筆'    \n",
    "\n",
    "    \n",
    "    \n",
    "    del content[:]  #清除list暫存記憶體\n",
    "    del top_features[:]  #清除list暫存記憶體\n",
    "    \n",
    "    print ' 花了 {} s'.format(tEnd-tStart)    #將經過時間print 出來"
   ]
  }
 ],
 "metadata": {
  "kernelspec": {
   "display_name": "Python 2",
   "language": "python",
   "name": "python2"
  },
  "language_info": {
   "codemirror_mode": {
    "name": "ipython",
    "version": 2
   },
   "file_extension": ".py",
   "mimetype": "text/x-python",
   "name": "python",
   "nbconvert_exporter": "python",
   "pygments_lexer": "ipython2",
   "version": "2.7.11"
  }
 },
 "nbformat": 4,
 "nbformat_minor": 0
}
