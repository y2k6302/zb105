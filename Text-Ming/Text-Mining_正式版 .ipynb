{
 "cells": [
  {
   "cell_type": "markdown",
   "metadata": {},
   "source": [
    "## MongoDB連線"
   ]
  },
  {
   "cell_type": "code",
   "execution_count": 1,
   "metadata": {
    "collapsed": true
   },
   "outputs": [],
   "source": [
    "import re\n",
    "from pymongo import MongoClient \n",
    "\n",
    "#預設就是自己\n",
    "client = MongoClient('10.120.28.12',27017)\n",
    "database = client['test']\n",
    "collection =database['test2']"
   ]
  },
  {
   "cell_type": "markdown",
   "metadata": {},
   "source": [
    "## Search + Jieba"
   ]
  },
  {
   "cell_type": "code",
   "execution_count": 7,
   "metadata": {
    "collapsed": false
   },
   "outputs": [
    {
     "name": "stderr",
     "output_type": "stream",
     "text": [
      "Building prefix dict from E:\\dics\\dict.txt.big.txt ...\n",
      "Loading model from cache c:\\users\\bigdat~1\\appdata\\local\\temp\\jieba.u56ec63d90e89b3354142c30b3eb89a90.cache\n",
      "Loading model cost 0.579 seconds.\n",
      "Prefix dict has been built succesfully.\n"
     ]
    },
    {
     "name": "stdout",
     "output_type": "stream",
     "text": [
      "周六拼「一日雙塔」,柯將缺席228紀念\n",
      "文章數: 7\n"
     ]
    }
   ],
   "source": [
    "import re\n",
    "import jieba\n",
    "jieba.set_dictionary('E:/dics/dict.txt.big.txt')  #切換至中文繁體字庫\n",
    "jieba.load_userdict(\"E:/dics/dict_keyw.txt\")       #加入自建詞庫\n",
    "\n",
    "#給關鍵字----------------------------------------\n",
    "tag1 = \"柯文哲\"\n",
    "tag2 = \"雙塔\"\n",
    "#-----------------------------------------------\n",
    "\n",
    "date=[]\n",
    "title=[]\n",
    "content =[]\n",
    "#把資料庫東西抓出來\n",
    "for post in collection.find(\n",
    "    {\"$and\":[                   \n",
    "            {\"tfidf\":{\"$regex\":tag1}},\n",
    "            {\"tfidf\":{\"$regex\":tag2}},\n",
    "            #{\"date\":{\"$regex\":\"2016\"}},\n",
    "            ]},{\"_id\":0}): \n",
    "    summary = post['content']\n",
    "    content.append(' '.join(jieba.cut(summary)))\n",
    "    title.append(post['title'])\n",
    "    date.append(post['date'])\n",
    "\n",
    "print title[0]\n",
    "\n",
    "#文章數\n",
    "print \"文章數:\",len(title)"
   ]
  },
  {
   "cell_type": "markdown",
   "metadata": {},
   "source": [
    "## TF-IDF"
   ]
  },
  {
   "cell_type": "code",
   "execution_count": 8,
   "metadata": {
    "collapsed": false
   },
   "outputs": [
    {
     "name": "stdout",
     "output_type": "stream",
     "text": [
      "Feature_num 762\n",
      "[[ 0.          0.          0.         ...,  0.08691511  0.08053426  0.        ]\n",
      " [ 0.          0.          0.         ...,  0.          0.          0.        ]\n",
      " [ 0.          0.          0.         ...,  0.04529932  0.          0.        ]\n",
      " ..., \n",
      " [ 0.          0.          0.         ...,  0.          0.          0.        ]\n",
      " [ 0.          0.          0.         ...,  0.02600163  0.          0.04818545]\n",
      " [ 0.          0.          0.05727385 ...,  0.03723214  0.          0.        ]]\n"
     ]
    }
   ],
   "source": [
    "from sklearn.feature_extraction.text import TfidfVectorizer\n",
    "import numpy as np\n",
    "\n",
    "vectorizer = TfidfVectorizer()\n",
    "X = vectorizer.fit_transform(content)  # titile 放文本\n",
    "weight = X.toarray()\n",
    "\n",
    "#特徵值總共有多少個\n",
    "print \"Feature_num\",len(vectorizer.get_feature_names())\n",
    "\n",
    "#透過toarray()可看到詞頻矩陣的结果\n",
    "print X.toarray()"
   ]
  },
  {
   "cell_type": "markdown",
   "metadata": {},
   "source": [
    "## Get TOP TF-IDF"
   ]
  },
  {
   "cell_type": "code",
   "execution_count": 24,
   "metadata": {
    "collapsed": true
   },
   "outputs": [
    {
     "name": "stdout",
     "output_type": "stream",
     "text": [
      "高雄 0.264653264044\n",
      "台61 0.21489576309\n",
      "周六 0.176597262025\n",
      "打氣 0.154745909422\n",
      "雲林 0.146709142477\n",
      "台北 0.135460848368\n",
      "楠梓 0.129966348716\n",
      "百八十 0.12522026791\n",
      "有網友 0.121207513765\n",
      "候選人 0.111922774565\n",
      "單車挑戰 0.111922774565\n",
      "北市 0.107456391972\n",
      "01 0.10717669376\n",
      "立委候選人 0.0996879338663\n",
      "路線 0.0981097916048\n",
      "騎單車 0.0979212180122\n",
      "規劃 0.088070466964\n",
      "凌晨 0.0816443597161\n",
      "沿途 0.0808433311316\n",
      "清晨 0.0785783053526\n",
      "他本 0.0769093281585\n",
      "十二位 0.0769093281585\n",
      "大卡車 0.0769093281585\n",
      "昨被 0.0769093281585\n",
      "頂多 0.0769093281585\n",
      "高潮 0.0769093281585\n",
      "共三 0.0769093281585\n",
      "柯曾 0.0769093281585\n",
      "二世 0.0769093281585\n",
      "竹圍漁港 0.0769093281585\n",
      "數天 0.0769093281585\n",
      "二十一 0.0769093281585\n",
      "超馬 0.0769093281585\n",
      "二時 0.0769093281585\n",
      "月底 0.0769093281585\n",
      "不難 0.0769093281585\n",
      "騎三 0.0769093281585\n",
      "大部分 0.0769093281585\n",
      "channel 0.0769093281585\n",
      "安南 0.0769093281585\n",
      "搶鏡 0.0769093281585\n",
      "平地 0.0769093281585\n",
      "稱柯是 0.0769093281585\n",
      "小山坡 0.0769093281585\n",
      "新竹 0.0764946836174\n",
      "15 0.075835626265\n",
      "幕僚 0.073953020007\n",
      "城市 0.0721974307398\n",
      "媒體 0.071637594648\n",
      "注意安全 0.07163192103\n",
      "柯上 0.07163192103\n",
      "五十七歲 0.07163192103\n",
      "一個月 0.07163192103\n",
      "張博亭 0.07163192103\n",
      "超強 0.07163192103\n",
      "09 0.07163192103\n",
      "五時 0.07163192103\n",
      "周日 0.07163192103\n",
      "熱議 0.07163192103\n",
      "單日 0.07163192103\n",
      "柯比 0.07163192103\n",
      "預計 0.0695114031978\n",
      "公里 0.0683358171235\n",
      "柯笑 0.0678875410834\n",
      "永安漁港 0.0678875410834\n",
      "三天 0.0678875410834\n",
      "麥寮 0.0678875410834\n",
      "按照 0.0678875410834\n",
      "下班 0.0678875410834\n",
      "應是 0.0678875410834\n",
      "整理 0.0678875410834\n",
      "碰到 0.0678875410834\n",
      "途經 0.0678875410834\n",
      "苗栗後龍 0.0678875410834\n",
      "造勢 0.0678875410834\n",
      "騎騎 0.0649831743578\n",
      "太猛 0.0649831743578\n",
      "差不多 0.0649831743578\n",
      "先生 0.0649831743578\n",
      "作秀 0.0649831743578\n",
      "一個多 0.0649831743578\n",
      "不怕 0.0649831743578\n",
      "管嶼 0.0649831743578\n",
      "比照 0.0649831743578\n",
      "來源 0.0649831743578\n",
      "kptaipei 0.0649831743578\n",
      "各地 0.0649831743578\n",
      "芳苑 0.0649831743578\n",
      "這次 0.0636007855659\n",
      "致辭 0.0626101339549\n",
      "in 0.0626101339549\n",
      "採訪 0.0626101339549\n",
      "人數 0.0606037568825\n",
      "嚴峻 0.0606037568825\n",
      "伸港 0.0606037568825\n",
      "蘋果 0.0606037568825\n",
      "大安 0.0606037568825\n",
      "選手 0.0588657540083\n",
      "飯店 0.0588657540083\n",
      "昨在 0.0588657540083\n",
      "[10747  2713  2926 ...,  7195  7194     0]\n",
      "0.264653264044\n",
      "0.21489576309\n"
     ]
    }
   ],
   "source": [
    "# 抓出TOP TF-IDF \n",
    "\n",
    "indices = np.argsort(X.toarray()[0])[::-1]  # transformer = TfidfTransformer()  #X.toarray()[5] 是第幾篇新聞的意思\n",
    "features = vectorizer.get_feature_names()     # vectorizer = CountVectorizer()\n",
    "\n",
    "#要看前幾名的權重\n",
    "top_n = 100\n",
    "top_features = [features[i] for i in indices[:top_n]]\n",
    "\n",
    "a=0\n",
    "for i in top_features:\n",
    "    print i,weight[0][indices[a]]\n",
    "    a=a+1\n",
    "    \n",
    "#單獨看前幾名的權重值    \n",
    "print indices\n",
    "print weight[0][indices[0]]\n",
    "print weight[0][indices[1]]"
   ]
  },
  {
   "cell_type": "markdown",
   "metadata": {},
   "source": [
    "## Clustering"
   ]
  },
  {
   "cell_type": "code",
   "execution_count": 16,
   "metadata": {
    "collapsed": true
   },
   "outputs": [],
   "source": [
    "from sklearn import cluster\n",
    "c = cluster.KMeans(n_clusters=2)\n",
    "k_data = c.fit_predict(weight)  # weight 直接拿來用 或放 X 有多算一層TF_IDF 分群效果會好一點"
   ]
  },
  {
   "cell_type": "code",
   "execution_count": 19,
   "metadata": {
    "collapsed": false
   },
   "outputs": [
    {
     "name": "stdout",
     "output_type": "stream",
     "text": [
      "周六拼「一日雙塔」,柯將缺席228紀念 20160225\n",
      "-------------------------------\n",
      "57歲拼520公里「勿輕易嘗試」 20160228\n",
      "-------------------------------\n",
      "太強了,太痛苦了,28小時騎完雙塔,柯：絕不再幹 20160229\n",
      "-------------------------------\n",
      "【空拍】柯P抵達鵝鑾鼻燈塔瞬間 20160229\n",
      "-------------------------------\n",
      "柯玩洋單車,歪歪扭扭 20160301\n",
      "-------------------------------\n",
      "柯文哲戰駒,今午1元起標雙城雙塔2車值37萬,標金捐作公益 20160304\n",
      "戰駒飆74萬,柯允陪騎2分鐘 20160306\n"
     ]
    }
   ],
   "source": [
    "for idx, grp in enumerate(k_data):\n",
    "    if grp == 0:\n",
    "        print title[idx],date[idx]\n",
    "        print \"-------------------------------\"\n",
    "    if grp == 1:\n",
    "        print title[idx],date[idx]"
   ]
  },
  {
   "cell_type": "code",
   "execution_count": 36,
   "metadata": {
    "collapsed": false
   },
   "outputs": [
    {
     "name": "stdout",
     "output_type": "stream",
     "text": [
      "<type 'list'>\n",
      "5\n"
     ]
    }
   ],
   "source": [
    "grp1_news = []\n",
    "grp2_news = []\n",
    "for idx, grp in enumerate(k_data):\n",
    "    if grp == 0:\n",
    "        news =  {\n",
    "            'title':title[idx],\n",
    "            'date':date[idx]\n",
    "        }\n",
    "        grp1_news.append(news)\n",
    "    if grp == 1:\n",
    "        news =  {\n",
    "            'title':title[idx],\n",
    "            'date':date[idx]\n",
    "        }\n",
    "        grp2_news.append(news)\n",
    "print type(grp1_news)\n",
    "print len(grp1_news)"
   ]
  },
  {
   "cell_type": "markdown",
   "metadata": {},
   "source": [
    "## 全文切詞把重要的TF-IDF存進資料庫中"
   ]
  },
  {
   "cell_type": "code",
   "execution_count": 2,
   "metadata": {
    "collapsed": true
   },
   "outputs": [],
   "source": [
    "import re\n",
    "from pymongo import MongoClient \n",
    "\n",
    "#預設就是自己\n",
    "client = MongoClient('10.120.28.12',27017)\n",
    "database = client['test']\n",
    "collection =database['test']"
   ]
  },
  {
   "cell_type": "code",
   "execution_count": 3,
   "metadata": {
    "collapsed": false
   },
   "outputs": [
    {
     "name": "stderr",
     "output_type": "stream",
     "text": [
      "Building prefix dict from E:\\dics\\dict.txt.big.txt ...\n",
      "Loading model from cache c:\\users\\bigdat~1\\appdata\\local\\temp\\jieba.u56ec63d90e89b3354142c30b3eb89a90.cache\n",
      "Loading model cost 0.477 seconds.\n",
      "Prefix dict has been built succesfully.\n"
     ]
    },
    {
     "name": "stdout",
     "output_type": "stream",
     "text": [
      "吳育昇開砲,「內閣定要改組」國營工會抗議砍年終,「誰要出來祭旗」\n",
      "燦爛跨年,歡動全台\n",
      "文章數: 7135\n"
     ]
    }
   ],
   "source": [
    "import re\n",
    "import jieba\n",
    "jieba.set_dictionary('E:/dics/dict.txt.big.txt')  #切換至中文繁體字庫\n",
    "jieba.load_userdict(\"E:/dics/dict_keyw.txt\")       #加入自建詞庫\n",
    "\n",
    "title=[]\n",
    "content =[]\n",
    "#把資料庫東西抓出來\n",
    "for post in collection.find(): \n",
    "    summary = post['content']\n",
    "    content.append('/'.join(jieba.cut(summary)))\n",
    "    title.append(post['title'])\n",
    "\n",
    "print title[2000]\n",
    "print title[1]\n",
    "\n",
    "#文章數\n",
    "print \"文章數:\",len(title)"
   ]
  },
  {
   "cell_type": "code",
   "execution_count": 4,
   "metadata": {
    "collapsed": false
   },
   "outputs": [
    {
     "name": "stdout",
     "output_type": "stream",
     "text": [
      "Feature_num 123652\n",
      "[[ 0.  0.  0. ...,  0.  0.  0.]\n",
      " [ 0.  0.  0. ...,  0.  0.  0.]\n",
      " [ 0.  0.  0. ...,  0.  0.  0.]\n",
      " ..., \n",
      " [ 0.  0.  0. ...,  0.  0.  0.]\n",
      " [ 0.  0.  0. ...,  0.  0.  0.]\n",
      " [ 0.  0.  0. ...,  0.  0.  0.]]\n"
     ]
    }
   ],
   "source": [
    "from sklearn.feature_extraction.text import TfidfVectorizer\n",
    "import numpy as np\n",
    "\n",
    "vectorizer = TfidfVectorizer()\n",
    "X = vectorizer.fit_transform(content)  # titile 放文本\n",
    "weight = X.toarray()\n",
    "\n",
    "#特徵值總共有多少個\n",
    "print \"Feature_num\",len(vectorizer.get_feature_names())\n",
    "\n",
    "#透過toarray()可看到詞頻矩陣的结果\n",
    "print X.toarray()"
   ]
  },
  {
   "cell_type": "code",
   "execution_count": 33,
   "metadata": {
    "collapsed": true
   },
   "outputs": [
    {
     "name": "stdout",
     "output_type": "stream",
     "text": [
      "2013,台灣起舞\n",
      "煙火 0.611499711968\n",
      "施放 0.229148200446\n",
      "大樓 0.223928031396\n",
      "台北101 0.205642084524\n",
      "萬發 0.138123338697\n",
      "時代廣場 0.131524216952\n",
      "煙火秀 0.129015347303\n",
      "義大世界 0.116611185047\n",
      "環繞 0.112763854427\n",
      "搭配 0.095313843372\n",
      "遊客 0.0869158483401\n",
      "全場 0.0777828754576\n",
      "法國廠商 0.0747023059167\n",
      "氣勢十足 0.0747023059167\n",
      "全亮 0.0747023059167\n",
      "接著紅 0.0747023059167\n",
      "跳著 0.0747023059167\n",
      "搭配紅 0.0747023059167\n",
      "由下而上 0.0747023059167\n",
      "幸福家庭 0.0747023059167\n",
      "全台 0.0737370614413\n",
      "大樓外牆 0.0714027450441\n",
      "549 0.0714027450441\n",
      "夜空 0.0714027450441\n",
      "塔尖 0.0714027450441\n",
      "火鳥 0.0714027450441\n",
      "光束 0.0714027450441\n",
      "造型 0.0712170708926\n",
      "大朵 0.0690616693485\n",
      "祝福語 0.0690616693485\n",
      "逗樂 0.0690616693485\n",
      "繞著 0.0690616693485\n",
      "華爾滋 0.0690616693485\n",
      "北海小英雄 0.0690616693485\n",
      "手語 0.0672457899642\n",
      "劍湖山世界 0.0672457899642\n",
      "爆開 0.0672457899642\n",
      "亮出 0.0672457899642\n",
      "古典樂 0.0672457899642\n",
      "整棟 0.0672457899642\n",
      "設計概念 0.065762108476\n",
      "飛舞 0.065762108476\n",
      "煙花 0.065762108476\n",
      "明快 0.0645076736517\n",
      "金龍 0.0645076736517\n",
      "台灣史 0.0645076736517\n",
      "地形 0.0645076736517\n",
      "照亮 0.0634210327804\n",
      "跑馬燈 0.0624625476034\n",
      "570 0.0624625476034\n",
      "[79936 64472 42128 ..., 82417 82418     0]\n",
      "0.611499711968\n",
      "0.229148200446\n"
     ]
    }
   ],
   "source": [
    "# 抓出TOP TF-IDF \n",
    "# (X.toarray()[2000]) 填入文章編號(我要看第2000號的文章)\n",
    "indices = np.argsort(weight[0])[::-1]  # transformer = TfidfTransformer()  #X.toarray()[5] 是第幾篇新聞的意思\n",
    "features = vectorizer.get_feature_names()     # vectorizer = CountVectorizer()\n",
    "\n",
    "\n",
    "#印出該編號文章的標題\n",
    "print title[0]\n",
    "\n",
    "# top_n = 50 填入要看TOP多少的詞(我要看前50名)\n",
    "top_n = 50\n",
    "top_features = [features[i] for i in indices[:top_n]]\n",
    "\n",
    "a=0\n",
    "for i in top_features:\n",
    "    print i,weight[0][indices[a]]  #weight[2000] 裡面請填入跟上面一樣的文章編號\n",
    "    a=a+1\n",
    "    \n",
    "#單獨看前幾名的權重值    \n",
    "print indices\n",
    "print weight[0][indices[0]]"
   ]
  }
 ],
 "metadata": {
  "kernelspec": {
   "display_name": "Python 2",
   "language": "python",
   "name": "python2"
  },
  "language_info": {
   "codemirror_mode": {
    "name": "ipython",
    "version": 2
   },
   "file_extension": ".py",
   "mimetype": "text/x-python",
   "name": "python",
   "nbconvert_exporter": "python",
   "pygments_lexer": "ipython2",
   "version": "2.7.11"
  }
 },
 "nbformat": 4,
 "nbformat_minor": 0
}
