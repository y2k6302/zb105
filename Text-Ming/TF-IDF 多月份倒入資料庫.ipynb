{
 "cells": [
  {
   "cell_type": "code",
   "execution_count": 2,
   "metadata": {
    "collapsed": false
   },
   "outputs": [
    {
     "name": "stderr",
     "output_type": "stream",
     "text": [
      "Building prefix dict from E:\\dics\\dict.txt.big.txt ...\n",
      "Loading model from cache c:\\users\\bigdat~1\\appdata\\local\\temp\\jieba.u56ec63d90e89b3354142c30b3eb89a90.cache\n",
      "Loading model cost 0.480 seconds.\n",
      "Prefix dict has been built succesfully.\n"
     ]
    }
   ],
   "source": [
    "import re\n",
    "from pymongo import MongoClient \n",
    "from sklearn.feature_extraction.text import TfidfVectorizer\n",
    "import numpy as np\n",
    "import re\n",
    "import jieba\n",
    "jieba.set_dictionary('E:/dics/dict.txt.big.txt')  #切換至中文繁體字庫\n",
    "jieba.load_userdict('E:/dics/dict_keyw.txt')  #\n",
    "jieba.load_userdict('E:/dics/dict_cbdic.txt')  #\n",
    "#預設就是自己\n",
    "client = MongoClient('10.120.28.14',27017)  #不用修改  字典檔請改位子\n",
    "database = client['news']\n",
    "collection =database['news']"
   ]
  },
  {
   "cell_type": "markdown",
   "metadata": {},
   "source": [
    "# 執行前修改comp:報社   date:修改年份(下方共有3個find需修改)"
   ]
  },
  {
   "cell_type": "code",
   "execution_count": 10,
   "metadata": {
    "collapsed": false
   },
   "outputs": [
    {
     "name": "stderr",
     "output_type": "stream",
     "text": [
      "C:\\Users\\BIG DATA\\Anaconda2\\lib\\site-packages\\ipykernel\\__main__.py:40: DeprecationWarning: update is deprecated. Use replace_one, update_one or update_many instead.\n"
     ]
    },
    {
     "name": "stdout",
     "output_type": "stream",
     "text": [
      "完成 11985 筆\n",
      " 花了 9632.61599994 s\n",
      "完成 10255 筆\n",
      " 花了 8017.80100012 s\n",
      "完成 13213 筆\n",
      " 花了 9225.49699998 s\n",
      "完成 12322 筆\n",
      " 花了 7894.35099983 s\n",
      "完成 12656 筆\n",
      " 花了 7970.48800015 s\n",
      "完成 12649 筆\n",
      " 花了 8084.96399999 s\n",
      "完成 13733 筆\n",
      " 花了 10666.579 s\n",
      "完成 13253 筆\n",
      " 花了 11118.25 s\n",
      "完成 13467 筆\n",
      " 花了 11885.26 s\n"
     ]
    }
   ],
   "source": [
    "from sklearn.feature_extraction.text import TfidfVectorizer\n",
    "import numpy as np\n",
    "import time\n",
    "\n",
    "for ii in range (1,10):   # 1-9月    10月後改為10-13再執行\n",
    "    a=collection.find(\n",
    "        {\"$and\":[                   \n",
    "                {\"comp\":{\"$regex\":\"ebc\"}},\n",
    "                {\"date\":{\"$regex\":\"20150{}\".format(ii)}}           #計算當月文章數\n",
    "                ]},{\"_id\":0}).count()    \n",
    "    content =[]\n",
    "    tStart=time.time() #計算所需時間(計時開始)\n",
    "    \n",
    "    for post in collection.find(\n",
    "        {\"$and\":[                   \n",
    "                {\"comp\":{\"$regex\":\"ebc\"}},                              #尋找一個月新聞(報社手動修改)\n",
    "                {\"date\":{\"$regex\":\"20150{}\".format(ii)}}        #10-12月請將0去掉\n",
    "                ]}): \n",
    "        summary = post['content']\n",
    "        content.append('/'.join(jieba.cut(summary)))\n",
    "\n",
    "    vectorizer = TfidfVectorizer()\n",
    "    X = vectorizer.fit_transform(content)  # titile 放文本\n",
    "    weight = X.toarray()\n",
    "    features = vectorizer.get_feature_names()     # 拿到所有的關鍵詞  \n",
    "\n",
    "    top_features = []\n",
    "    for n in range(0,a):  #迴圈參考上面的總文章數\n",
    "        indices = np.argsort(weight[n])[::-1]  # transformer = TfidfTransformer()  #X.toarray()[5] 是第幾篇新聞的意思\n",
    "        # 看TOP多少的詞\n",
    "        top_n = 40\n",
    "        top_features.append([features[i] for i in indices[:top_n]])    #這邊的寫法會讓關鍵字中間會有空白     \n",
    "\n",
    "    obj=collection.find(\n",
    "        {\"$and\":[                                                                  #尋找一個月新聞(報社手動修改)\n",
    "                {\"comp\":{\"$regex\":\"ebc\"}},                               \n",
    "                {\"date\":{\"$regex\":\"20150{}\".format(ii)}}\n",
    "                ]})\n",
    "    for i in range(0,a):  #迴圈參考上面的總文章數\n",
    "        collection.update({\"_id\":obj[i][\"_id\"]},{\"$set\":{\"tfidf\":top_features[i]}}) #collection.update即可\n",
    "\n",
    "    tEnd = time.time() #記時(時間結束)\n",
    "    print '完成',len(top_features),'筆'    \n",
    "\n",
    "    \n",
    "    \n",
    "    del content[:]  #清除list暫存記憶體\n",
    "    del top_features[:]  #清除list暫存記憶體\n",
    "    \n",
    "    print ' 花了 {} s'.format(tEnd-tStart)    #將經過時間print 出來"
   ]
  },
  {
   "cell_type": "code",
   "execution_count": null,
   "metadata": {
    "collapsed": true
   },
   "outputs": [],
   "source": []
  }
 ],
 "metadata": {
  "kernelspec": {
   "display_name": "Python 2",
   "language": "python",
   "name": "python2"
  },
  "language_info": {
   "codemirror_mode": {
    "name": "ipython",
    "version": 2
   },
   "file_extension": ".py",
   "mimetype": "text/x-python",
   "name": "python",
   "nbconvert_exporter": "python",
   "pygments_lexer": "ipython2",
   "version": "2.7.11"
  }
 },
 "nbformat": 4,
 "nbformat_minor": 0
}
