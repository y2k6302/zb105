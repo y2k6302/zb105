{
 "cells": [
  {
   "cell_type": "markdown",
   "metadata": {},
   "source": [
    "## Jieba\n",
    "\n",
    "- 支持三种分词模式：\n",
    "\n",
    "- 精确模式，试图将句子最精确地切开，适合文本分析；\n",
    "- 全模式，把句子中所有的可以成词的词语都扫描出来, 速度非常快，但是不能解决歧义；\n",
    "- 搜索引擎模式，在精确模式的基础上，『对长词再次切分』，提高召回率，适合用于搜索引擎分词。"
   ]
  },
  {
   "cell_type": "markdown",
   "metadata": {},
   "source": [
    "## 簡體字庫"
   ]
  },
  {
   "cell_type": "code",
   "execution_count": 10,
   "metadata": {
    "collapsed": false
   },
   "outputs": [
    {
     "name": "stdout",
     "output_type": "stream",
     "text": [
      "陳 彥廷 ， 蔡 英文 ， 韓國 女團 「 TWICE 」 成員 、 16 歲 台灣 正妹 周子 瑜 ， 回台 參加 學力 鑑定 考試並 與 親友 師長 會面 後 ， 結束 短短 不到 2 天 行程 ， 今 清晨 5 時 35 分在 隨 行人 員 陪同 下 抵達 高雄 小港 機場 ， 5 時 39 分進 入出境 管制 門 ， 將 搭乘 上午 7 時華航 CI0164 班機 直飛 韓國 仁川 機場 ， 預計 上午 10 時 45 分 抵達\n"
     ]
    }
   ],
   "source": [
    "import jieba\n",
    "for ele in jieba.cut('陳彥廷，蔡英文，韓國女團「TWICE」成員、16歲台灣正妹周子瑜，回台參加學力鑑定考試並與親友師長會面後，結束短短不到2天行程，今清晨5時35分在隨行人員陪同下抵達高雄小港機場，5時39分進入出境管制門，將搭乘上午7時華航CI0164班機直飛韓國仁川機場，預計上午10時45分抵達'):\n",
    "    print ele,"
   ]
  },
  {
   "cell_type": "markdown",
   "metadata": {},
   "source": [
    "## 繁體字庫"
   ]
  },
  {
   "cell_type": "code",
   "execution_count": 8,
   "metadata": {
    "collapsed": false
   },
   "outputs": [
    {
     "name": "stderr",
     "output_type": "stream",
     "text": [
      "Building prefix dict from E:\\text_mining\\dict.txt.big.txt ...\n",
      "Loading model from cache c:\\users\\bigdat~1\\appdata\\local\\temp\\jieba.uc6c041d0ae2bfad9e04be6bb06f4ae3e.cache\n",
      "Loading model cost 0.554 seconds.\n",
      "Prefix dict has been built succesfully.\n"
     ]
    },
    {
     "name": "stdout",
     "output_type": "stream",
     "text": [
      "陳 彥 廷   蔡 英文   韓國 女團  TWICE  成員  16 歲 台 灣 正 妹 周 子 瑜 ____________________________________________________\n",
      "陳 彥廷 ， 蔡 英文 ， 韓國 女團 「 TWICE 」 成員 、 16 歲 台灣 正妹 周子 瑜\n"
     ]
    }
   ],
   "source": [
    "import jieba\n",
    "\n",
    "jieba.set_dictionary('E:/text_mining/dict.txt.big.txt')  #切換至中文繁體字庫\n",
    "\n",
    "seg = \"陳彥廷，蔡英文，韓國女團「TWICE」成員、16歲台灣正妹周子瑜\"\n",
    "\n",
    "##全模式\n",
    "for ele in jieba.cut(seg,cut_all=True):         \n",
    "    print ele,\n",
    "print \"____________________________________________________\"\n",
    "##精確模式\n",
    "for ele in jieba.cut(seg,cut_all=False):         \n",
    "    print ele,"
   ]
  },
  {
   "cell_type": "markdown",
   "metadata": {},
   "source": [
    "## 加入自建詞庫"
   ]
  },
  {
   "cell_type": "code",
   "execution_count": 2,
   "metadata": {
    "collapsed": false
   },
   "outputs": [
    {
     "name": "stderr",
     "output_type": "stream",
     "text": [
      "Building prefix dict from E:\\text_mining\\dict.txt.big.txt ...\n",
      "Loading model from cache c:\\users\\bigdat~1\\appdata\\local\\temp\\jieba.uc6c041d0ae2bfad9e04be6bb06f4ae3e.cache\n",
      "Loading model cost 0.546 seconds.\n",
      "Prefix dict has been built succesfully.\n"
     ]
    },
    {
     "name": "stdout",
     "output_type": "stream",
     "text": [
      "陳彥廷 ， 蔡英文 ， 韓國 女團 「 TWICE 」 成員 、 16 歲 台灣 正妹 周子 瑜\n"
     ]
    }
   ],
   "source": [
    "import jieba\n",
    "jieba.set_dictionary('E:/text_mining/dict.txt.big.txt')  #切換至中文繁體字庫\n",
    "jieba.load_userdict(\"E:/text_mining/userdict.txt\")       #加入自建詞庫\n",
    "\n",
    "seg = \"陳彥廷，蔡英文，韓國女團「TWICE」成員、16歲台灣正妹周子瑜\"\n",
    "for ele in jieba.cut(seg):\n",
    "    print ele,"
   ]
  },
  {
   "cell_type": "markdown",
   "metadata": {},
   "source": [
    "## 3模式比較"
   ]
  },
  {
   "cell_type": "code",
   "execution_count": 13,
   "metadata": {
    "collapsed": false
   },
   "outputs": [
    {
     "name": "stdout",
     "output_type": "stream",
     "text": [
      "Full Mode: 我/ 来到/ 北京/ 清华/ 清华大学/ 华大/ 大学\n",
      "Default Mode: 我/ 来到/ 北京/ 清华大学\n",
      "他, 来到, 了, 网易, 杭研, 大厦\n",
      "小明, 硕士, 毕业, 于, 中国, 科学, 学院, 科学院, 中国科学院, 计算, 计算所, ，, 后, 在, 日本, 京都, 大学, 日本京都大学, 深造\n"
     ]
    }
   ],
   "source": [
    "import jieba\n",
    "\n",
    "seg_list = jieba.cut(\"我来到北京清华大学\", cut_all=True)\n",
    "print(\"Full Mode: \" + \"/ \".join(seg_list))  # 全模式\n",
    "\n",
    "seg_list = jieba.cut(\"我来到北京清华大学\", cut_all=False)\n",
    "print(\"Default Mode: \" + \"/ \".join(seg_list))  # 精确模式\n",
    "\n",
    "seg_list = jieba.cut(\"他来到了网易杭研大厦\")  # 默认是精确模式\n",
    "print(\", \".join(seg_list))\n",
    "\n",
    "seg_list = jieba.cut_for_search(\"小明硕士毕业于中国科学院计算所，后在日本京都大学深造\")  # 搜索引擎模式\n",
    "print(\", \".join(seg_list))"
   ]
  },
  {
   "cell_type": "code",
   "execution_count": null,
   "metadata": {
    "collapsed": true
   },
   "outputs": [],
   "source": []
  }
 ],
 "metadata": {
  "kernelspec": {
   "display_name": "Python 2",
   "language": "python",
   "name": "python2"
  },
  "language_info": {
   "codemirror_mode": {
    "name": "ipython",
    "version": 2
   },
   "file_extension": ".py",
   "mimetype": "text/x-python",
   "name": "python",
   "nbconvert_exporter": "python",
   "pygments_lexer": "ipython2",
   "version": "2.7.11"
  }
 },
 "nbformat": 4,
 "nbformat_minor": 0
}
