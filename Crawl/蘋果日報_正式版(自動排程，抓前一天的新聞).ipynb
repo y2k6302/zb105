{
 "cells": [
  {
   "cell_type": "markdown",
   "metadata": {},
   "source": [
    "## Step0 確認日期"
   ]
  },
  {
   "cell_type": "code",
   "execution_count": 6,
   "metadata": {
    "collapsed": false
   },
   "outputs": [
    {
     "name": "stdout",
     "output_type": "stream",
     "text": [
      "20160520\n"
     ]
    }
   ],
   "source": [
    "import datetime\n",
    "today = datetime.date.today()\n",
    "yesterday = today - datetime.timedelta(days=1)\n",
    "yesterday = yesterday.strftime(\"%Y%m%d\")  \n",
    "#print yesterday"
   ]
  },
  {
   "cell_type": "markdown",
   "metadata": {},
   "source": [
    "## Step1 存取昨天新聞的URL"
   ]
  },
  {
   "cell_type": "code",
   "execution_count": 8,
   "metadata": {
    "collapsed": false
   },
   "outputs": [
    {
     "name": "stdout",
     "output_type": "stream",
     "text": [
      "http://www.appledaily.com.tw/appledaily/archive/20160520\n"
     ]
    }
   ],
   "source": [
    "#把分類跟 url 組合在一起\n",
    "import requests\n",
    "from bs4 import BeautifulSoup\n",
    "from urlparse import urljoin\n",
    "import os\n",
    "import datetime as dt\n",
    "import time\n",
    "#製造日期\n",
    "import datetime\n",
    "today = datetime.date.today()\n",
    "yesterday = today - datetime.timedelta(days=1)\n",
    "yesterday = yesterday.strftime(\"%Y%m%d\")  \n",
    "urls = \"\"\n",
    "#印出每一天的蘋果新聞 url\n",
    "page_url = 'http://www.appledaily.com.tw/appledaily/archive/{}'.format(yesterday)\n",
    "#print page_url  \n",
    "main_url ='http://www.appledaily.com.tw/appledaily'\n",
    "res = requests.get(page_url)\n",
    "soup = BeautifulSoup(res.text)\n",
    "#包含所有種類的div\n",
    "div = soup.select('.abdominis.clearmen')[0]\n",
    "#抓取所有連結\n",
    "#news_url=[]\n",
    "article = div.select('.nclns')\n",
    "\n",
    "#兩層迴圈，把類別跟 url 組合起來\n",
    "for i in article:\n",
    "    f = open('C:/Users/BIG DATA/Desktop/Apple_news/{}.text'.format(yesterday),'w')\n",
    "    category = i.select('h2')[0].text.encode(\"utf8\")  \n",
    "    for li in i.select('li'):\n",
    "        href = li.select('a')[0]['href']\n",
    "        news_url = urljoin(main_url,href).encode(\"utf8\") +'\\n' #urljoin會自動合併兩個網址\n",
    "        urls += category + news_url  #先都存起來\n",
    "time.sleep(0.6)\n",
    "f.write(urls) #用encode('utf-8)    #最後再一次寫出來\n",
    "f.close()    "
   ]
  },
  {
   "cell_type": "markdown",
   "metadata": {},
   "source": [
    "## Step2 讀取昨天的URL檔案，並將內容抓下來"
   ]
  },
  {
   "cell_type": "code",
   "execution_count": 13,
   "metadata": {
    "collapsed": false
   },
   "outputs": [
    {
     "name": "stdout",
     "output_type": "stream",
     "text": [
      "1\n",
      "2\n",
      "3\n",
      "4\n",
      "5\n",
      "6\n",
      "7\n",
      "8\n",
      "9\n",
      "10\n",
      "11\n",
      "12\n"
     ]
    }
   ],
   "source": [
    "#這個才是最正確的\n",
    "#修改成一次爬好幾個月\n",
    "import string\n",
    "import datetime as dt\n",
    "import requests\n",
    "import time\n",
    "from bs4 import BeautifulSoup\n",
    "import json\n",
    "import time\n",
    "count = 0\n",
    "#製造日期的迴圈\n",
    "all_json_str = []\n",
    "f = open('C:/Users/BIG DATA/Desktop/Apple_news/{}.text'.format(yesterday),'r')\n",
    "for url_no in f.readlines():\n",
    "    try:\n",
    "        category = url_no.split('http')[0]        #把類別抓出來\n",
    "        url = 'http'+url_no.split('http')[1]      #重新組合url\n",
    "        res = requests.get(url)\n",
    "        soup = BeautifulSoup(res.text)\n",
    "        file_date,file_num = url.split('/')[6],url.split('/')[7]  #替檔案取名子    \n",
    "\n",
    "        #抓標題跟副標題\n",
    "        title1 = soup.select('#h1')[0].text\n",
    "        title2 = soup.select('#h2')[0].text            \n",
    "        title =''\n",
    "        titles = str(title1.encode('utf-8'))+str(title2.encode('utf-8'))\n",
    "        title = ','.join(titles.split())\n",
    "        #print title\n",
    "\n",
    "        #抓內文\n",
    "        article = ''\n",
    "        div= soup.select('.articulum')[0]   #先把所有內文抓到\n",
    "        ps = div.select('p')                #再把裡面所有的p標籤抓到\n",
    "        for p in ps:                        #把每個p標籤一個一個抓出來印\n",
    "            article += p.text.replace('\\r','')  #段落會隱藏換行符號\\r，要取代掉，不然後面讀取json格式會只讀到最後一行\n",
    "\n",
    "        #抓日期\n",
    "        #date = soup.select('.gggs')[0].select('time')[0].text\n",
    "        #f.write(time.encode('utf-8')+'\\n')\n",
    "\n",
    "        data  =  { \n",
    "            'comp':'apple',  #新聞來源\n",
    "            'category':category,\n",
    "            'title':title, \n",
    "            'content':article,\n",
    "            'date':file_date,  #直接抓檔案的日期來用\n",
    "            'url':url,\n",
    "            'keyw':'',\n",
    "            'hitcount':0\n",
    "        }\n",
    "\n",
    "        all_json_str.append(data) #加個,把多本字典分開來\n",
    "        #爬完一個網址休息一下\n",
    "        time.sleep(1)\n",
    "    #印出有問題的新聞\n",
    "    except IndexError:\n",
    "        count +=1\n",
    "        #print count\n",
    "        continue\n",
    "#url 檔案關閉\n",
    "f1 = open('C:/Users/BIG DATA/Desktop/Apple_news/json/{}.json'.format(yesterday),'w')\n",
    "b =json.dumps(all_json_str) #再把 list 字典轉換成 json 並包起來\n",
    "f1.write(b)\n",
    "f1.close()\n",
    "f.close()"
   ]
  },
  {
   "cell_type": "markdown",
   "metadata": {},
   "source": [
    "## Step3 讀取檔案並將新聞存入MongoDB"
   ]
  },
  {
   "cell_type": "code",
   "execution_count": 14,
   "metadata": {
    "collapsed": false
   },
   "outputs": [
    {
     "data": {
      "text/plain": [
       "<pymongo.results.InsertManyResult at 0x775fbd0>"
      ]
     },
     "execution_count": 14,
     "metadata": {},
     "output_type": "execute_result"
    }
   ],
   "source": [
    "import pymongo\n",
    "from pymongo import MongoClient\n",
    "import json\n",
    "\n",
    "with open('C:/Users/BIG DATA/Desktop/Apple_news/json/{}.json'.format(yesterday),'r') as f:\n",
    "    i = f.read()\n",
    "    json = json.loads(i)\n",
    "    f.close()\n",
    "    \n",
    "client = MongoClient() \n",
    "database = client[\"test\"]\n",
    "collection = database[\"yesterday\"]\n",
    "collection.insert_many(\n",
    "    json\n",
    ")"
   ]
  },
  {
   "cell_type": "code",
   "execution_count": null,
   "metadata": {
    "collapsed": true
   },
   "outputs": [],
   "source": []
  }
 ],
 "metadata": {
  "kernelspec": {
   "display_name": "Python 2",
   "language": "python",
   "name": "python2"
  },
  "language_info": {
   "codemirror_mode": {
    "name": "ipython",
    "version": 2
   },
   "file_extension": ".py",
   "mimetype": "text/x-python",
   "name": "python",
   "nbconvert_exporter": "python",
   "pygments_lexer": "ipython2",
   "version": "2.7.11"
  }
 },
 "nbformat": 4,
 "nbformat_minor": 0
}
