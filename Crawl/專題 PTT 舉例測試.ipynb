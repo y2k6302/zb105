{
 "cells": [
  {
   "cell_type": "code",
   "execution_count": 1,
   "metadata": {
    "collapsed": false
   },
   "outputs": [
    {
     "name": "stdout",
     "output_type": "stream",
     "text": [
      "389\n",
      "執行時間: 10.3886081411 秒\n"
     ]
    }
   ],
   "source": [
    "from pymongo import MongoClient  #logical query selector\n",
    "import time\n",
    "tic = time.clock()\n",
    "\n",
    "client = MongoClient('10.120.28.12', 27017)\n",
    "database = client[\"test\"]\n",
    "collection = database[\"news2\"]\n",
    "\n",
    "\n",
    "tag1 = \"柯文哲\"\n",
    "tag2 = \"單車\"\n",
    "tag3 = \"皇家\"\n",
    "\n",
    "news = collection.find(\n",
    "    {\"$and\":[                   \n",
    "            {\"content\":{\"$regex\":tag1}},\n",
    "            {\"content\":{\"$regex\":tag2}},\n",
    "            #{\"content\":{\"$regex\":tag3}},\n",
    "            #{\"date\":{\"$regex\":\"2016\"}}\n",
    "            ]},{\"_id\":0})\n",
    "print news.count()\n",
    "#for ele in news:\n",
    "    #print ele['title']\n",
    "client.close()\n",
    "\n",
    "toc = time.clock()\n",
    "print \"執行時間:\",(toc - tic),\"秒\""
   ]
  },
  {
   "cell_type": "code",
   "execution_count": 2,
   "metadata": {
    "collapsed": false
   },
   "outputs": [
    {
     "name": "stdout",
     "output_type": "stream",
     "text": [
      "執行時間: 0.00352000437154 秒\n"
     ]
    }
   ],
   "source": [
    "#模糊查詢\n",
    "from pymongo import MongoClient  #logical query selector\n",
    "import time\n",
    "tic = time.clock()\n",
    "\n",
    "client = MongoClient('10.120.28.33', 27017)\n",
    "database = client[\"ooo\"]\n",
    "collection = database[\"ooo\"]\n",
    "\n",
    "\n",
    "tag1 = \"蔡英文\"\n",
    "tag2 = \"選舉\"\n",
    "tag3 = \"皇家\"\n",
    "\n",
    "news = collection.find(\n",
    "    {\"$and\":[                   \n",
    "            {\"tfidf\":{\"$regex\":tag1}},\n",
    "            #{\"tfidf\":{\"$regex\":tag2}},\n",
    "            #{\"content\":{\"$regex\":tag3}},\n",
    "            #{\"date\":{\"$regex\":\"2016\"}}\n",
    "            ]},{\"_id\":0})\n",
    "#print news.count()\n",
    "#for ele in news:\n",
    "    #print ele['title']\n",
    "\n",
    "client.close()\n",
    "\n",
    "toc = time.clock()\n",
    "print \"執行時間:\",(toc - tic),\"秒\""
   ]
  },
  {
   "cell_type": "code",
   "execution_count": 1,
   "metadata": {
    "collapsed": false
   },
   "outputs": [
    {
     "name": "stdout",
     "output_type": "stream",
     "text": [
      "16540\n",
      "執行時間: 0.0117855256327 秒\n"
     ]
    }
   ],
   "source": [
    "#精確查詢\n",
    "from pymongo import MongoClient  #logical query selector\n",
    "import time\n",
    "tic = time.clock()\n",
    "\n",
    "client = MongoClient('10.120.28.12', 27017)\n",
    "database = client[\"test\"]\n",
    "collection = database[\"news2\"]\n",
    "\n",
    "\n",
    "tag1 = \"長榮\"\n",
    "tag2 = \"單車\"\n",
    "tag3 = \"皇家\"\n",
    "\n",
    "news = collection.find(\n",
    "    {\"$and\":[                   \n",
    "            {\"tfidf\":tag1},\n",
    "            #{\"tfidf\":tag2},\n",
    "            #{\"content\":{\"$regex\":tag3}},\n",
    "            #{\"date\":{\"$regex\":\"2016\"}}\n",
    "            ]},{\"_id\":0})\n",
    "print news.count()\n",
    "#for ele in news:\n",
    "    #print ele['title']\n",
    "\n",
    "client.close()\n",
    "\n",
    "toc = time.clock()\n",
    "print \"執行時間:\",(toc - tic),\"秒\""
   ]
  },
  {
   "cell_type": "code",
   "execution_count": null,
   "metadata": {
    "collapsed": true
   },
   "outputs": [],
   "source": []
  }
 ],
 "metadata": {
  "kernelspec": {
   "display_name": "Python 2",
   "language": "python",
   "name": "python2"
  },
  "language_info": {
   "codemirror_mode": {
    "name": "ipython",
    "version": 2
   },
   "file_extension": ".py",
   "mimetype": "text/x-python",
   "name": "python",
   "nbconvert_exporter": "python",
   "pygments_lexer": "ipython2",
   "version": "2.7.11"
  }
 },
 "nbformat": 4,
 "nbformat_minor": 0
}
