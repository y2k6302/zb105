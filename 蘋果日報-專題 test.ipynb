{
 "cells": [
  {
   "cell_type": "markdown",
   "metadata": {
    "collapsed": true
   },
   "source": [
    "## 步驟一、抓取某一天的所有新聞連結-寫到同一份text"
   ]
  },
  {
   "cell_type": "code",
   "execution_count": 4,
   "metadata": {
    "collapsed": false
   },
   "outputs": [
    {
     "name": "stderr",
     "output_type": "stream",
     "text": [
      "C:\\Users\\BIG DATA\\Anaconda2\\lib\\site-packages\\bs4\\__init__.py:166: UserWarning: No parser was explicitly specified, so I'm using the best available HTML parser for this system (\"lxml\"). This usually isn't a problem, but if you run this code on another system, or in a different virtual environment, it may use a different parser and behave differently.\n",
      "\n",
      "To get rid of this warning, change this:\n",
      "\n",
      " BeautifulSoup([your markup])\n",
      "\n",
      "to this:\n",
      "\n",
      " BeautifulSoup([your markup], \"lxml\")\n",
      "\n",
      "  markup_type=markup_type))\n"
     ]
    }
   ],
   "source": [
    "import requests\n",
    "from bs4 import BeautifulSoup\n",
    "from urlparse import urljoin\n",
    "import os\n",
    "news_url=[]\n",
    "page_url = 'http://www.appledaily.com.tw/appledaily/archive/20160310'\n",
    "main_url ='http://www.appledaily.com.tw/appledaily'\n",
    "res = requests.get(page_url)\n",
    "soup = BeautifulSoup(res.text)\n",
    "#包含所有種類的div\n",
    "div = soup.select('.abdominis.clearmen')[0]\n",
    "#抓取所有連結\n",
    "news_url=[]\n",
    "lis = div.select('li')\n",
    "for li in lis:\n",
    "    href = li.select('a')[0]['href']\n",
    "    news_url.append(urljoin(main_url,href)) #urljoin會自動合併兩個網址\n",
    "    f = open('C:/Users/BIG DATA/Desktop/Apple_news/20160310.text','w')\n",
    "    for i in news_url:\n",
    "        f.write(i.encode('utf-8')+'\\n') #prettify()先把檔案轉unicode，再用encode('utf-8')編碼\n",
    "    f.close()"
   ]
  },
  {
   "cell_type": "markdown",
   "metadata": {},
   "source": [
    "## 步驟二、爬某個新聞的內容，並印到一份txt中"
   ]
  },
  {
   "cell_type": "code",
   "execution_count": 42,
   "metadata": {
    "collapsed": true
   },
   "outputs": [
    {
     "ename": "SyntaxError",
     "evalue": "invalid syntax (<ipython-input-42-9712db092aaf>, line 13)",
     "output_type": "error",
     "traceback": [
      "\u001b[1;36m  File \u001b[1;32m\"<ipython-input-42-9712db092aaf>\"\u001b[1;36m, line \u001b[1;32m13\u001b[0m\n\u001b[1;33m    with f = open('C:/Users/BIG DATA/Desktop/Apple_news/{}_{}.text'.format(file_date,file_num),'w')\u001b[0m\n\u001b[1;37m           ^\u001b[0m\n\u001b[1;31mSyntaxError\u001b[0m\u001b[1;31m:\u001b[0m invalid syntax\n"
     ]
    }
   ],
   "source": [
    "#爬某個新聞的內文\n",
    "import requests\n",
    "from bs4 import BeautifulSoup\n",
    "import string \n",
    "news_all = []\n",
    "url = 'http://www.appledaily.com.tw/appledaily/article/headline/20160310/37102656/%E5%A5%B3%E5%A4%A7%E7%94%9F%E4%BC%B43%E7%94%B7%E9%9B%A2%E5%A5%87%E7%87%92%E7%82%AD%E4%BA%A1'\n",
    "res = requests.get(url)\n",
    "soup = BeautifulSoup(res.text)\n",
    "file_date,file_num = url.split('/')[6],url.split('/')[7]  #替檔案取名子\n",
    "\n",
    "\n",
    "#開啟檔案\n",
    "f = open('C:/Users/BIG DATA/Desktop/Apple_news/{}_{}.text'.format(file_date,file_num),'w')\n",
    "#標題\n",
    "title1 = soup.select('#h1')[0].text\n",
    "title2 = soup.select('#h2')[0].text\n",
    "print title1,title2\n",
    "\n",
    "f.write(title1.encode('utf-8')+'\\n')\n",
    "f.write(title2.encode('utf-8')+'\\n')\n",
    "\n",
    "#副標題      \n",
    "h2s = div.select('h2')            \n",
    "for h2 in h2s:\n",
    "    print h2.text\n",
    "    sub_titile = h2.text\n",
    "    f.write(sub_titile.encode('utf-8')+'\\n')\n",
    "    \n",
    "#內文\n",
    "div= soup.select('.articulum')[0]   #先把所有內文抓到\n",
    "ps = div.select('p')                #再把裡面所有的p標籤抓到\n",
    "for p in ps:                        #把每個p標籤一個一個抓出來印\n",
    "    print p.text\n",
    "    article = p.text\n",
    "    f.write(article.encode('utf-8')+'\\n')\n",
    "\n",
    "#日期\n",
    "time = soup.select('.gggs')[0].select('time')[0].text\n",
    "#print time.text\n",
    "f.write(time.encode('utf-8')+'\\n')\n",
    "\n",
    "#人氣\n",
    "click = soup.select('#toolbar')[0].select('a')[3].text \n",
    "#print click.text\n",
    "f.write(click.encode('utf-8')+'\\n')\n",
    "f.close()"
   ]
  },
  {
   "cell_type": "markdown",
   "metadata": {},
   "source": [
    "## 步驟三、讀取url檔案並存取每個新聞需要的內容"
   ]
  },
  {
   "cell_type": "code",
   "execution_count": 2,
   "metadata": {
    "collapsed": false
   },
   "outputs": [
    {
     "name": "stdout",
     "output_type": "stream",
     "text": [
      "1\n",
      "2\n",
      "3\n"
     ]
    }
   ],
   "source": [
    "#在 readlines() 的時候其實會把隱藏的\\n讀進去，若檔案有經過調整，會變成檔案讀不到，要從跑上面的步驟一\n",
    "import requests\n",
    "from bs4 import BeautifulSoup\n",
    "count = 0\n",
    "f = open('C:/Users/BIG DATA/Desktop/Apple_news/20160310.text','r')\n",
    "for url in f.readlines():\n",
    "    try:\n",
    "        res = requests.get(url)\n",
    "        soup = BeautifulSoup(res.text)\n",
    "        file_date,file_num = url.split('/')[6],url.split('/')[7]  #替檔案取名子  \n",
    "        f = open('C:/Users/BIG DATA/Desktop/Apple_news/{}_{}.text'.format(file_date,file_num),'w')  \n",
    "   \n",
    "        #抓標題跟副標題\n",
    "        title1 = soup.select('#h1')[0].text\n",
    "        title2 = soup.select('#h2')[0].text            \n",
    "        f.write(title1.encode('utf-8')+'\\n')\n",
    "        f.write(title2.encode('utf-8')+'\\n')\n",
    "      \n",
    "        \n",
    "        #抓副標題，會出現問題，暫時不要爬      \n",
    "        #h2s = div.select('h2')            \n",
    "        #for h2 in h2s:\n",
    "            #sub_titile = h2.text\n",
    "            #f.write(sub_titile.encode('utf-8')+'\\n')\n",
    "        \n",
    "        #抓內文\n",
    "        div= soup.select('.articulum')[0]   #先把所有內文抓到\n",
    "        ps = div.select('p')                #再把裡面所有的p標籤抓到\n",
    "        for p in ps:                        #把每個p標籤一個一個抓出來印\n",
    "            article = p.text\n",
    "            f.write(article.encode('utf-8')+'\\n')\n",
    "        \n",
    "        #抓日期\n",
    "        time = soup.select('.gggs')[0].select('time')[0].text\n",
    "        f.write(time.encode('utf-8')+'\\n')\n",
    "        \n",
    "        #抓人氣\n",
    "        click = soup.select('#toolbar')[0].select('a')[3].text \n",
    "        f.write(click.encode('utf-8')+'\\n')\n",
    "        \n",
    "        #內文抓取檔案關閉\n",
    "        f.close()\n",
    "        \n",
    "    except IndexError:\n",
    "        count +=1\n",
    "        print count\n",
    "        continue\n",
    "#url 檔案關閉\n",
    "f.close()"
   ]
  },
  {
   "cell_type": "markdown",
   "metadata": {
    "collapsed": true
   },
   "source": [
    "## 步驟四、日期迴圈製造每一天的蘋果新聞連結"
   ]
  },
  {
   "cell_type": "code",
   "execution_count": 7,
   "metadata": {
    "collapsed": true
   },
   "outputs": [
    {
     "name": "stdout",
     "output_type": "stream",
     "text": [
      "http://www.appledaily.com.tw/appledaily/archive/20160309\n",
      "http://www.appledaily.com.tw/appledaily/archive/20160310\n",
      "http://www.appledaily.com.tw/appledaily/archive/20160311\n",
      "http://www.appledaily.com.tw/appledaily/archive/20160312\n"
     ]
    }
   ],
   "source": [
    "#製造日期的迴圈\n",
    "import datetime as dt\n",
    "startdate = dt.datetime(2016, 3,9)\n",
    "endate = dt.datetime(2016, 3,12)\n",
    "totaldays = (endate - startdate).days + 1\n",
    "for daynumber in range(totaldays):\n",
    "    datestring = (startdate + dt.timedelta(days = daynumber)).date().strftime(\"%Y%m%d\") \n",
    "    #print datestring\n",
    "    #每一天的蘋果新聞頁面\n",
    "    page_url = 'http://www.appledaily.com.tw/appledaily/archive/{}'.format(datestring)\n",
    "    print page_url"
   ]
  },
  {
   "cell_type": "markdown",
   "metadata": {},
   "source": [
    "## 步驟五、抓每一天新聞的url"
   ]
  },
  {
   "cell_type": "code",
   "execution_count": 11,
   "metadata": {
    "collapsed": false
   },
   "outputs": [
    {
     "name": "stdout",
     "output_type": "stream",
     "text": [
      "http://www.appledaily.com.tw/appledaily/archive/20160312\n"
     ]
    }
   ],
   "source": [
    "import requests\n",
    "from bs4 import BeautifulSoup\n",
    "from urlparse import urljoin\n",
    "import os\n",
    "import datetime as dt\n",
    "#製造日期的迴圈\n",
    "startdate = dt.datetime(2016, 3,12)\n",
    "endate = dt.datetime(2016, 3,12)\n",
    "totaldays = (endate - startdate).days + 1\n",
    "for daynumber in range(totaldays):\n",
    "    datestring = (startdate + dt.timedelta(days = daynumber)).date().strftime(\"%Y%m%d\") \n",
    "    #print datestring\n",
    "    \n",
    "    #印出每一天的蘋果新聞 url\n",
    "    page_url = 'http://www.appledaily.com.tw/appledaily/archive/{}'.format(datestring)\n",
    "    print page_url  \n",
    "    main_url ='http://www.appledaily.com.tw/appledaily'\n",
    "    res = requests.get(page_url)\n",
    "    soup = BeautifulSoup(res.text)\n",
    "    #包含所有種類的div\n",
    "    div = soup.select('.abdominis.clearmen')[0]\n",
    "    #抓取所有連結\n",
    "    news_url=[]\n",
    "    lis = div.select('li')\n",
    "    for li in lis:\n",
    "        href = li.select('a')[0]['href']\n",
    "        news_url.append(urljoin(main_url,href)) #urljoin會自動合併兩個網址\n",
    "        f = open('C:/Users/BIG DATA/Desktop/Apple_news/{}.text'.format(datestring),'w')\n",
    "        for i in news_url:\n",
    "            f.write(i.encode('utf-8')+'\\n') #用encode('utf-8')編碼\n",
    "        f.close()"
   ]
  },
  {
   "cell_type": "markdown",
   "metadata": {
    "collapsed": true
   },
   "source": [
    "## 步驟六、讀取每一天的url 並把新聞內容抓下來"
   ]
  },
  {
   "cell_type": "code",
   "execution_count": 10,
   "metadata": {
    "collapsed": false
   },
   "outputs": [
    {
     "ename": "IOError",
     "evalue": "[Errno 2] No such file or directory: 'C:/Users/BIG DATA/Desktop/Apple_news/20160312.text'",
     "output_type": "error",
     "traceback": [
      "\u001b[1;31m---------------------------------------------------------------------------\u001b[0m",
      "\u001b[1;31mIOError\u001b[0m                                   Traceback (most recent call last)",
      "\u001b[1;32m<ipython-input-10-1c8a601a6cb1>\u001b[0m in \u001b[0;36m<module>\u001b[1;34m()\u001b[0m\n\u001b[0;32m     13\u001b[0m     \u001b[0mdatestring\u001b[0m \u001b[1;33m=\u001b[0m \u001b[1;33m(\u001b[0m\u001b[0mstartdate\u001b[0m \u001b[1;33m+\u001b[0m \u001b[0mdt\u001b[0m\u001b[1;33m.\u001b[0m\u001b[0mtimedelta\u001b[0m\u001b[1;33m(\u001b[0m\u001b[0mdays\u001b[0m \u001b[1;33m=\u001b[0m \u001b[0mdaynumber\u001b[0m\u001b[1;33m)\u001b[0m\u001b[1;33m)\u001b[0m\u001b[1;33m.\u001b[0m\u001b[0mdate\u001b[0m\u001b[1;33m(\u001b[0m\u001b[1;33m)\u001b[0m\u001b[1;33m.\u001b[0m\u001b[0mstrftime\u001b[0m\u001b[1;33m(\u001b[0m\u001b[1;34m\"%Y%m%d\"\u001b[0m\u001b[1;33m)\u001b[0m\u001b[1;33m\u001b[0m\u001b[0m\n\u001b[0;32m     14\u001b[0m     \u001b[1;31m#開起每天的url檔案\u001b[0m\u001b[1;33m\u001b[0m\u001b[1;33m\u001b[0m\u001b[0m\n\u001b[1;32m---> 15\u001b[1;33m     \u001b[0mf\u001b[0m \u001b[1;33m=\u001b[0m \u001b[0mopen\u001b[0m\u001b[1;33m(\u001b[0m\u001b[1;34m'C:/Users/BIG DATA/Desktop/Apple_news/{}.text'\u001b[0m\u001b[1;33m.\u001b[0m\u001b[0mformat\u001b[0m\u001b[1;33m(\u001b[0m\u001b[0mdatestring\u001b[0m\u001b[1;33m)\u001b[0m\u001b[1;33m,\u001b[0m\u001b[1;34m'r'\u001b[0m\u001b[1;33m)\u001b[0m\u001b[1;33m\u001b[0m\u001b[0m\n\u001b[0m\u001b[0;32m     16\u001b[0m     \u001b[1;32mfor\u001b[0m \u001b[0murl\u001b[0m \u001b[1;32min\u001b[0m \u001b[0mf\u001b[0m\u001b[1;33m.\u001b[0m\u001b[0mreadlines\u001b[0m\u001b[1;33m(\u001b[0m\u001b[1;33m)\u001b[0m\u001b[1;33m:\u001b[0m\u001b[1;33m\u001b[0m\u001b[0m\n\u001b[0;32m     17\u001b[0m         \u001b[1;32mtry\u001b[0m\u001b[1;33m:\u001b[0m\u001b[1;33m\u001b[0m\u001b[0m\n",
      "\u001b[1;31mIOError\u001b[0m: [Errno 2] No such file or directory: 'C:/Users/BIG DATA/Desktop/Apple_news/20160312.text'"
     ]
    }
   ],
   "source": [
    "#在 readlines() 的時候其實會把隱藏的\\n讀進去，若檔案有經過調整，會變成檔案讀不到，要從跑上面的步驟\n",
    "import datetime as dt\n",
    "import requests\n",
    "import time\n",
    "from bs4 import BeautifulSoup\n",
    "count = 0\n",
    "L = []\n",
    "#製造日期的迴圈\n",
    "startdate = dt.datetime(2016, 3,12)\n",
    "endate = dt.datetime(2016, 3,12)\n",
    "totaldays = (endate - startdate).days + 1\n",
    "for daynumber in range(totaldays):\n",
    "    datestring = (startdate + dt.timedelta(days = daynumber)).date().strftime(\"%Y%m%d\") \n",
    "    #開起每天的url檔案\n",
    "    f = open('C:/Users/BIG DATA/Desktop/Apple_news/{}.text'.format(datestring),'r')\n",
    "    for url in f.readlines():\n",
    "        try:\n",
    "            res = requests.get(url)\n",
    "            soup = BeautifulSoup(res.text)\n",
    "            file_date,file_num = url.split('/')[6],url.split('/')[7]  #替檔案取名子  \n",
    "            f = open('C:/Users/BIG DATA/Desktop/Apple_news/{}_{}.text'.format(file_date,file_num),'w')  \n",
    "\n",
    "            #抓標題跟副標題\n",
    "            title1 = soup.select('#h1')[0].text\n",
    "            title2 = soup.select('#h2')[0].text            \n",
    "            f.write(title1.encode('utf-8')+'\\n')\n",
    "            f.write(title2.encode('utf-8')+'\\n')\n",
    "\n",
    "\n",
    "            #抓副標題，會出現問題，暫時不要爬      \n",
    "            #h2s = div.select('h2')            \n",
    "            #for h2 in h2s:\n",
    "                #sub_titile = h2.text\n",
    "                #f.write(sub_titile.encode('utf-8')+'\\n')\n",
    "\n",
    "            #抓內文\n",
    "            div= soup.select('.articulum')[0]   #先把所有內文抓到\n",
    "            ps = div.select('p')                #再把裡面所有的p標籤抓到\n",
    "            for p in ps:                        #把每個p標籤一個一個抓出來印\n",
    "                article = p.text\n",
    "                f.write(article.encode('utf-8')+'\\n')\n",
    "\n",
    "            #抓日期\n",
    "            time = soup.select('.gggs')[0].select('time')[0].text\n",
    "            f.write(time.encode('utf-8')+'\\n')\n",
    "\n",
    "            #抓人氣\n",
    "            click = soup.select('#toolbar')[0].select('a')[3].text \n",
    "            f.write(click.encode('utf-8')+'\\n')\n",
    "            \n",
    "            #內文抓取檔案關閉\n",
    "            f.close()\n",
    "        \n",
    "        #印出有問題的新聞\n",
    "        except IndexError:\n",
    "            count +=1\n",
    "            print count\n",
    "            continue\n",
    "    #url 檔案關閉\n",
    "    f.close()"
   ]
  },
  {
   "cell_type": "markdown",
   "metadata": {},
   "source": [
    "## 步驟六(Excel)、讀取每一天的url 並把新聞內容抓下來"
   ]
  },
  {
   "cell_type": "code",
   "execution_count": 4,
   "metadata": {
    "collapsed": true
   },
   "outputs": [
    {
     "name": "stdout",
     "output_type": "stream",
     "text": [
      "1\n",
      "2\n",
      "3\n",
      "4\n",
      "5\n",
      "6\n",
      "7\n",
      "8\n",
      "9\n",
      "10\n",
      "11\n",
      "12\n",
      "13\n",
      "14\n",
      "15\n",
      "16\n",
      "17\n",
      "18\n",
      "19\n",
      "20\n",
      "21\n",
      "22\n",
      "23\n",
      "24\n",
      "25\n",
      "26\n",
      "27\n",
      "28\n"
     ]
    },
    {
     "data": {
      "text/html": [
       "<div>\n",
       "<table border=\"1\" class=\"dataframe\">\n",
       "  <thead>\n",
       "    <tr style=\"text-align: right;\">\n",
       "      <th></th>\n",
       "      <th>Article</th>\n",
       "      <th>Click</th>\n",
       "      <th>Time</th>\n",
       "      <th>Title</th>\n",
       "    </tr>\n",
       "  </thead>\n",
       "  <tbody>\n",
       "    <tr>\n",
       "      <th>0</th>\n",
       "      <td>[【綜合報導】長榮集團大房、二房爭產風波昨出現戲劇性變化，二房獨子張國煒一夕之間慘敗！長榮航...</td>\n",
       "      <td>人氣(110776)</td>\n",
       "      <td>2016年03月12日</td>\n",
       "      <td>爭產慘敗 張國煒被拔董座</td>\n",
       "    </tr>\n",
       "    <tr>\n",
       "      <th>1</th>\n",
       "      <td>[突換主帥創立28年的長榮航空是國內第2大民航業者，至今未曾發生致死的飛安事故，今年初才被評...</td>\n",
       "      <td>人氣(29693)</td>\n",
       "      <td>2016年03月12日</td>\n",
       "      <td>飛安全球第3 「短期應無影響」</td>\n",
       "    </tr>\n",
       "    <tr>\n",
       "      <th>2</th>\n",
       "      <td>[【陳慜蔚、陳如嬌╱台北報導】長榮集團兩房相爭，大房昨再下重手，據悉，主要是二房獨子張國煒近...</td>\n",
       "      <td>人氣(77733)</td>\n",
       "      <td>2016年03月12日</td>\n",
       "      <td>張國煒動作多 逼大房動手</td>\n",
       "    </tr>\n",
       "    <tr>\n",
       "      <th>3</th>\n",
       "      <td>[【陳如嬌、李姿慧╱台北報導】從上月18日公開父親遺囑並依遺囑升任長榮集團總裁後，短短23天...</td>\n",
       "      <td>人氣(35225)</td>\n",
       "      <td>2016年03月12日</td>\n",
       "      <td>驚濤23天 張國煒：問心無愧</td>\n",
       "    </tr>\n",
       "    <tr>\n",
       "      <th>4</th>\n",
       "      <td>[難挽局勢張國煒昨遭撤長榮航空董座，律師張信揚指出，關鍵在於他失去張榮發基金會派駐長榮航空的...</td>\n",
       "      <td>人氣(15143)</td>\n",
       "      <td>2016年03月12日</td>\n",
       "      <td>訴訟搶回董座 律師：不樂觀</td>\n",
       "    </tr>\n",
       "    <tr>\n",
       "      <th>5</th>\n",
       "      <td>[臨危受命長榮集團兩房相爭，長榮鋼鐵董事長林寶水回鍋接任長榮航董事長，他今年在集團工作滿40...</td>\n",
       "      <td>人氣(29044)</td>\n",
       "      <td>2016年03月12日</td>\n",
       "      <td>「忠臣」林寶水 回鍋掌長榮航</td>\n",
       "    </tr>\n",
       "    <tr>\n",
       "      <th>6</th>\n",
       "      <td>[ 【動新聞╱綜合報導】蝦咪！長榮集團爭產還沒落幕喔！昨天大房出招拔掉「四阿哥」張國煒長榮航...</td>\n",
       "      <td>人氣(25385)</td>\n",
       "      <td>2016年03月12日</td>\n",
       "      <td>爭產演不完 變《長榮榜》肥皂劇</td>\n",
       "    </tr>\n",
       "    <tr>\n",
       "      <th>7</th>\n",
       "      <td>[【石秀娟╱綜合報導】切除乳房是乳癌患者永遠的痛，英國最新研究發現，部分HER2陽性乳癌患者...</td>\n",
       "      <td>人氣(14824)</td>\n",
       "      <td>2016年03月12日</td>\n",
       "      <td>可免化療 雙標靶藥縮乳癌腫瘤</td>\n",
       "    </tr>\n",
       "    <tr>\n",
       "      <th>8</th>\n",
       "      <td>[【唐鎮宇╱台北報導】勞保投保薪資上限已10年未調整，勞工薪資即使高於4萬3900元，也僅能...</td>\n",
       "      <td>人氣(23618)</td>\n",
       "      <td>2016年03月12日</td>\n",
       "      <td>勞保薪資上限提至45800 月多38元</td>\n",
       "    </tr>\n",
       "    <tr>\n",
       "      <th>9</th>\n",
       "      <td>[【特別企劃】擁有一棟渡假別墅，倘佯在好山好水之中，是許多人的退休夢，選對生活方式與環境，不...</td>\n",
       "      <td>人氣(7243)</td>\n",
       "      <td>2016年03月12日</td>\n",
       "      <td>蘋果搶先看╱直擊八里左岸渡假特區　「水木梧桐」水景別墅</td>\n",
       "    </tr>\n",
       "    <tr>\n",
       "      <th>10</th>\n",
       "      <td>[【綜合報導】救難英雄殞落！海巡及空勤5名搜救人員，昨午搭乘空勤總隊AS-365N海豚直升機...</td>\n",
       "      <td>人氣(76176)</td>\n",
       "      <td>2016年03月12日</td>\n",
       "      <td>墜海２死 直升機槳削臂 救難勇士殉職</td>\n",
       "    </tr>\n",
       "    <tr>\n",
       "      <th>11</th>\n",
       "      <td>[教官推斷這次墜海的AS-365N直升機是空勤總隊海豚機中新款的N3型，有空勤直升機教官說，...</td>\n",
       "      <td>人氣(11226)</td>\n",
       "      <td>2016年03月12日</td>\n",
       "      <td>7秒轉4圈 疑尾螺旋槳失靈</td>\n",
       "    </tr>\n",
       "    <tr>\n",
       "      <th>12</th>\n",
       "      <td>[同袍不捨空勤總隊AS-365N直升機正駕駛林振興，昨不幸殉職，讓空勤總隊彌漫悲傷氣氛，他的...</td>\n",
       "      <td>人氣(20346)</td>\n",
       "      <td>2016年03月12日</td>\n",
       "      <td>痛失英雄 黑鷹種子教官亡</td>\n",
       "    </tr>\n",
       "    <tr>\n",
       "      <th>13</th>\n",
       "      <td>[【陳培煌、王家俊╱台北報導】憲兵被爆濫搜民宅惹議，事隔5天，國防部昨召開記者會公布懲處3將...</td>\n",
       "      <td>人氣(47349)</td>\n",
       "      <td>2016年03月12日</td>\n",
       "      <td>憲兵濫搜 少將貪功 不甩搜索票</td>\n",
       "    </tr>\n",
       "    <tr>\n",
       "      <th>14</th>\n",
       "      <td>[【特別企劃】捷運與大台北地區民眾的生活密不可分，可以說是北台灣最方便、使用最頻繁的一條大眾...</td>\n",
       "      <td>人氣(7452)</td>\n",
       "      <td>2016年03月12日</td>\n",
       "      <td>自住客最愛共構宅  捷運「到站就到家」好方便</td>\n",
       "    </tr>\n",
       "    <tr>\n",
       "      <th>15</th>\n",
       "      <td>[懲14官兵憲兵濫權引發批評，國防部昨召開記者會公布第二波行政懲處名單，總計14人，有3名將...</td>\n",
       "      <td>人氣(9596)</td>\n",
       "      <td>2016年03月12日</td>\n",
       "      <td>最重3小過 挨轟「高舉輕放」</td>\n",
       "    </tr>\n",
       "    <tr>\n",
       "      <th>16</th>\n",
       "      <td>[國民黨說「黨產只剩166億」，這是個笑話；其中還說「只剩21億可捐做公益」，更是個障眼法。...</td>\n",
       "      <td>人氣(18274)</td>\n",
       "      <td>2016年03月12日</td>\n",
       "      <td>蘋論：不可放過婦聯會救國團</td>\n",
       "    </tr>\n",
       "    <tr>\n",
       "      <th>17</th>\n",
       "      <td>[【張博亭、朱正庭╱舊金山─台北連線報導】正在美國訪問的台北市長柯文哲，昨於台灣時間11日凌...</td>\n",
       "      <td>人氣(23241)</td>\n",
       "      <td>2016年03月12日</td>\n",
       "      <td>「美帝太強大」 柯體驗自動駕駛</td>\n",
       "    </tr>\n",
       "    <tr>\n",
       "      <th>18</th>\n",
       "      <td>[【蔡孟修╱台北報導】通訊軟體LINE昨下午約4時50分出現系統異常，訊息無法傳送，至晚上6...</td>\n",
       "      <td>人氣(22495)</td>\n",
       "      <td>2016年03月12日</td>\n",
       "      <td>LINE掛點1.5小時 台灣1700萬用戶慌了</td>\n",
       "    </tr>\n",
       "    <tr>\n",
       "      <th>19</th>\n",
       "      <td>[【特別企劃】2016農曆年節氣氛越來越濃，位於新北市新店區捷運小碧潭站的中央新村內新成屋案...</td>\n",
       "      <td>人氣(11916)</td>\n",
       "      <td>2016年03月12日</td>\n",
       "      <td>你絕對不敢相信！買這裡全新裝潢、家具及車位通通包</td>\n",
       "    </tr>\n",
       "    <tr>\n",
       "      <th>20</th>\n",
       "      <td>[【地方中心╱台中報導】作家劉克襄日前po文質疑「台中的早餐文化為何如此貧弱」，在臉書引發網...</td>\n",
       "      <td>人氣(25442)</td>\n",
       "      <td>2016年03月12日</td>\n",
       "      <td>手繪台中早餐圖 駁劉克襄</td>\n",
       "    </tr>\n",
       "    <tr>\n",
       "      <th>21</th>\n",
       "      <td>[【綜合報導】劉克襄一席「台中早餐貧弱說」，讓各地網友狂分享早餐印象，爭奪「早餐霸主」地位。...</td>\n",
       "      <td>人氣(16225)</td>\n",
       "      <td>2016年03月12日</td>\n",
       "      <td>「台式大亨堡」 鹹油條夾蛋</td>\n",
       "    </tr>\n",
       "    <tr>\n",
       "      <th>22</th>\n",
       "      <td>[炒麵加大腸豬血湯是台中傳統早餐，佐料首推「東泉辣椒醬」，吃起來甜而不辣，有淡淡鹹香，是台中...</td>\n",
       "      <td>人氣(18520)</td>\n",
       "      <td>2016年03月12日</td>\n",
       "      <td>「鄉民神醬」</td>\n",
       "    </tr>\n",
       "    <tr>\n",
       "      <th>23</th>\n",
       "      <td>[【陳家齊╱綜合外電報導】美國蘋果公司新品亮相的日子確定了！媒體在台灣時間昨天接獲3月21日...</td>\n",
       "      <td>人氣(12638)</td>\n",
       "      <td>2016年03月12日</td>\n",
       "      <td>蘋果發函 3/21 料推iPhone SE</td>\n",
       "    </tr>\n",
       "    <tr>\n",
       "      <th>24</th>\n",
       "      <td>[【廣編特輯】日本新生代女星有村架純近期人氣爆棚，不但奪下新一代藍絲帶電影獎影后寶座，更受邀...</td>\n",
       "      <td>人氣(3232)</td>\n",
       "      <td>2016年03月12日</td>\n",
       "      <td>國民女神世代交替? 有村架純走綾瀨遙模式代言SK-II！</td>\n",
       "    </tr>\n",
       "    <tr>\n",
       "      <th>25</th>\n",
       "      <td>[【特別企劃】為去房市庫存化，近期大陸官方接連釋出不少房市利多政策，反而激勵一、二線城市的買...</td>\n",
       "      <td>人氣(6871)</td>\n",
       "      <td>2016年03月12日</td>\n",
       "      <td>台積電效應  南京房價漲幅奪第3</td>\n",
       "    </tr>\n",
       "    <tr>\n",
       "      <th>26</th>\n",
       "      <td>[但是我們不只是but we have to do more than幫人們用心看見(性別平...</td>\n",
       "      <td>人氣(2877)</td>\n",
       "      <td>2016年03月12日</td>\n",
       "      <td>每日動一句 英國演員艾瑪華森</td>\n",
       "    </tr>\n",
       "    <tr>\n",
       "      <th>27</th>\n",
       "      <td>[【張芳榮、余思維╱台北報導】北市昨發生一起離奇墜樓命案！一名女子被發現卡在兩棟大樓間的狹小...</td>\n",
       "      <td>人氣(35053)</td>\n",
       "      <td>2016年03月12日</td>\n",
       "      <td>住旅館2天 女陳屍大樓窄縫</td>\n",
       "    </tr>\n",
       "    <tr>\n",
       "      <th>28</th>\n",
       "      <td>[【綜合報導】檢調偵辦兆豐銀行遭假美鈔集團詐騙8000多萬元一案，驚爆偽鈔重要來源之一，竟是...</td>\n",
       "      <td>人氣(11838)</td>\n",
       "      <td>2016年03月12日</td>\n",
       "      <td>假鈔案 蔣經國侍官收押</td>\n",
       "    </tr>\n",
       "    <tr>\n",
       "      <th>29</th>\n",
       "      <td>[嘉義市台斗街23號昨下午發生一起堆高機意外，宏泰木材工廠員工阿寬（30歲），操作堆高機堆木...</td>\n",
       "      <td>人氣(10182)</td>\n",
       "      <td>2016年03月12日</td>\n",
       "      <td>堆高機墜溝 駕駛命危</td>\n",
       "    </tr>\n",
       "    <tr>\n",
       "      <th>...</th>\n",
       "      <td>...</td>\n",
       "      <td>...</td>\n",
       "      <td>...</td>\n",
       "      <td>...</td>\n",
       "    </tr>\n",
       "    <tr>\n",
       "      <th>176</th>\n",
       "      <td>[全台連鎖Homebox好博家，為鼓勵消費者種植植栽即日起至3/31，全館園藝工具優惠7.7...</td>\n",
       "      <td>人氣(2423)</td>\n",
       "      <td>2016年03月12日</td>\n",
       "      <td>園藝工具 搶買7.7折起</td>\n",
       "    </tr>\n",
       "    <tr>\n",
       "      <th>177</th>\n",
       "      <td>[由日本飛行船株式會社設計的卡拉貓手染棉布店，即日起多款布包、圍裙及服裝在全台卡拉貓直營門市...</td>\n",
       "      <td>人氣(2599)</td>\n",
       "      <td>2016年03月12日</td>\n",
       "      <td>可愛棉布製品 心動5.3折起</td>\n",
       "    </tr>\n",
       "    <tr>\n",
       "      <th>178</th>\n",
       "      <td>[給妳春天好氣色！多款膠原蛋白、維他命C及珍珠粉等即食或沖泡飲品，3/31前在momo購物網...</td>\n",
       "      <td>人氣(2181)</td>\n",
       "      <td>2016年03月12日</td>\n",
       "      <td>膠原美容飲 下殺1.4折起</td>\n",
       "    </tr>\n",
       "    <tr>\n",
       "      <th>179</th>\n",
       "      <td>[高雄義大世界購物廣場即日起舉辦品牌牛仔服飾特賣，包括EDWIN、BOBSONY等品牌的個性...</td>\n",
       "      <td>人氣(4976)</td>\n",
       "      <td>2016年03月12日</td>\n",
       "      <td>品牌牛仔服飾 搶買190元起</td>\n",
       "    </tr>\n",
       "    <tr>\n",
       "      <th>180</th>\n",
       "      <td>[星巴克為歡慶來台18周年，將於3/16起在全台門市推出現限量商品，馬克杯、隨行杯等售價43...</td>\n",
       "      <td>人氣(9130)</td>\n",
       "      <td>2016年03月12日</td>\n",
       "      <td>星巴克18周年商品 搶先曝光</td>\n",
       "    </tr>\n",
       "    <tr>\n",
       "      <th>181</th>\n",
       "      <td>[小說《禁忌圖書館》融合了我對於魔法的各式想像，一部分來自看過的電影，另一部分則來自小時候讀...</td>\n",
       "      <td>人氣(858)</td>\n",
       "      <td>2016年03月12日</td>\n",
       "      <td>藝人沈建宏讀《禁忌圖書館》：透過閱讀 進入禁書世界 十分吸引人</td>\n",
       "    </tr>\n",
       "    <tr>\n",
       "      <th>182</th>\n",
       "      <td>[剪下《K BOOK》回函，答對問題就有機會得好禮，共抽50名，頭獎20名可得皇冠提供小說《...</td>\n",
       "      <td>人氣(319)</td>\n",
       "      <td>2016年03月12日</td>\n",
       "      <td>K BOOK《禁忌圖書館》抽獎活動</td>\n",
       "    </tr>\n",
       "    <tr>\n",
       "      <th>183</th>\n",
       "      <td>[★統計時間2/1~3/6\\r本月月排行冠軍，由售出3865本的東野圭吾推理小說《解憂雜貨店...</td>\n",
       "      <td>人氣(1395)</td>\n",
       "      <td>2016年03月12日</td>\n",
       "      <td>小說排行榜</td>\n",
       "    </tr>\n",
       "    <tr>\n",
       "      <th>184</th>\n",
       "      <td>[小說《一路》是以哪一國的歷史為背景？\\r, 1.日本\\r, 王世遠 0958-XXX-18...</td>\n",
       "      <td>人氣(375)</td>\n",
       "      <td>2016年03月12日</td>\n",
       "      <td>《一路》得獎名單</td>\n",
       "    </tr>\n",
       "    <tr>\n",
       "      <th>185</th>\n",
       "      <td>[作為江戶時代皇室領地，倉敷美觀地區繁華而美麗，倉敷川流貫其間，夾岸白牆黑瓦老屋，襯著垂柳，...</td>\n",
       "      <td>人氣(3354)</td>\n",
       "      <td>2016年03月12日</td>\n",
       "      <td>日本岡山 倉敷美觀 探江戶皇室領地</td>\n",
       "    </tr>\n",
       "    <tr>\n",
       "      <th>186</th>\n",
       "      <td>[小小一顆雞蛋只要透過各種料理手法，就能變化出百變風味。雞蛋既能當成菜餚的主角，若做為配角也...</td>\n",
       "      <td>人氣(3181)</td>\n",
       "      <td>2016年03月12日</td>\n",
       "      <td>北部版 蛋蛋的幸福 香濃好可口</td>\n",
       "    </tr>\n",
       "    <tr>\n",
       "      <th>187</th>\n",
       "      <td>[小小一顆雞蛋只要透過各種料理手法，就能變化出百種風味。雞蛋既能當成菜餚的主角，若做為配角也...</td>\n",
       "      <td>人氣(2646)</td>\n",
       "      <td>2016年03月12日</td>\n",
       "      <td>中部版 蛋蛋的幸福 香濃好可口</td>\n",
       "    </tr>\n",
       "    <tr>\n",
       "      <th>188</th>\n",
       "      <td>[小小一顆雞蛋只要透過各種料理手法，就能變化出百種風味。雞蛋既能當菜餚的主角，做為配角也很合...</td>\n",
       "      <td>人氣(2964)</td>\n",
       "      <td>2016年03月12日</td>\n",
       "      <td>南部版 蛋蛋的幸福 香濃好可口</td>\n",
       "    </tr>\n",
       "    <tr>\n",
       "      <th>189</th>\n",
       "      <td>[這次Škoda推出全新第3代Superb引起不小旋風，該車系保留了過往同級車中超大軸距優勢...</td>\n",
       "      <td>人氣(6898)</td>\n",
       "      <td>2016年03月12日</td>\n",
       "      <td>大碗滿溢 Škoda Superb 1.4TSI國內試駕</td>\n",
       "    </tr>\n",
       "    <tr>\n",
       "      <th>190</th>\n",
       "      <td>[Canon近期推新相印機SELPHY CP1200，雖然重量達860克不算輕巧，但具畫質較...</td>\n",
       "      <td>人氣(1671)</td>\n",
       "      <td>2016年03月12日</td>\n",
       "      <td>搶先測 行動相印機 畫質佳</td>\n",
       "    </tr>\n",
       "    <tr>\n",
       "      <th>191</th>\n",
       "      <td>[一般相片列印機依廠牌與相紙技術可分為3種，第1種採特殊藥水底片，可即時顯像的富士與收購寶麗...</td>\n",
       "      <td>人氣(906)</td>\n",
       "      <td>2016年03月12日</td>\n",
       "      <td>3C小百科：相紙3技術</td>\n",
       "    </tr>\n",
       "    <tr>\n",
       "      <th>192</th>\n",
       "      <td>[從事自由業的毛媽2年前領養了當時才3個月大的米克斯控肉，另一半怕控肉孤單，1周後又領養了哈...</td>\n",
       "      <td>人氣(2114)</td>\n",
       "      <td>2016年03月12日</td>\n",
       "      <td>家有酷斯拉 散播歡樂散播愛</td>\n",
       "    </tr>\n",
       "    <tr>\n",
       "      <th>193</th>\n",
       "      <td>[貓咪個性獨立，不像狗狗需要花時間陪伴，是許多人眼裡的理想寵物。但養貓還是有許多眉眉角角要注...</td>\n",
       "      <td>人氣(2584)</td>\n",
       "      <td>2016年03月12日</td>\n",
       "      <td>新手養貓 4類注意 就上手</td>\n",
       "    </tr>\n",
       "    <tr>\n",
       "      <th>194</th>\n",
       "      <td>[飾品是造型最好的幫手，能讓妳在舉手投足間散發時尚感。本單元特別精選14款精品飾品，不論是藝...</td>\n",
       "      <td>人氣(3041)</td>\n",
       "      <td>2016年03月12日</td>\n",
       "      <td>14款 春夏系列飾 時髦度UP</td>\n",
       "    </tr>\n",
       "    <tr>\n",
       "      <th>195</th>\n",
       "      <td>[一名有高血壓病史的62歲婦女，在一次健康檢查中，發現腰圍偏粗達88cm，且檢出空腹血糖值超...</td>\n",
       "      <td>人氣(6774)</td>\n",
       "      <td>2016年03月12日</td>\n",
       "      <td>女採 得舒飲食 半年腰圍減10公分</td>\n",
       "    </tr>\n",
       "    <tr>\n",
       "      <th>196</th>\n",
       "      <td>[愛吃零食、喝飲料，當心蛀牙找上門，開業牙科院長黃斌洋醫師建議，不妨用無糖綠茶取代汽水等含糖...</td>\n",
       "      <td>人氣(2832)</td>\n",
       "      <td>2016年03月12日</td>\n",
       "      <td>無糖綠茶取代汽水 助預防蛀牙</td>\n",
       "    </tr>\n",
       "    <tr>\n",
       "      <th>197</th>\n",
       "      <td>[工作遵守原則，就能抓住升遷機會，但勿因心直口快造成與上司的衝突。注意家族企業因經營理念不和...</td>\n",
       "      <td>人氣(11760)</td>\n",
       "      <td>2016年03月12日</td>\n",
       "      <td>獅子 水瓶 堅守原則</td>\n",
       "    </tr>\n",
       "    <tr>\n",
       "      <th>198</th>\n",
       "      <td>[讀者可考考眼力，在B圖圈出10個與A圖不同之處。, 圖為台中市西區茪點咖啡的經典比利時鬆餅...</td>\n",
       "      <td>人氣(1769)</td>\n",
       "      <td>2016年03月12日</td>\n",
       "      <td>來找碴</td>\n",
       "    </tr>\n",
       "    <tr>\n",
       "      <th>199</th>\n",
       "      <td>[圖片提供：老夫子哈媒體公司 http://www.omqcomics.com王澤,  ]</td>\n",
       "      <td>人氣(4134)</td>\n",
       "      <td>2016年03月12日</td>\n",
       "      <td>老夫子 搞怪新風貌 舞蛇奇談</td>\n",
       "    </tr>\n",
       "    <tr>\n",
       "      <th>200</th>\n",
       "      <td>[國民黨立法院黨團於本月10日舉行黨團大會，會後並於網路公布新版的《中國國民黨黨產報告》。此...</td>\n",
       "      <td>人氣(7292)</td>\n",
       "      <td>2016年03月12日</td>\n",
       "      <td>焦點評論：國民黨黨產報告胡說八道（羅承宗）</td>\n",
       "    </tr>\n",
       "    <tr>\n",
       "      <th>201</th>\n",
       "      <td>[許多人都錯以為主張非核家園的民進黨大勝，就可以安心，錯以為這樣就廢核了，核廢就自然解決，不...</td>\n",
       "      <td>人氣(4771)</td>\n",
       "      <td>2016年03月12日</td>\n",
       "      <td>廢核 今天凱道見（劉黎兒）</td>\n",
       "    </tr>\n",
       "    <tr>\n",
       "      <th>202</th>\n",
       "      <td>[黃安回台就醫，冠狀動脈繞道手術，住院再加上後續治療費用在中國需要花費上百萬元，但因為黃安使...</td>\n",
       "      <td>人氣(12133)</td>\n",
       "      <td>2016年03月12日</td>\n",
       "      <td>幫黃安上一堂「良心」的課（秦靖）</td>\n",
       "    </tr>\n",
       "    <tr>\n",
       "      <th>203</th>\n",
       "      <td>[近日憲兵搜索民宅事件，已明顯逾越法治國家對人權保障的紅線，引起各界之撻伐，更有要求立法院應...</td>\n",
       "      <td>人氣(3565)</td>\n",
       "      <td>2016年03月12日</td>\n",
       "      <td>從人權角度看憲兵搜索民宅（李永然）</td>\n",
       "    </tr>\n",
       "    <tr>\n",
       "      <th>204</th>\n",
       "      <td>[不尋常的人，做不尋常的事，只是他們經常會犯尋常的錯。約翰鮑威爾（John Powell）熱...</td>\n",
       "      <td>人氣(6061)</td>\n",
       "      <td>2016年03月12日</td>\n",
       "      <td>蘋中信：肚子餓可以吃海洛因嗎（郝廣才）</td>\n",
       "    </tr>\n",
       "    <tr>\n",
       "      <th>205</th>\n",
       "      <td>[《蘋果》論壇歡迎投稿，一經錄用將附上稿酬。若一稿多投，本社將不支付稿酬。本報有刪修權，網站...</td>\n",
       "      <td>人氣(843)</td>\n",
       "      <td>2016年03月12日</td>\n",
       "      <td>《蘋果論壇》徵稿</td>\n",
       "    </tr>\n",
       "  </tbody>\n",
       "</table>\n",
       "<p>206 rows × 4 columns</p>\n",
       "</div>"
      ],
      "text/plain": [
       "                                               Article       Click  \\\n",
       "0    [【綜合報導】長榮集團大房、二房爭產風波昨出現戲劇性變化，二房獨子張國煒一夕之間慘敗！長榮航...  人氣(110776)   \n",
       "1    [突換主帥創立28年的長榮航空是國內第2大民航業者，至今未曾發生致死的飛安事故，今年初才被評...   人氣(29693)   \n",
       "2    [【陳慜蔚、陳如嬌╱台北報導】長榮集團兩房相爭，大房昨再下重手，據悉，主要是二房獨子張國煒近...   人氣(77733)   \n",
       "3    [【陳如嬌、李姿慧╱台北報導】從上月18日公開父親遺囑並依遺囑升任長榮集團總裁後，短短23天...   人氣(35225)   \n",
       "4    [難挽局勢張國煒昨遭撤長榮航空董座，律師張信揚指出，關鍵在於他失去張榮發基金會派駐長榮航空的...   人氣(15143)   \n",
       "5    [臨危受命長榮集團兩房相爭，長榮鋼鐵董事長林寶水回鍋接任長榮航董事長，他今年在集團工作滿40...   人氣(29044)   \n",
       "6    [ 【動新聞╱綜合報導】蝦咪！長榮集團爭產還沒落幕喔！昨天大房出招拔掉「四阿哥」張國煒長榮航...   人氣(25385)   \n",
       "7    [【石秀娟╱綜合報導】切除乳房是乳癌患者永遠的痛，英國最新研究發現，部分HER2陽性乳癌患者...   人氣(14824)   \n",
       "8    [【唐鎮宇╱台北報導】勞保投保薪資上限已10年未調整，勞工薪資即使高於4萬3900元，也僅能...   人氣(23618)   \n",
       "9    [【特別企劃】擁有一棟渡假別墅，倘佯在好山好水之中，是許多人的退休夢，選對生活方式與環境，不...    人氣(7243)   \n",
       "10   [【綜合報導】救難英雄殞落！海巡及空勤5名搜救人員，昨午搭乘空勤總隊AS-365N海豚直升機...   人氣(76176)   \n",
       "11   [教官推斷這次墜海的AS-365N直升機是空勤總隊海豚機中新款的N3型，有空勤直升機教官說，...   人氣(11226)   \n",
       "12   [同袍不捨空勤總隊AS-365N直升機正駕駛林振興，昨不幸殉職，讓空勤總隊彌漫悲傷氣氛，他的...   人氣(20346)   \n",
       "13   [【陳培煌、王家俊╱台北報導】憲兵被爆濫搜民宅惹議，事隔5天，國防部昨召開記者會公布懲處3將...   人氣(47349)   \n",
       "14   [【特別企劃】捷運與大台北地區民眾的生活密不可分，可以說是北台灣最方便、使用最頻繁的一條大眾...    人氣(7452)   \n",
       "15   [懲14官兵憲兵濫權引發批評，國防部昨召開記者會公布第二波行政懲處名單，總計14人，有3名將...    人氣(9596)   \n",
       "16   [國民黨說「黨產只剩166億」，這是個笑話；其中還說「只剩21億可捐做公益」，更是個障眼法。...   人氣(18274)   \n",
       "17   [【張博亭、朱正庭╱舊金山─台北連線報導】正在美國訪問的台北市長柯文哲，昨於台灣時間11日凌...   人氣(23241)   \n",
       "18   [【蔡孟修╱台北報導】通訊軟體LINE昨下午約4時50分出現系統異常，訊息無法傳送，至晚上6...   人氣(22495)   \n",
       "19   [【特別企劃】2016農曆年節氣氛越來越濃，位於新北市新店區捷運小碧潭站的中央新村內新成屋案...   人氣(11916)   \n",
       "20   [【地方中心╱台中報導】作家劉克襄日前po文質疑「台中的早餐文化為何如此貧弱」，在臉書引發網...   人氣(25442)   \n",
       "21   [【綜合報導】劉克襄一席「台中早餐貧弱說」，讓各地網友狂分享早餐印象，爭奪「早餐霸主」地位。...   人氣(16225)   \n",
       "22   [炒麵加大腸豬血湯是台中傳統早餐，佐料首推「東泉辣椒醬」，吃起來甜而不辣，有淡淡鹹香，是台中...   人氣(18520)   \n",
       "23   [【陳家齊╱綜合外電報導】美國蘋果公司新品亮相的日子確定了！媒體在台灣時間昨天接獲3月21日...   人氣(12638)   \n",
       "24   [【廣編特輯】日本新生代女星有村架純近期人氣爆棚，不但奪下新一代藍絲帶電影獎影后寶座，更受邀...    人氣(3232)   \n",
       "25   [【特別企劃】為去房市庫存化，近期大陸官方接連釋出不少房市利多政策，反而激勵一、二線城市的買...    人氣(6871)   \n",
       "26   [但是我們不只是but we have to do more than幫人們用心看見(性別平...    人氣(2877)   \n",
       "27   [【張芳榮、余思維╱台北報導】北市昨發生一起離奇墜樓命案！一名女子被發現卡在兩棟大樓間的狹小...   人氣(35053)   \n",
       "28   [【綜合報導】檢調偵辦兆豐銀行遭假美鈔集團詐騙8000多萬元一案，驚爆偽鈔重要來源之一，竟是...   人氣(11838)   \n",
       "29   [嘉義市台斗街23號昨下午發生一起堆高機意外，宏泰木材工廠員工阿寬（30歲），操作堆高機堆木...   人氣(10182)   \n",
       "..                                                 ...         ...   \n",
       "176  [全台連鎖Homebox好博家，為鼓勵消費者種植植栽即日起至3/31，全館園藝工具優惠7.7...    人氣(2423)   \n",
       "177  [由日本飛行船株式會社設計的卡拉貓手染棉布店，即日起多款布包、圍裙及服裝在全台卡拉貓直營門市...    人氣(2599)   \n",
       "178  [給妳春天好氣色！多款膠原蛋白、維他命C及珍珠粉等即食或沖泡飲品，3/31前在momo購物網...    人氣(2181)   \n",
       "179  [高雄義大世界購物廣場即日起舉辦品牌牛仔服飾特賣，包括EDWIN、BOBSONY等品牌的個性...    人氣(4976)   \n",
       "180  [星巴克為歡慶來台18周年，將於3/16起在全台門市推出現限量商品，馬克杯、隨行杯等售價43...    人氣(9130)   \n",
       "181  [小說《禁忌圖書館》融合了我對於魔法的各式想像，一部分來自看過的電影，另一部分則來自小時候讀...     人氣(858)   \n",
       "182  [剪下《K BOOK》回函，答對問題就有機會得好禮，共抽50名，頭獎20名可得皇冠提供小說《...     人氣(319)   \n",
       "183  [★統計時間2/1~3/6\\r本月月排行冠軍，由售出3865本的東野圭吾推理小說《解憂雜貨店...    人氣(1395)   \n",
       "184  [小說《一路》是以哪一國的歷史為背景？\\r, 1.日本\\r, 王世遠 0958-XXX-18...     人氣(375)   \n",
       "185  [作為江戶時代皇室領地，倉敷美觀地區繁華而美麗，倉敷川流貫其間，夾岸白牆黑瓦老屋，襯著垂柳，...    人氣(3354)   \n",
       "186  [小小一顆雞蛋只要透過各種料理手法，就能變化出百變風味。雞蛋既能當成菜餚的主角，若做為配角也...    人氣(3181)   \n",
       "187  [小小一顆雞蛋只要透過各種料理手法，就能變化出百種風味。雞蛋既能當成菜餚的主角，若做為配角也...    人氣(2646)   \n",
       "188  [小小一顆雞蛋只要透過各種料理手法，就能變化出百種風味。雞蛋既能當菜餚的主角，做為配角也很合...    人氣(2964)   \n",
       "189  [這次Škoda推出全新第3代Superb引起不小旋風，該車系保留了過往同級車中超大軸距優勢...    人氣(6898)   \n",
       "190  [Canon近期推新相印機SELPHY CP1200，雖然重量達860克不算輕巧，但具畫質較...    人氣(1671)   \n",
       "191  [一般相片列印機依廠牌與相紙技術可分為3種，第1種採特殊藥水底片，可即時顯像的富士與收購寶麗...     人氣(906)   \n",
       "192  [從事自由業的毛媽2年前領養了當時才3個月大的米克斯控肉，另一半怕控肉孤單，1周後又領養了哈...    人氣(2114)   \n",
       "193  [貓咪個性獨立，不像狗狗需要花時間陪伴，是許多人眼裡的理想寵物。但養貓還是有許多眉眉角角要注...    人氣(2584)   \n",
       "194  [飾品是造型最好的幫手，能讓妳在舉手投足間散發時尚感。本單元特別精選14款精品飾品，不論是藝...    人氣(3041)   \n",
       "195  [一名有高血壓病史的62歲婦女，在一次健康檢查中，發現腰圍偏粗達88cm，且檢出空腹血糖值超...    人氣(6774)   \n",
       "196  [愛吃零食、喝飲料，當心蛀牙找上門，開業牙科院長黃斌洋醫師建議，不妨用無糖綠茶取代汽水等含糖...    人氣(2832)   \n",
       "197  [工作遵守原則，就能抓住升遷機會，但勿因心直口快造成與上司的衝突。注意家族企業因經營理念不和...   人氣(11760)   \n",
       "198  [讀者可考考眼力，在B圖圈出10個與A圖不同之處。, 圖為台中市西區茪點咖啡的經典比利時鬆餅...    人氣(1769)   \n",
       "199      [圖片提供：老夫子哈媒體公司 http://www.omqcomics.com王澤,  ]    人氣(4134)   \n",
       "200  [國民黨立法院黨團於本月10日舉行黨團大會，會後並於網路公布新版的《中國國民黨黨產報告》。此...    人氣(7292)   \n",
       "201  [許多人都錯以為主張非核家園的民進黨大勝，就可以安心，錯以為這樣就廢核了，核廢就自然解決，不...    人氣(4771)   \n",
       "202  [黃安回台就醫，冠狀動脈繞道手術，住院再加上後續治療費用在中國需要花費上百萬元，但因為黃安使...   人氣(12133)   \n",
       "203  [近日憲兵搜索民宅事件，已明顯逾越法治國家對人權保障的紅線，引起各界之撻伐，更有要求立法院應...    人氣(3565)   \n",
       "204  [不尋常的人，做不尋常的事，只是他們經常會犯尋常的錯。約翰鮑威爾（John Powell）熱...    人氣(6061)   \n",
       "205  [《蘋果》論壇歡迎投稿，一經錄用將附上稿酬。若一稿多投，本社將不支付稿酬。本報有刪修權，網站...     人氣(843)   \n",
       "\n",
       "            Time                            Title  \n",
       "0    2016年03月12日                     爭產慘敗 張國煒被拔董座  \n",
       "1    2016年03月12日                  飛安全球第3 「短期應無影響」  \n",
       "2    2016年03月12日                     張國煒動作多 逼大房動手  \n",
       "3    2016年03月12日                   驚濤23天 張國煒：問心無愧  \n",
       "4    2016年03月12日                    訴訟搶回董座 律師：不樂觀  \n",
       "5    2016年03月12日                   「忠臣」林寶水 回鍋掌長榮航  \n",
       "6    2016年03月12日                  爭產演不完 變《長榮榜》肥皂劇  \n",
       "7    2016年03月12日                   可免化療 雙標靶藥縮乳癌腫瘤  \n",
       "8    2016年03月12日              勞保薪資上限提至45800 月多38元  \n",
       "9    2016年03月12日      蘋果搶先看╱直擊八里左岸渡假特區　「水木梧桐」水景別墅  \n",
       "10   2016年03月12日               墜海２死 直升機槳削臂 救難勇士殉職  \n",
       "11   2016年03月12日                    7秒轉4圈 疑尾螺旋槳失靈  \n",
       "12   2016年03月12日                     痛失英雄 黑鷹種子教官亡  \n",
       "13   2016年03月12日                  憲兵濫搜 少將貪功 不甩搜索票  \n",
       "14   2016年03月12日           自住客最愛共構宅  捷運「到站就到家」好方便  \n",
       "15   2016年03月12日                   最重3小過 挨轟「高舉輕放」  \n",
       "16   2016年03月12日                    蘋論：不可放過婦聯會救國團  \n",
       "17   2016年03月12日                  「美帝太強大」 柯體驗自動駕駛  \n",
       "18   2016年03月12日          LINE掛點1.5小時 台灣1700萬用戶慌了  \n",
       "19   2016年03月12日         你絕對不敢相信！買這裡全新裝潢、家具及車位通通包  \n",
       "20   2016年03月12日                     手繪台中早餐圖 駁劉克襄  \n",
       "21   2016年03月12日                    「台式大亨堡」 鹹油條夾蛋  \n",
       "22   2016年03月12日                           「鄉民神醬」  \n",
       "23   2016年03月12日            蘋果發函 3/21 料推iPhone SE  \n",
       "24   2016年03月12日     國民女神世代交替? 有村架純走綾瀨遙模式代言SK-II！  \n",
       "25   2016年03月12日                 台積電效應  南京房價漲幅奪第3  \n",
       "26   2016年03月12日                   每日動一句 英國演員艾瑪華森  \n",
       "27   2016年03月12日                    住旅館2天 女陳屍大樓窄縫  \n",
       "28   2016年03月12日                      假鈔案 蔣經國侍官收押  \n",
       "29   2016年03月12日                       堆高機墜溝 駕駛命危  \n",
       "..           ...                              ...  \n",
       "176  2016年03月12日                     園藝工具 搶買7.7折起  \n",
       "177  2016年03月12日                   可愛棉布製品 心動5.3折起  \n",
       "178  2016年03月12日                    膠原美容飲 下殺1.4折起  \n",
       "179  2016年03月12日                   品牌牛仔服飾 搶買190元起  \n",
       "180  2016年03月12日                   星巴克18周年商品 搶先曝光  \n",
       "181  2016年03月12日  藝人沈建宏讀《禁忌圖書館》：透過閱讀 進入禁書世界 十分吸引人  \n",
       "182  2016年03月12日                K BOOK《禁忌圖書館》抽獎活動  \n",
       "183  2016年03月12日                            小說排行榜  \n",
       "184  2016年03月12日                         《一路》得獎名單  \n",
       "185  2016年03月12日                日本岡山 倉敷美觀 探江戶皇室領地  \n",
       "186  2016年03月12日                  北部版 蛋蛋的幸福 香濃好可口  \n",
       "187  2016年03月12日                  中部版 蛋蛋的幸福 香濃好可口  \n",
       "188  2016年03月12日                  南部版 蛋蛋的幸福 香濃好可口  \n",
       "189  2016年03月12日     大碗滿溢 Škoda Superb 1.4TSI國內試駕  \n",
       "190  2016年03月12日                    搶先測 行動相印機 畫質佳  \n",
       "191  2016年03月12日                      3C小百科：相紙3技術  \n",
       "192  2016年03月12日                    家有酷斯拉 散播歡樂散播愛  \n",
       "193  2016年03月12日                    新手養貓 4類注意 就上手  \n",
       "194  2016年03月12日                  14款 春夏系列飾 時髦度UP  \n",
       "195  2016年03月12日                女採 得舒飲食 半年腰圍減10公分  \n",
       "196  2016年03月12日                   無糖綠茶取代汽水 助預防蛀牙  \n",
       "197  2016年03月12日                       獅子 水瓶 堅守原則  \n",
       "198  2016年03月12日                              來找碴  \n",
       "199  2016年03月12日                   老夫子 搞怪新風貌 舞蛇奇談  \n",
       "200  2016年03月12日            焦點評論：國民黨黨產報告胡說八道（羅承宗）  \n",
       "201  2016年03月12日                    廢核 今天凱道見（劉黎兒）  \n",
       "202  2016年03月12日                 幫黃安上一堂「良心」的課（秦靖）  \n",
       "203  2016年03月12日                從人權角度看憲兵搜索民宅（李永然）  \n",
       "204  2016年03月12日              蘋中信：肚子餓可以吃海洛因嗎（郝廣才）  \n",
       "205  2016年03月12日                         《蘋果論壇》徵稿  \n",
       "\n",
       "[206 rows x 4 columns]"
      ]
     },
     "execution_count": 4,
     "metadata": {},
     "output_type": "execute_result"
    }
   ],
   "source": [
    "#在 readlines() 的時候其實會把隱藏的\\n讀進去，若檔案有經過調整，會變成檔案讀不到，要從跑上面的步驟\n",
    "import datetime as dt\n",
    "import requests\n",
    "import time\n",
    "from bs4 import BeautifulSoup\n",
    "count = 0\n",
    "L = []\n",
    "#製造日期的迴圈\n",
    "startdate = dt.datetime(2016, 3,12)\n",
    "endate = dt.datetime(2016, 3,12)\n",
    "totaldays = (endate - startdate).days + 1\n",
    "for daynumber in range(totaldays):\n",
    "    datestring = (startdate + dt.timedelta(days = daynumber)).date().strftime(\"%Y%m%d\") \n",
    "    #開起每天的url檔案\n",
    "    f = open('C:/Users/BIG DATA/Desktop/Apple_news/{}.text'.format(datestring),'r')\n",
    "    for url in f.readlines():\n",
    "        try:\n",
    "            res = requests.get(url)\n",
    "            soup = BeautifulSoup(res.text)\n",
    "            file_date,file_num = url.split('/')[6],url.split('/')[7]  #替檔案取名子  \n",
    "            f = open('C:/Users/BIG DATA/Desktop/Apple_news/{}_{}.text'.format(file_date,file_num),'w')  \n",
    "\n",
    "            #抓標題跟副標題\n",
    "            title1 = soup.select('#h1')[0].text\n",
    "            title2 = soup.select('#h2')[0].text            \n",
    "            f.write(title1.encode('utf-8')+'\\n')\n",
    "            f.write(title2.encode('utf-8')+'\\n')\n",
    "\n",
    "\n",
    "            #抓副標題，會出現問題，暫時不要爬      \n",
    "            #h2s = div.select('h2')            \n",
    "            #for h2 in h2s:\n",
    "                #sub_titile = h2.text\n",
    "                #f.write(sub_titile.encode('utf-8')+'\\n')\n",
    "\n",
    "            #抓內文\n",
    "            div= soup.select('.articulum')[0]   #先把所有內文抓到\n",
    "            ps = div.select('p')                #再把裡面所有的p標籤抓到\n",
    "            article=[]\n",
    "            for p in ps:                        #把每個p標籤一個一個抓出來印\n",
    "                article.append(p.text)\n",
    "                #f.write(article.encode('utf-8')+'\\n')\n",
    "\n",
    "            #抓日期\n",
    "            time = soup.select('.gggs')[0].select('time')[0].text\n",
    "            f.write(time.encode('utf-8')+'\\n')\n",
    "\n",
    "            #抓人氣\n",
    "            click = soup.select('#toolbar')[0].select('a')[3].text \n",
    "            f.write(click.encode('utf-8')+'\\n')\n",
    "            \n",
    "            ##要印出EXCEL檔所以先存到字典裡面\n",
    "            L.append({'Title':title1,'Time':time,'Click': click,'Article':article})\n",
    "            \n",
    "            \n",
    "            #內文抓取檔案關閉\n",
    "            f.close()\n",
    "        \n",
    "        #印出有問題的新聞\n",
    "        except IndexError:\n",
    "            count +=1\n",
    "            print count\n",
    "            continue\n",
    "    #url 檔案關閉\n",
    "    f.close()\n",
    "\n",
    "#準備寫到EXCEL裡面\n",
    "import pandas as pd\n",
    "df = pd.DataFrame(L)\n",
    "df\n",
    "# write in csv\n",
    "#f=open(\"C:/Users/BIG DATA/Desktop/news.csv\",\"w\")\n",
    "#df.to_csv(\"C:/Users/BIG DATA/Desktop/news.csv\",encoding=\"utf-8\")\n",
    "#f.close()"
   ]
  },
  {
   "cell_type": "code",
   "execution_count": 6,
   "metadata": {
    "collapsed": true
   },
   "outputs": [
    {
     "data": {
      "text/html": [
       "<div>\n",
       "<table border=\"1\" class=\"dataframe\">\n",
       "  <thead>\n",
       "    <tr style=\"text-align: right;\">\n",
       "      <th></th>\n",
       "      <th>Article</th>\n",
       "      <th>Click</th>\n",
       "      <th>Time</th>\n",
       "      <th>Title</th>\n",
       "    </tr>\n",
       "  </thead>\n",
       "  <tbody>\n",
       "    <tr>\n",
       "      <th>0</th>\n",
       "      <td>[【綜合報導】長榮集團大房、二房爭產風波昨出現戲劇性變化，二房獨子張國煒一夕之間慘敗！長榮航...</td>\n",
       "      <td>人氣(110776)</td>\n",
       "      <td>2016年03月12日</td>\n",
       "      <td>爭產慘敗 張國煒被拔董座</td>\n",
       "    </tr>\n",
       "  </tbody>\n",
       "</table>\n",
       "</div>"
      ],
      "text/plain": [
       "                                             Article       Click         Time  \\\n",
       "0  [【綜合報導】長榮集團大房、二房爭產風波昨出現戲劇性變化，二房獨子張國煒一夕之間慘敗！長榮航...  人氣(110776)  2016年03月12日   \n",
       "\n",
       "          Title  \n",
       "0  爭產慘敗 張國煒被拔董座  "
      ]
     },
     "execution_count": 6,
     "metadata": {},
     "output_type": "execute_result"
    }
   ],
   "source": [
    "import pandas as pd\n",
    "df = pd.DataFrame(L)\n",
    "df.head(1)"
   ]
  },
  {
   "cell_type": "markdown",
   "metadata": {},
   "source": [
    "## 補充:抓下原始頁面"
   ]
  },
  {
   "cell_type": "code",
   "execution_count": 12,
   "metadata": {
    "collapsed": true
   },
   "outputs": [
    {
     "ename": "KeyboardInterrupt",
     "evalue": "",
     "output_type": "error",
     "traceback": [
      "\u001b[1;31m---------------------------------------------------------------------------\u001b[0m",
      "\u001b[1;31mKeyboardInterrupt\u001b[0m                         Traceback (most recent call last)",
      "\u001b[1;32m<ipython-input-12-46893fc591e5>\u001b[0m in \u001b[0;36m<module>\u001b[1;34m()\u001b[0m\n\u001b[0;32m     14\u001b[0m     \u001b[0mf\u001b[0m \u001b[1;33m=\u001b[0m \u001b[0mopen\u001b[0m\u001b[1;33m(\u001b[0m\u001b[1;34m'C:/Users/BIG DATA/Desktop/Apple_news/{}.text'\u001b[0m\u001b[1;33m.\u001b[0m\u001b[0mformat\u001b[0m\u001b[1;33m(\u001b[0m\u001b[0mdatestring\u001b[0m\u001b[1;33m)\u001b[0m\u001b[1;33m,\u001b[0m\u001b[1;34m'r'\u001b[0m\u001b[1;33m)\u001b[0m\u001b[1;33m\u001b[0m\u001b[0m\n\u001b[0;32m     15\u001b[0m     \u001b[1;32mfor\u001b[0m \u001b[0murl\u001b[0m \u001b[1;32min\u001b[0m \u001b[0mf\u001b[0m\u001b[1;33m.\u001b[0m\u001b[0mreadlines\u001b[0m\u001b[1;33m(\u001b[0m\u001b[1;33m)\u001b[0m\u001b[1;33m:\u001b[0m\u001b[1;33m\u001b[0m\u001b[0m\n\u001b[1;32m---> 16\u001b[1;33m         \u001b[0mres\u001b[0m \u001b[1;33m=\u001b[0m \u001b[0mrequests\u001b[0m\u001b[1;33m.\u001b[0m\u001b[0mget\u001b[0m\u001b[1;33m(\u001b[0m\u001b[0murl\u001b[0m\u001b[1;33m)\u001b[0m\u001b[1;33m\u001b[0m\u001b[0m\n\u001b[0m\u001b[0;32m     17\u001b[0m         \u001b[0msoup\u001b[0m \u001b[1;33m=\u001b[0m \u001b[0mBeautifulSoup\u001b[0m\u001b[1;33m(\u001b[0m\u001b[0mres\u001b[0m\u001b[1;33m.\u001b[0m\u001b[0mtext\u001b[0m\u001b[1;33m)\u001b[0m\u001b[1;33m\u001b[0m\u001b[0m\n\u001b[0;32m     18\u001b[0m         \u001b[0mto_file\u001b[0m \u001b[1;33m=\u001b[0m \u001b[0msoup\u001b[0m\u001b[1;33m.\u001b[0m\u001b[0mselect\u001b[0m\u001b[1;33m(\u001b[0m\u001b[1;34m'#maincontent'\u001b[0m\u001b[1;33m)\u001b[0m\u001b[1;33m[\u001b[0m\u001b[1;36m0\u001b[0m\u001b[1;33m]\u001b[0m\u001b[1;33m\u001b[0m\u001b[0m\n",
      "\u001b[1;32mC:\\Users\\BIG DATA\\Anaconda2\\lib\\site-packages\\requests\\api.pyc\u001b[0m in \u001b[0;36mget\u001b[1;34m(url, params, **kwargs)\u001b[0m\n\u001b[0;32m     65\u001b[0m \u001b[1;33m\u001b[0m\u001b[0m\n\u001b[0;32m     66\u001b[0m     \u001b[0mkwargs\u001b[0m\u001b[1;33m.\u001b[0m\u001b[0msetdefault\u001b[0m\u001b[1;33m(\u001b[0m\u001b[1;34m'allow_redirects'\u001b[0m\u001b[1;33m,\u001b[0m \u001b[0mTrue\u001b[0m\u001b[1;33m)\u001b[0m\u001b[1;33m\u001b[0m\u001b[0m\n\u001b[1;32m---> 67\u001b[1;33m     \u001b[1;32mreturn\u001b[0m \u001b[0mrequest\u001b[0m\u001b[1;33m(\u001b[0m\u001b[1;34m'get'\u001b[0m\u001b[1;33m,\u001b[0m \u001b[0murl\u001b[0m\u001b[1;33m,\u001b[0m \u001b[0mparams\u001b[0m\u001b[1;33m=\u001b[0m\u001b[0mparams\u001b[0m\u001b[1;33m,\u001b[0m \u001b[1;33m**\u001b[0m\u001b[0mkwargs\u001b[0m\u001b[1;33m)\u001b[0m\u001b[1;33m\u001b[0m\u001b[0m\n\u001b[0m\u001b[0;32m     68\u001b[0m \u001b[1;33m\u001b[0m\u001b[0m\n\u001b[0;32m     69\u001b[0m \u001b[1;33m\u001b[0m\u001b[0m\n",
      "\u001b[1;32mC:\\Users\\BIG DATA\\Anaconda2\\lib\\site-packages\\requests\\api.pyc\u001b[0m in \u001b[0;36mrequest\u001b[1;34m(method, url, **kwargs)\u001b[0m\n\u001b[0;32m     51\u001b[0m     \u001b[1;31m# cases, and look like a memory leak in others.\u001b[0m\u001b[1;33m\u001b[0m\u001b[1;33m\u001b[0m\u001b[0m\n\u001b[0;32m     52\u001b[0m     \u001b[1;32mwith\u001b[0m \u001b[0msessions\u001b[0m\u001b[1;33m.\u001b[0m\u001b[0mSession\u001b[0m\u001b[1;33m(\u001b[0m\u001b[1;33m)\u001b[0m \u001b[1;32mas\u001b[0m \u001b[0msession\u001b[0m\u001b[1;33m:\u001b[0m\u001b[1;33m\u001b[0m\u001b[0m\n\u001b[1;32m---> 53\u001b[1;33m         \u001b[1;32mreturn\u001b[0m \u001b[0msession\u001b[0m\u001b[1;33m.\u001b[0m\u001b[0mrequest\u001b[0m\u001b[1;33m(\u001b[0m\u001b[0mmethod\u001b[0m\u001b[1;33m=\u001b[0m\u001b[0mmethod\u001b[0m\u001b[1;33m,\u001b[0m \u001b[0murl\u001b[0m\u001b[1;33m=\u001b[0m\u001b[0murl\u001b[0m\u001b[1;33m,\u001b[0m \u001b[1;33m**\u001b[0m\u001b[0mkwargs\u001b[0m\u001b[1;33m)\u001b[0m\u001b[1;33m\u001b[0m\u001b[0m\n\u001b[0m\u001b[0;32m     54\u001b[0m \u001b[1;33m\u001b[0m\u001b[0m\n\u001b[0;32m     55\u001b[0m \u001b[1;33m\u001b[0m\u001b[0m\n",
      "\u001b[1;32mC:\\Users\\BIG DATA\\Anaconda2\\lib\\site-packages\\requests\\sessions.pyc\u001b[0m in \u001b[0;36mrequest\u001b[1;34m(self, method, url, params, data, headers, cookies, files, auth, timeout, allow_redirects, proxies, hooks, stream, verify, cert, json)\u001b[0m\n\u001b[0;32m    466\u001b[0m         }\n\u001b[0;32m    467\u001b[0m         \u001b[0msend_kwargs\u001b[0m\u001b[1;33m.\u001b[0m\u001b[0mupdate\u001b[0m\u001b[1;33m(\u001b[0m\u001b[0msettings\u001b[0m\u001b[1;33m)\u001b[0m\u001b[1;33m\u001b[0m\u001b[0m\n\u001b[1;32m--> 468\u001b[1;33m         \u001b[0mresp\u001b[0m \u001b[1;33m=\u001b[0m \u001b[0mself\u001b[0m\u001b[1;33m.\u001b[0m\u001b[0msend\u001b[0m\u001b[1;33m(\u001b[0m\u001b[0mprep\u001b[0m\u001b[1;33m,\u001b[0m \u001b[1;33m**\u001b[0m\u001b[0msend_kwargs\u001b[0m\u001b[1;33m)\u001b[0m\u001b[1;33m\u001b[0m\u001b[0m\n\u001b[0m\u001b[0;32m    469\u001b[0m \u001b[1;33m\u001b[0m\u001b[0m\n\u001b[0;32m    470\u001b[0m         \u001b[1;32mreturn\u001b[0m \u001b[0mresp\u001b[0m\u001b[1;33m\u001b[0m\u001b[0m\n",
      "\u001b[1;32mC:\\Users\\BIG DATA\\Anaconda2\\lib\\site-packages\\requests\\sessions.pyc\u001b[0m in \u001b[0;36msend\u001b[1;34m(self, request, **kwargs)\u001b[0m\n\u001b[0;32m    574\u001b[0m \u001b[1;33m\u001b[0m\u001b[0m\n\u001b[0;32m    575\u001b[0m         \u001b[1;31m# Send the request\u001b[0m\u001b[1;33m\u001b[0m\u001b[1;33m\u001b[0m\u001b[0m\n\u001b[1;32m--> 576\u001b[1;33m         \u001b[0mr\u001b[0m \u001b[1;33m=\u001b[0m \u001b[0madapter\u001b[0m\u001b[1;33m.\u001b[0m\u001b[0msend\u001b[0m\u001b[1;33m(\u001b[0m\u001b[0mrequest\u001b[0m\u001b[1;33m,\u001b[0m \u001b[1;33m**\u001b[0m\u001b[0mkwargs\u001b[0m\u001b[1;33m)\u001b[0m\u001b[1;33m\u001b[0m\u001b[0m\n\u001b[0m\u001b[0;32m    577\u001b[0m \u001b[1;33m\u001b[0m\u001b[0m\n\u001b[0;32m    578\u001b[0m         \u001b[1;31m# Total elapsed time of the request (approximately)\u001b[0m\u001b[1;33m\u001b[0m\u001b[1;33m\u001b[0m\u001b[0m\n",
      "\u001b[1;32mC:\\Users\\BIG DATA\\Anaconda2\\lib\\site-packages\\requests\\adapters.pyc\u001b[0m in \u001b[0;36msend\u001b[1;34m(self, request, stream, timeout, verify, cert, proxies)\u001b[0m\n\u001b[0;32m    374\u001b[0m                     \u001b[0mdecode_content\u001b[0m\u001b[1;33m=\u001b[0m\u001b[0mFalse\u001b[0m\u001b[1;33m,\u001b[0m\u001b[1;33m\u001b[0m\u001b[0m\n\u001b[0;32m    375\u001b[0m                     \u001b[0mretries\u001b[0m\u001b[1;33m=\u001b[0m\u001b[0mself\u001b[0m\u001b[1;33m.\u001b[0m\u001b[0mmax_retries\u001b[0m\u001b[1;33m,\u001b[0m\u001b[1;33m\u001b[0m\u001b[0m\n\u001b[1;32m--> 376\u001b[1;33m                     \u001b[0mtimeout\u001b[0m\u001b[1;33m=\u001b[0m\u001b[0mtimeout\u001b[0m\u001b[1;33m\u001b[0m\u001b[0m\n\u001b[0m\u001b[0;32m    377\u001b[0m                 )\n\u001b[0;32m    378\u001b[0m \u001b[1;33m\u001b[0m\u001b[0m\n",
      "\u001b[1;32mC:\\Users\\BIG DATA\\Anaconda2\\lib\\site-packages\\requests\\packages\\urllib3\\connectionpool.pyc\u001b[0m in \u001b[0;36murlopen\u001b[1;34m(self, method, url, body, headers, retries, redirect, assert_same_host, timeout, pool_timeout, release_conn, **response_kw)\u001b[0m\n\u001b[0;32m    557\u001b[0m             httplib_response = self._make_request(conn, method, url,\n\u001b[0;32m    558\u001b[0m                                                   \u001b[0mtimeout\u001b[0m\u001b[1;33m=\u001b[0m\u001b[0mtimeout_obj\u001b[0m\u001b[1;33m,\u001b[0m\u001b[1;33m\u001b[0m\u001b[0m\n\u001b[1;32m--> 559\u001b[1;33m                                                   body=body, headers=headers)\n\u001b[0m\u001b[0;32m    560\u001b[0m \u001b[1;33m\u001b[0m\u001b[0m\n\u001b[0;32m    561\u001b[0m             \u001b[1;31m# If we're going to release the connection in ``finally:``, then\u001b[0m\u001b[1;33m\u001b[0m\u001b[1;33m\u001b[0m\u001b[0m\n",
      "\u001b[1;32mC:\\Users\\BIG DATA\\Anaconda2\\lib\\site-packages\\requests\\packages\\urllib3\\connectionpool.pyc\u001b[0m in \u001b[0;36m_make_request\u001b[1;34m(self, conn, method, url, timeout, **httplib_request_kw)\u001b[0m\n\u001b[0;32m    374\u001b[0m         \u001b[1;32mtry\u001b[0m\u001b[1;33m:\u001b[0m\u001b[1;33m\u001b[0m\u001b[0m\n\u001b[0;32m    375\u001b[0m             \u001b[1;32mtry\u001b[0m\u001b[1;33m:\u001b[0m  \u001b[1;31m# Python 2.7, use buffering of HTTP responses\u001b[0m\u001b[1;33m\u001b[0m\u001b[0m\n\u001b[1;32m--> 376\u001b[1;33m                 \u001b[0mhttplib_response\u001b[0m \u001b[1;33m=\u001b[0m \u001b[0mconn\u001b[0m\u001b[1;33m.\u001b[0m\u001b[0mgetresponse\u001b[0m\u001b[1;33m(\u001b[0m\u001b[0mbuffering\u001b[0m\u001b[1;33m=\u001b[0m\u001b[0mTrue\u001b[0m\u001b[1;33m)\u001b[0m\u001b[1;33m\u001b[0m\u001b[0m\n\u001b[0m\u001b[0;32m    377\u001b[0m             \u001b[1;32mexcept\u001b[0m \u001b[0mTypeError\u001b[0m\u001b[1;33m:\u001b[0m  \u001b[1;31m# Python 2.6 and older\u001b[0m\u001b[1;33m\u001b[0m\u001b[0m\n\u001b[0;32m    378\u001b[0m                 \u001b[0mhttplib_response\u001b[0m \u001b[1;33m=\u001b[0m \u001b[0mconn\u001b[0m\u001b[1;33m.\u001b[0m\u001b[0mgetresponse\u001b[0m\u001b[1;33m(\u001b[0m\u001b[1;33m)\u001b[0m\u001b[1;33m\u001b[0m\u001b[0m\n",
      "\u001b[1;32mC:\\Users\\BIG DATA\\Anaconda2\\lib\\httplib.pyc\u001b[0m in \u001b[0;36mgetresponse\u001b[1;34m(self, buffering)\u001b[0m\n\u001b[0;32m   1134\u001b[0m \u001b[1;33m\u001b[0m\u001b[0m\n\u001b[0;32m   1135\u001b[0m         \u001b[1;32mtry\u001b[0m\u001b[1;33m:\u001b[0m\u001b[1;33m\u001b[0m\u001b[0m\n\u001b[1;32m-> 1136\u001b[1;33m             \u001b[0mresponse\u001b[0m\u001b[1;33m.\u001b[0m\u001b[0mbegin\u001b[0m\u001b[1;33m(\u001b[0m\u001b[1;33m)\u001b[0m\u001b[1;33m\u001b[0m\u001b[0m\n\u001b[0m\u001b[0;32m   1137\u001b[0m             \u001b[1;32massert\u001b[0m \u001b[0mresponse\u001b[0m\u001b[1;33m.\u001b[0m\u001b[0mwill_close\u001b[0m \u001b[1;33m!=\u001b[0m \u001b[0m_UNKNOWN\u001b[0m\u001b[1;33m\u001b[0m\u001b[0m\n\u001b[0;32m   1138\u001b[0m             \u001b[0mself\u001b[0m\u001b[1;33m.\u001b[0m\u001b[0m__state\u001b[0m \u001b[1;33m=\u001b[0m \u001b[0m_CS_IDLE\u001b[0m\u001b[1;33m\u001b[0m\u001b[0m\n",
      "\u001b[1;32mC:\\Users\\BIG DATA\\Anaconda2\\lib\\httplib.pyc\u001b[0m in \u001b[0;36mbegin\u001b[1;34m(self)\u001b[0m\n\u001b[0;32m    451\u001b[0m         \u001b[1;31m# read until we get a non-100 response\u001b[0m\u001b[1;33m\u001b[0m\u001b[1;33m\u001b[0m\u001b[0m\n\u001b[0;32m    452\u001b[0m         \u001b[1;32mwhile\u001b[0m \u001b[0mTrue\u001b[0m\u001b[1;33m:\u001b[0m\u001b[1;33m\u001b[0m\u001b[0m\n\u001b[1;32m--> 453\u001b[1;33m             \u001b[0mversion\u001b[0m\u001b[1;33m,\u001b[0m \u001b[0mstatus\u001b[0m\u001b[1;33m,\u001b[0m \u001b[0mreason\u001b[0m \u001b[1;33m=\u001b[0m \u001b[0mself\u001b[0m\u001b[1;33m.\u001b[0m\u001b[0m_read_status\u001b[0m\u001b[1;33m(\u001b[0m\u001b[1;33m)\u001b[0m\u001b[1;33m\u001b[0m\u001b[0m\n\u001b[0m\u001b[0;32m    454\u001b[0m             \u001b[1;32mif\u001b[0m \u001b[0mstatus\u001b[0m \u001b[1;33m!=\u001b[0m \u001b[0mCONTINUE\u001b[0m\u001b[1;33m:\u001b[0m\u001b[1;33m\u001b[0m\u001b[0m\n\u001b[0;32m    455\u001b[0m                 \u001b[1;32mbreak\u001b[0m\u001b[1;33m\u001b[0m\u001b[0m\n",
      "\u001b[1;32mC:\\Users\\BIG DATA\\Anaconda2\\lib\\httplib.pyc\u001b[0m in \u001b[0;36m_read_status\u001b[1;34m(self)\u001b[0m\n\u001b[0;32m    407\u001b[0m     \u001b[1;32mdef\u001b[0m \u001b[0m_read_status\u001b[0m\u001b[1;33m(\u001b[0m\u001b[0mself\u001b[0m\u001b[1;33m)\u001b[0m\u001b[1;33m:\u001b[0m\u001b[1;33m\u001b[0m\u001b[0m\n\u001b[0;32m    408\u001b[0m         \u001b[1;31m# Initialize with Simple-Response defaults\u001b[0m\u001b[1;33m\u001b[0m\u001b[1;33m\u001b[0m\u001b[0m\n\u001b[1;32m--> 409\u001b[1;33m         \u001b[0mline\u001b[0m \u001b[1;33m=\u001b[0m \u001b[0mself\u001b[0m\u001b[1;33m.\u001b[0m\u001b[0mfp\u001b[0m\u001b[1;33m.\u001b[0m\u001b[0mreadline\u001b[0m\u001b[1;33m(\u001b[0m\u001b[0m_MAXLINE\u001b[0m \u001b[1;33m+\u001b[0m \u001b[1;36m1\u001b[0m\u001b[1;33m)\u001b[0m\u001b[1;33m\u001b[0m\u001b[0m\n\u001b[0m\u001b[0;32m    410\u001b[0m         \u001b[1;32mif\u001b[0m \u001b[0mlen\u001b[0m\u001b[1;33m(\u001b[0m\u001b[0mline\u001b[0m\u001b[1;33m)\u001b[0m \u001b[1;33m>\u001b[0m \u001b[0m_MAXLINE\u001b[0m\u001b[1;33m:\u001b[0m\u001b[1;33m\u001b[0m\u001b[0m\n\u001b[0;32m    411\u001b[0m             \u001b[1;32mraise\u001b[0m \u001b[0mLineTooLong\u001b[0m\u001b[1;33m(\u001b[0m\u001b[1;34m\"header line\"\u001b[0m\u001b[1;33m)\u001b[0m\u001b[1;33m\u001b[0m\u001b[0m\n",
      "\u001b[1;32mC:\\Users\\BIG DATA\\Anaconda2\\lib\\socket.pyc\u001b[0m in \u001b[0;36mreadline\u001b[1;34m(self, size)\u001b[0m\n\u001b[0;32m    478\u001b[0m             \u001b[1;32mwhile\u001b[0m \u001b[0mTrue\u001b[0m\u001b[1;33m:\u001b[0m\u001b[1;33m\u001b[0m\u001b[0m\n\u001b[0;32m    479\u001b[0m                 \u001b[1;32mtry\u001b[0m\u001b[1;33m:\u001b[0m\u001b[1;33m\u001b[0m\u001b[0m\n\u001b[1;32m--> 480\u001b[1;33m                     \u001b[0mdata\u001b[0m \u001b[1;33m=\u001b[0m \u001b[0mself\u001b[0m\u001b[1;33m.\u001b[0m\u001b[0m_sock\u001b[0m\u001b[1;33m.\u001b[0m\u001b[0mrecv\u001b[0m\u001b[1;33m(\u001b[0m\u001b[0mself\u001b[0m\u001b[1;33m.\u001b[0m\u001b[0m_rbufsize\u001b[0m\u001b[1;33m)\u001b[0m\u001b[1;33m\u001b[0m\u001b[0m\n\u001b[0m\u001b[0;32m    481\u001b[0m                 \u001b[1;32mexcept\u001b[0m \u001b[0merror\u001b[0m\u001b[1;33m,\u001b[0m \u001b[0me\u001b[0m\u001b[1;33m:\u001b[0m\u001b[1;33m\u001b[0m\u001b[0m\n\u001b[0;32m    482\u001b[0m                     \u001b[1;32mif\u001b[0m \u001b[0me\u001b[0m\u001b[1;33m.\u001b[0m\u001b[0margs\u001b[0m\u001b[1;33m[\u001b[0m\u001b[1;36m0\u001b[0m\u001b[1;33m]\u001b[0m \u001b[1;33m==\u001b[0m \u001b[0mEINTR\u001b[0m\u001b[1;33m:\u001b[0m\u001b[1;33m\u001b[0m\u001b[0m\n",
      "\u001b[1;31mKeyboardInterrupt\u001b[0m: "
     ]
    }
   ],
   "source": [
    "#將每一個news_url的內容抓取   \n",
    "import datetime as dt\n",
    "import requests\n",
    "import time\n",
    "from bs4 import BeautifulSoup\n",
    "count = 0\n",
    "#製造日期的迴圈\n",
    "startdate = dt.datetime(2016, 3,12)\n",
    "endate = dt.datetime(2016, 3,12)\n",
    "totaldays = (endate - startdate).days + 1\n",
    "for daynumber in range(totaldays):\n",
    "    datestring = (startdate + dt.timedelta(days = daynumber)).date().strftime(\"%Y%m%d\") \n",
    "    #開起每天的url檔案\n",
    "    f = open('C:/Users/BIG DATA/Desktop/Apple_news/{}.text'.format(datestring),'r')\n",
    "    for url in f.readlines():\n",
    "        res = requests.get(url)\n",
    "        soup = BeautifulSoup(res.text)\n",
    "        to_file = soup.select('#maincontent')[0]\n",
    "        file_date,file_num = url.split('/')[6],url.split('/')[7]  #替檔案取名子  \n",
    "        f = open('C:/Users/BIG DATA/Desktop/Apple_news/{}_{}.text'.format(file_date,file_num),'w')\n",
    "        f.write(to_file.prettify().encode('utf-8')) #prettify()先把檔案轉unicode，再用encode('utf-8')編碼\n",
    "        time.sleep(0.6)\n",
    "        f.close()\n",
    "    f.close()"
   ]
  },
  {
   "cell_type": "markdown",
   "metadata": {
    "collapsed": true
   },
   "source": [
    "## 統整程式碼-把資料匯入資料庫"
   ]
  },
  {
   "cell_type": "markdown",
   "metadata": {
    "collapsed": true
   },
   "source": [
    "## 步驟0 建立套件"
   ]
  },
  {
   "cell_type": "code",
   "execution_count": 1,
   "metadata": {
    "collapsed": true
   },
   "outputs": [],
   "source": [
    "import requests\n",
    "from bs4 import BeautifulSoup\n",
    "from datetime import datetime\n",
    "import os, sys, re"
   ]
  },
  {
   "cell_type": "markdown",
   "metadata": {},
   "source": [
    "## 步驟一、建立資料抽出函式"
   ]
  },
  {
   "cell_type": "code",
   "execution_count": 5,
   "metadata": {
    "collapsed": false
   },
   "outputs": [],
   "source": [
    "def get_response_element(file_name):\n",
    "    f = open(file_name,'r')\n",
    "    response_text = f.read()\n",
    "    f.close()\n",
    "    soup = BeautifulSoup(response_text)\n",
    "    try:\n",
    "        #抓標題跟副標題\n",
    "        title1 = soup.select('#h1')[0].text\n",
    "        title2 = soup.select('#h2')[0].text \n",
    "        #抓內文\n",
    "        div= soup.select('.articulum')[0]   #先把所有內文抓到\n",
    "        ps = div.select('p')                #再把裡面所有的p標籤抓到\n",
    "        for p in ps:                        #把每個p標籤一個一個抓出來印\n",
    "            article = p.text\n",
    "        #抓日期\n",
    "        time = soup.select('.gggs')[0].select('time')[0].text\n",
    "        #抓人氣\n",
    "        click = soup.select('#toolbar')[0].select('a')[3].text \n",
    "    except IndexError:\n",
    "        count +=1\n",
    "        print count\n",
    "    return title1,title2,article,time,click"
   ]
  },
  {
   "cell_type": "code",
   "execution_count": 6,
   "metadata": {
    "collapsed": false
   },
   "outputs": [
    {
     "data": {
      "text/plain": [
       "(u'\\n      \\u7f8e\\u9b54\\u5973\\u73fe\\u8eab\\u8aaa\\u6cd5 \\u9019\\u7a2e\\u7d14\\u7684\\u81a0\\u539f\\u86cb\\u767d\\u7c89\\u5403\\u8d77\\u4f86\\u66f4\\u6709\\u6548\\n     ',\n",
       " u'\\n',\n",
       " u'\\n     \\u6211\\u8981\\u8cfc\\u8cb7\\n     \\n\\n      http://www.ionce.com.tw/py_once_1_app.html\\n     \\n\\n',\n",
       " u'\\n     2016\\u5e7403\\u670812\\u65e5\\n    ',\n",
       " u'\\n    \\u4eba\\u6c23(2337)\\n   ')"
      ]
     },
     "execution_count": 6,
     "metadata": {},
     "output_type": "execute_result"
    }
   ],
   "source": [
    "get_response_element('C:/Users/BIG DATA/Desktop/Apple_news/20160312_37104403.text')"
   ]
  },
  {
   "cell_type": "markdown",
   "metadata": {
    "collapsed": true
   },
   "source": [
    "## 步驟二、建立時間轉換格式"
   ]
  },
  {
   "cell_type": "code",
   "execution_count": 21,
   "metadata": {
    "collapsed": true
   },
   "outputs": [],
   "source": [
    "#要把表格內的時間的部分，轉換成時間的格式\n",
    "import re\n",
    "def date_conversion(element):\n",
    "        m = re.match(\"(\\d+)年(\\d+)月(\\d+)日\",element)\n",
    "        if m is not None:\n",
    "            return m.group(1),m.group(2),m.group(3)\n",
    "        else:\n",
    "            return None"
   ]
  },
  {
   "cell_type": "code",
   "execution_count": 22,
   "metadata": {
    "collapsed": false
   },
   "outputs": [
    {
     "data": {
      "text/plain": [
       "('2016', '12', '03')"
      ]
     },
     "execution_count": 22,
     "metadata": {},
     "output_type": "execute_result"
    }
   ],
   "source": [
    "date_conversion('2016年12月03日')"
   ]
  },
  {
   "cell_type": "markdown",
   "metadata": {},
   "source": [
    "## 步驟三、建立移除空白函式"
   ]
  },
  {
   "cell_type": "code",
   "execution_count": 7,
   "metadata": {
    "collapsed": true
   },
   "outputs": [],
   "source": [
    "def remove_space(element): \n",
    "    return \"\".join(element.split())"
   ]
  },
  {
   "cell_type": "markdown",
   "metadata": {},
   "source": [
    "## 步驟四、建立人氣函式"
   ]
  },
  {
   "cell_type": "code",
   "execution_count": null,
   "metadata": {
    "collapsed": true
   },
   "outputs": [],
   "source": []
  },
  {
   "cell_type": "markdown",
   "metadata": {
    "collapsed": true
   },
   "source": [
    "## 步驟五、建立整理之新聞函式(將資料放入字典內)"
   ]
  },
  {
   "cell_type": "code",
   "execution_count": 10,
   "metadata": {
    "collapsed": false
   },
   "outputs": [],
   "source": [
    "def get_award_info_dic(element):\n",
    "    returned_dic = {}\n",
    "    returned_dic = {}\n",
    "    returned_dic['news_title'] = remove_space(element[0])\n",
    "    returned_dic['news_subtitle'] = remove_space(element[1])\n",
    "    returned_dic['news_content'] = remove_space(element[2])\n",
    "    returned_dic['news_date'] = remove_space(element[3])\n",
    "    returned_dic['news_click'] = remove_space(element[4])\n",
    "    return returned_dic"
   ]
  },
  {
   "cell_type": "code",
   "execution_count": 11,
   "metadata": {
    "collapsed": false
   },
   "outputs": [
    {
     "data": {
      "text/plain": [
       "{'news_click': u'\\u4eba\\u6c23(3794)',\n",
       " 'news_content': u'\\u8cc7\\u8a0a\\u7206\\u70b8\\u7684\\u6642\\u4ee3\\uff0c\\u5206\\u8fa8\\u5177\\u516c\\u4fe1\\u529b\\u7684\\u6e2c\\u8a66\\u5831\\u544a\\uff0c\\u624d\\u662f\\u6700\\u91cd\\u8981\\u7684\\uff0c\\u4ec0\\u9ebc\\u662f\\u300c\\u5177\\u516c\\u4fe1\\u529b\\u300d\\u7684\\u6e2c\\u8a66\\u5831\\u544a\\uff1f\\u9664\\u4e86\\u6e2c\\u8a66\\u5e73\\u53f0\\u9700\\u8981\\u88ab\\u8a8d\\u53ef\\uff0c\\u6e2c\\u8a66\\u8cc7\\u6599\\u4f86\\u6e90\\u9700\\u6db5\\u84cb\\u5168\\u5340\\u57df\\uff0c\\u4e26\\u8490\\u96c6\\u5920\\u591a\\u6a23\\u672c\\u7684\\u5831\\u544a\\uff0c\\u624d\\u80fd\\u7b97\\u662f\\u771f\\u6b63\\u5177\\u6709\\u516c\\u4fe1\\u529b\\u7684\\u6e2c\\u8a66\\u7d50\\u679c\\u3002\\u99ac\\u4e0a\\u770b\\u66f4\\u591a\\u8a73\\u60c5>>http://goo.gl/zTR8uh<BR><BR>#div-incover-ad{display:none}#div-onead-ad{display:none}#div-inread-ad{display:none}',\n",
       " 'news_date': u'2016\\u5e7403\\u670812\\u65e5',\n",
       " 'news_subtitle': '',\n",
       " 'news_title': u'\\u8001\\u95c6\\u5e79\\u9ebb\\u53c8\\u767c\\u98c6\\uff1f\\u53ea\\u56e0\\u70ba\\u4ed6\\u2026'}"
      ]
     },
     "execution_count": 11,
     "metadata": {},
     "output_type": "execute_result"
    }
   ],
   "source": [
    "#測試\n",
    "ele = get_response_element('C:/Users/BIG DATA/Desktop/Apple_news/20160312_37104569.text')\n",
    "get_award_info_dic(ele)"
   ]
  },
  {
   "cell_type": "markdown",
   "metadata": {},
   "source": [
    "## 步驟七、瀏覽整理過的資料"
   ]
  },
  {
   "cell_type": "code",
   "execution_count": 9,
   "metadata": {
    "collapsed": false
   },
   "outputs": [
    {
     "ename": "NameError",
     "evalue": "name 'get_award_info_dic' is not defined",
     "output_type": "error",
     "traceback": [
      "\u001b[1;31m---------------------------------------------------------------------------\u001b[0m",
      "\u001b[1;31mNameError\u001b[0m                                 Traceback (most recent call last)",
      "\u001b[1;32m<ipython-input-9-6b33381dfad6>\u001b[0m in \u001b[0;36m<module>\u001b[1;34m()\u001b[0m\n\u001b[0;32m      1\u001b[0m \u001b[0melement\u001b[0m \u001b[1;33m=\u001b[0m \u001b[0mget_response_element\u001b[0m\u001b[1;33m(\u001b[0m\u001b[1;34m'C:/Users/BIG DATA/Desktop/Apple_news/20160312_37105851.text'\u001b[0m\u001b[1;33m)\u001b[0m\u001b[1;33m\u001b[0m\u001b[0m\n\u001b[1;32m----> 2\u001b[1;33m \u001b[0mdic\u001b[0m \u001b[1;33m=\u001b[0m \u001b[0mget_award_info_dic\u001b[0m\u001b[1;33m(\u001b[0m\u001b[0melement\u001b[0m\u001b[1;33m)\u001b[0m\u001b[1;33m\u001b[0m\u001b[0m\n\u001b[0m\u001b[0;32m      3\u001b[0m \u001b[1;32mfor\u001b[0m \u001b[0mele\u001b[0m \u001b[1;32min\u001b[0m \u001b[0mdic\u001b[0m\u001b[1;33m:\u001b[0m\u001b[1;33m\u001b[0m\u001b[0m\n\u001b[0;32m      4\u001b[0m     \u001b[1;32mprint\u001b[0m \u001b[0mele\u001b[0m\u001b[1;33m,\u001b[0m \u001b[0mdic\u001b[0m\u001b[1;33m[\u001b[0m\u001b[0mele\u001b[0m\u001b[1;33m]\u001b[0m\u001b[1;33m\u001b[0m\u001b[0m\n",
      "\u001b[1;31mNameError\u001b[0m: name 'get_award_info_dic' is not defined"
     ]
    }
   ],
   "source": [
    "element = get_response_element('C:/Users/BIG DATA/Desktop/Apple_news/20160312_37105851.text')\n",
    "dic = get_award_info_dic(element)\n",
    "for ele in dic:\n",
    "    print ele, dic[ele]"
   ]
  },
  {
   "cell_type": "code",
   "execution_count": null,
   "metadata": {
    "collapsed": true
   },
   "outputs": [],
   "source": []
  },
  {
   "cell_type": "markdown",
   "metadata": {},
   "source": [
    "## 步驟八json"
   ]
  },
  {
   "cell_type": "code",
   "execution_count": 12,
   "metadata": {
    "collapsed": false
   },
   "outputs": [],
   "source": [
    "import  json\n",
    "\n",
    "data  =  { \n",
    "    'news_title':remove_space(element[0]) , \n",
    "    'news_subtitle':remove_space(element[1]) , \n",
    "    'news_content':remove_space(element[2]) ,\n",
    "    'news_date':remove_space(element[3]) ,\n",
    "    'news_click':remove_space(element[4])\n",
    "}\n",
    "\n",
    "json_str=json.dumps(data)\n"
   ]
  },
  {
   "cell_type": "code",
   "execution_count": 13,
   "metadata": {
    "collapsed": false
   },
   "outputs": [
    {
     "data": {
      "text/plain": [
       "{'news_click': u'\\u4eba\\u6c23(3794)',\n",
       " 'news_content': u'\\u8cc7\\u8a0a\\u7206\\u70b8\\u7684\\u6642\\u4ee3\\uff0c\\u5206\\u8fa8\\u5177\\u516c\\u4fe1\\u529b\\u7684\\u6e2c\\u8a66\\u5831\\u544a\\uff0c\\u624d\\u662f\\u6700\\u91cd\\u8981\\u7684\\uff0c\\u4ec0\\u9ebc\\u662f\\u300c\\u5177\\u516c\\u4fe1\\u529b\\u300d\\u7684\\u6e2c\\u8a66\\u5831\\u544a\\uff1f\\u9664\\u4e86\\u6e2c\\u8a66\\u5e73\\u53f0\\u9700\\u8981\\u88ab\\u8a8d\\u53ef\\uff0c\\u6e2c\\u8a66\\u8cc7\\u6599\\u4f86\\u6e90\\u9700\\u6db5\\u84cb\\u5168\\u5340\\u57df\\uff0c\\u4e26\\u8490\\u96c6\\u5920\\u591a\\u6a23\\u672c\\u7684\\u5831\\u544a\\uff0c\\u624d\\u80fd\\u7b97\\u662f\\u771f\\u6b63\\u5177\\u6709\\u516c\\u4fe1\\u529b\\u7684\\u6e2c\\u8a66\\u7d50\\u679c\\u3002\\u99ac\\u4e0a\\u770b\\u66f4\\u591a\\u8a73\\u60c5>>http://goo.gl/zTR8uh<BR><BR>#div-incover-ad{display:none}#div-onead-ad{display:none}#div-inread-ad{display:none}',\n",
       " 'news_date': u'2016\\u5e7403\\u670812\\u65e5',\n",
       " 'news_subtitle': '',\n",
       " 'news_title': u'\\u8001\\u95c6\\u5e79\\u9ebb\\u53c8\\u767c\\u98c6\\uff1f\\u53ea\\u56e0\\u70ba\\u4ed6\\u2026'}"
      ]
     },
     "execution_count": 13,
     "metadata": {},
     "output_type": "execute_result"
    }
   ],
   "source": [
    "#測試\n",
    "ele = get_response_element('C:/Users/BIG DATA/Desktop/Apple_news/20160312_37104569.text')\n",
    "get_award_info_dic(ele)"
   ]
  },
  {
   "cell_type": "code",
   "execution_count": null,
   "metadata": {
    "collapsed": true
   },
   "outputs": [],
   "source": []
  }
 ],
 "metadata": {
  "kernelspec": {
   "display_name": "Python 2",
   "language": "python",
   "name": "python2"
  },
  "language_info": {
   "codemirror_mode": {
    "name": "ipython",
    "version": 2
   },
   "file_extension": ".py",
   "mimetype": "text/x-python",
   "name": "python",
   "nbconvert_exporter": "python",
   "pygments_lexer": "ipython2",
   "version": "2.7.11"
  }
 },
 "nbformat": 4,
 "nbformat_minor": 0
}
