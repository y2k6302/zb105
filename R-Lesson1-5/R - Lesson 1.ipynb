{
 "cells": [
  {
   "cell_type": "markdown",
   "metadata": {},
   "source": [
    "## Download R & Rstudio\n",
    "- R https://cran.r-project.org/\n",
    "- Rstudio https://www.rstudio.com/\n",
    "- ipython notebook htts://www.continuum.io/blog/developer/jupyter-and-conda-r"
   ]
  },
  {
   "cell_type": "markdown",
   "metadata": {},
   "source": [
    "## Why R?\n",
    "- http://www.kdnuggets.com/2015/05/r-vs-python-data-science.html\n",
    "- http://www.kdnuggets.com/2015/05/poll-r-rapidminer-python-big-data-spark.html"
   ]
  },
  {
   "cell_type": "markdown",
   "metadata": {},
   "source": [
    "## Application of R:\n",
    "- statistic analysis\n",
    "- linear regression\n",
    "- facilal detection https://www.kaggle.com/c/facial-keypoints-detection/details/getting-started-with-r\n",
    "- text mining http://rstudio-pubs-static.s3.amazonaws.com/12422_b2b48bb2da7942acaca5ace45bd8c60c.html"
   ]
  },
  {
   "cell_type": "markdown",
   "metadata": {},
   "source": [
    "## Atomic class 基礎資料型態\n",
    "- num: 1,1.2\n",
    "- integer: 1L\n",
    "- character: \"1\"\n",
    "- logical: TRUE\n",
    "- complex: 1+4i"
   ]
  },
  {
   "cell_type": "markdown",
   "metadata": {},
   "source": [
    "## data structure  資料架構 (每個資料結構會有不同的資料型態組合)\n",
    "- vector\n",
    " - not allow different type of component: it'll transform automatically\n",
    "- matrix\n",
    "- factor\n",
    "- data frame\n",
    "- list"
   ]
  },
  {
   "cell_type": "markdown",
   "metadata": {},
   "source": [
    "## 尋求套件說明"
   ]
  },
  {
   "cell_type": "code",
   "execution_count": null,
   "metadata": {
    "collapsed": true
   },
   "outputs": [],
   "source": [
    "#觀看套件文件\n",
    "hlep(package=\"base\")\n",
    "?base\n",
    "#??套件\n",
    "??base\n",
    "#觀看功能說明\n",
    "?base::sum\n",
    "#搜尋說明功能\n",
    "help.search(\"sum\")\n",
    "#舉例說明\n",
    "example(mean)\n",
    "#觀看範例\n",
    "demo(graphics)"
   ]
  },
  {
   "cell_type": "markdown",
   "metadata": {},
   "source": [
    "## 查詢物件或變數型態"
   ]
  },
  {
   "cell_type": "code",
   "execution_count": 2,
   "metadata": {
    "collapsed": true
   },
   "outputs": [
    {
     "ename": "SyntaxError",
     "evalue": "invalid syntax (<ipython-input-2-3b7b06980b46>, line 3)",
     "output_type": "error",
     "traceback": [
      "\u001b[1;36m  File \u001b[1;32m\"<ipython-input-2-3b7b06980b46>\"\u001b[1;36m, line \u001b[1;32m3\u001b[0m\n\u001b[1;33m    class()\u001b[0m\n\u001b[1;37m         ^\u001b[0m\n\u001b[1;31mSyntaxError\u001b[0m\u001b[1;31m:\u001b[0m invalid syntax\n"
     ]
    }
   ],
   "source": [
    "# lookup data type/structure:\n",
    "typeof()\n",
    "class()\n",
    "str()\n",
    "\n",
    "#查詢資料結構\n",
    "str(a)\n",
    "#查詢結構中的長度\n",
    "length(a)"
   ]
  },
  {
   "cell_type": "markdown",
   "metadata": {},
   "source": [
    "## Basic computing  基本數學運算"
   ]
  },
  {
   "cell_type": "code",
   "execution_count": 1,
   "metadata": {
    "collapsed": true
   },
   "outputs": [
    {
     "ename": "SyntaxError",
     "evalue": "invalid syntax (<ipython-input-1-135f20461377>, line 2)",
     "output_type": "error",
     "traceback": [
      "\u001b[1;36m  File \u001b[1;32m\"<ipython-input-1-135f20461377>\"\u001b[1;36m, line \u001b[1;32m2\u001b[0m\n\u001b[1;33m    1:9\u001b[0m\n\u001b[1;37m     ^\u001b[0m\n\u001b[1;31mSyntaxError\u001b[0m\u001b[1;31m:\u001b[0m invalid syntax\n"
     ]
    }
   ],
   "source": [
    "# num: +-*/%%\n",
    "1:9    #印出1到9\n",
    "sum(1:5)  #從1加到5\n",
    "max()     \n",
    "mean() \n",
    "median()  #算中位數\n",
    "\n",
    "# string 合併字串:\n",
    "paste(\"paste\",\"me\")  \n",
    "paste(\"paste\",\"me\",sep=\"\")   #sep要用甚麼做分隔\n",
    "paste(\"paste\",\"me\",sep=\";\")\n",
    "paste0(\"paste\",\"me\")         #paste0中間不要分開\n",
    "paste( c(\"A\",\"B\"), c(\"C\",\"D\") ,sep=\"\")\n",
    "paste( c(\"A\",\"B\"), c(\"C\",\"D\") ,collapse=\"\")  #collapse 把兩個向量合併\n",
    "paste( c(\"A\",\"B\"), c(\"C\",\"D\") ,sep=\"\",collapse=\"\")\n",
    "\n",
    "#向量之間的運算 - 兩個向量要是倍數關係，否則會出現錯誤\n",
    "x = c(1,2,3,7)\n",
    "y = c(2,3,5,1)\n",
    "c = c(2,3)\n",
    "d = c(2,3,4)\n",
    "x+y\n",
    "x+c\n",
    "x+d  #此行會出現錯誤"
   ]
  },
  {
   "cell_type": "markdown",
   "metadata": {},
   "source": [
    "## Vector 向量 -(只能放相同的資料型態，強制統一)\n",
    "- 註：經由以上比較後，可以得到當放入的形態不同時，會被轉成同一形態，且可以每個形態的強弱不同，以下是強到弱排序。+\n",
    " - character > complex > numeric > integer > logical\n",
    "- 我們可以透過以下二種方式取得向量元素。+\n",
    " - 指標\n",
    " - 元素名稱\n",
    " - 另外可以搭配 [] 或 [[]]，這樣分別會回傳向量元素的所有資訊或向量元素的數值，總共可以分成以下四種狀況。\n",
    "  - x[i]：回傳向量元素所有資訊\n",
    "  - x[[i]]：只回傳向量元素的值\n",
    "  - x[元素名稱]：回傳向量元素所有資訊\n",
    "  - x[[元素名稱]]：只回傳向量元素的值"
   ]
  },
  {
   "cell_type": "code",
   "execution_count": null,
   "metadata": {
    "collapsed": true
   },
   "outputs": [],
   "source": [
    "#宣告x是vector 預設會是logical型態\n",
    "x = vector()\n",
    "\n",
    "# with a length and type 宣告x 是chr型態，並給他長度10\n",
    "x = vector(\"character\", length = 10)\n",
    "\n",
    "character(5)  ## character vector of length 5\n",
    "numeric(5)\n",
    "logical(5)\n",
    "x1 = c(1L, 2L, 3L)\n",
    "x2 = c(0, 1L, \"a\", TRUE, 1 + (1+2i))  #裡面的內容會被強制被轉換為\"字串\"\n",
    "\n",
    "# 向量要加一個元素進去，要額外指定變數，才會永遠存進去\n",
    "append(x1,10L)\n",
    "c(a,2)  #use this"
   ]
  },
  {
   "cell_type": "code",
   "execution_count": null,
   "metadata": {
    "collapsed": true
   },
   "outputs": [],
   "source": [
    "#用 names 指定向量的名稱\n",
    "#法一\n",
    "heught_vec = c(180,169,173)\n",
    "names(heught_vec) = c(\"Brian\",\"Toby\",\"Sherry\")  #直接把名字指定給相對應的向量\n",
    "heught_vec\n",
    "#法二\n",
    "heught_vec = c(180,169,173)\n",
    "names_vec = c(\"Brian\",\"Toby\",\"Sherry\") #創造一個名字的向量\n",
    "names(heught_vec) = name_vec           #再把向量塞進名子的函數中\n"
   ]
  },
  {
   "cell_type": "code",
   "execution_count": null,
   "metadata": {
    "collapsed": true
   },
   "outputs": [],
   "source": [
    "#判斷向量是否符合條件 (> < = == >= <= !=)\n",
    "heught_vec > 175"
   ]
  },
  {
   "cell_type": "markdown",
   "metadata": {},
   "source": [
    "## 計算BMI"
   ]
  },
  {
   "cell_type": "code",
   "execution_count": null,
   "metadata": {
    "collapsed": true
   },
   "outputs": [],
   "source": [
    "# for loop\n",
    "weight = c(73,87,43)\n",
    "height = c(180,169,173)\n",
    "for(i in 1:3){\n",
    "        print(weight[i]/((height[i])/100)^2)\n",
    "}\n",
    "# smart\n",
    "weight/((height/100)^2)\n",
    "\n",
    "# if 的寫法\n",
    "weight = c(73,87,43)\n",
    "height = c(180,169,173)\n",
    "for(i in 1:3){ \n",
    "  if ((weight[i]/(height[i]/100)^2) >= 24){\n",
    "    print(weight[i]/(height[i]/100)^2)\n",
    "  }\n",
    "}"
   ]
  },
  {
   "cell_type": "markdown",
   "metadata": {},
   "source": [
    "## \"=\" vs \"<-\"## "
   ]
  },
  {
   "cell_type": "code",
   "execution_count": null,
   "metadata": {
    "collapsed": true
   },
   "outputs": [],
   "source": [
    "func_name = function(a){\n",
    "        print(a)\n",
    "}\n",
    "\n",
    "func_name2 = function(a=1){\n",
    "        print(a)\n",
    "}\n",
    "\n",
    "func_name3 = function(a<-1){\n",
    "        print(a)\n",
    "}\n",
    "\n",
    "func_name4 = function(a=1){\n",
    "        b<<-5\n",
    "        print(a)\n",
    "}"
   ]
  },
  {
   "cell_type": "markdown",
   "metadata": {},
   "source": [
    "## Matrix 陣列"
   ]
  },
  {
   "cell_type": "code",
   "execution_count": null,
   "metadata": {
    "collapsed": true
   },
   "outputs": [],
   "source": [
    "# syntax\n",
    "matrix(1:9, byrow=TRUE, nrow=3)  # byrow 是資料如何排列\n",
    "matrix(1:9, nrow=3)\n",
    "kevin = c(85,73)\n",
    "marry = c(72,64)\n",
    "jerry = c(59,66)\n",
    "mat = matrix(c(kevin, marry, jerry), nrow=3, byrow= TRUE)\n",
    "#給陣列的行列名子\n",
    "colnames(mat) = c('first', 'second')\n",
    "rownames(mat) = c('kevin', 'marry', 'jerry')\n",
    "\n",
    "# basic\n",
    "dim(mat)  #取維度\n",
    "nrow(mat) #取列數\n",
    "ncol(mat) #取行數\n",
    "mat[1,]   #取第一列\n",
    "mat[,1]   #取第一行\n",
    "mat[1:2,] #取第一列到第二列\n",
    "mat[2,1]  #取第二列第一行的元素\n",
    "rowSums(mat)\n",
    "colSums(mat)\n",
    "\n",
    "# insert new value\n",
    "#新增列(rbind)與行(cbind)\n",
    "mat2 = rbind(mat, c(78,63))\n",
    "rownames(mat2)[nrow(mat2)] = 'sam' # nrow(mat2)最後一行的意思\n",
    "rownames(mat2)[3] = 'Sam'          # 直接給定位置也可以\n",
    "mat2\n",
    "\n",
    "mat3 = cbind(mat2,c(82,77,70,64))\n",
    "colnames(mat3)[ncol(mat3)] = 'third'\n",
    "colnames(mat3)[3] = 'third'\n",
    "mat3\n",
    "\n",
    "# arithmetic 矩陣的基本運算\n",
    "m1 = matrix(1:4, byrow=TRUE, nrow=2)\n",
    "m2 = matrix(5:8, byrow=TRUE, nrow=2)\n",
    "m1 + m2\n",
    "m1 - m2\n",
    "m1 * m2\n",
    "m1 / m2\n",
    "\n",
    "# 矩陣乘積 matrix multiplication - \n",
    "#大前提 row number of m1 == col number of m2\n",
    "nrow(m1) == ncol(m2)\n",
    "m1 %*% m2"
   ]
  },
  {
   "cell_type": "markdown",
   "metadata": {},
   "source": [
    "## Factor 階層"
   ]
  },
  {
   "cell_type": "code",
   "execution_count": null,
   "metadata": {
    "collapsed": true
   },
   "outputs": [],
   "source": [
    "# syntax\n",
    "weather= c(\"sunny\",\"rainy\", \"cloudy\", \"rainy\", \"cloudy\") # 1個 chr型態的 vector\n",
    "weather_category = factor(weather) #將weather 變成factor結構\n",
    "weather_category                   #產生出 Levels: cloudy rainy sunny\n",
    "\n",
    "# change levels name  幫類別改名子\n",
    "weather= c(\"s\",\"r\", \"c\", \"r\", \"c\")\n",
    "weather_factor = factor(weather)\n",
    "weather_factor                     #產生出 Levels: c r s\n",
    "levels(weather_factor) = c(\"cloudy\",\"rainy\",\"sunny\")\n",
    "weather_factor\n",
    " \n",
    "# order  幫類別進行排序\n",
    "temperature = c(\"Low\", \"High\", \"High\", \"Medium\", \"Low\", \"Medium\")\n",
    "temperature_category = factor(temperature, order = TRUE, levels = c(\"Low\", \"Medium\", \"High\"))\n",
    "temperature_category\n",
    "temperature_category[3] > temperature_category[1]\n",
    "temperature_category[4] > temperature_category[3]\n",
    "\n",
    "#觀看類別\n",
    "levels(temperature_category)\n",
    "levels(weather_factor)"
   ]
  },
  {
   "cell_type": "markdown",
   "metadata": {},
   "source": [
    "## Data Frame"
   ]
  },
  {
   "cell_type": "code",
   "execution_count": null,
   "metadata": {
    "collapsed": true
   },
   "outputs": [],
   "source": [
    "# syntax 自行建立 data frame\n",
    "df = data.frame(a=c(201,196,213,196,218),b=c(108.9,94.8,115.7,95.3,112.5)) #a,b順便給藍位名稱\n",
    "colnames(df) = c(\"height\",\"weight\")　　#給欄位名稱\n",
    "\n",
    "#另外建立一個名稱的 Dara frame\n",
    "df_name = data.frame(name=c(\"Quincy\",\"Jordan\",\"Steven\",\"Arron\",\"Alexis\"),\n",
    "                    stringsAsFactors=FALSE)\n",
    "#在 Data frame 裡新增一行\n",
    "df_with_name = cbind(df_name,df)\n",
    "\n",
    "# merge 兩個 data frame 透過某一個欄位相同，要進行合併\n",
    "df_team = data.frame(name=c(\"Quincy\",\"Jordan\",\"Steven\",\"Arron\",\"Alexis\"),\n",
    "                     team=c(\"kings\",\"Grizzlies\",\"Thunder\",\"knicks\",\"Hornets\"))\n",
    "df_with_team = merge(df_with_name,df_team,by=\"name\") # foreign key 的概念進行合併\n",
    "\n",
    "#pick value 若沒有欄位相同，可用指定欄位的方式進行合併\n",
    "df_team2 = df_team\n",
    "colnames(df_team2)[1]=\"nam\"\n",
    "merge(df_with_name,df_team2,by.x = \"name\",by.y=\"nam\")\n",
    "\n",
    "df_team3 = cbind(df_team,df_with_name[,2]) #讓df_with_name只取到第二行的資料\n",
    "colnames(df_team3)[3]=\"height\"\n",
    "merge(df_with_name,df_team3,by=\"name\")\n",
    "\n",
    "# bool 值的運用\n",
    "bool = c(TRUE,TRUE,FALSE,FALSE,FALSE)\n",
    "df_with_name[bool,]    #利用布林值進行取值，true才會取\n",
    "\n",
    "# which 找某東西的位置\n",
    "which(df_with_name$name == \"Jordan\")   #看要找的那個東西在哪個\"位置\"\n",
    "which(bool)\n",
    "\n",
    "# with (data_frame , 尋找條件的位置 ) 找某列，或某行的值\n",
    "with(df_with_name, df_with_name[name==\"Jordan\",])\n",
    "df_with_name[which(df_with_name$name == \"Jordan\"),] #直接取值的概念\n",
    "\n",
    "#觀察資料\n",
    "head(df_with_name,1)  #觀看前幾筆資料\n",
    "tail(df_with_name,1)  #觀看後幾筆資料\n",
    "\n",
    "#取得指定列與行的部分資料集\n",
    "df_with_name[1]     #取得第一行的資料\n",
    "df_with_name$name   #取得name欄位的值 (chr [1:5])\n",
    "df_with_name[\"name\"]#取得name欄位的值 ('data.frame':\t5 obs. of  1 variable:)\n",
    "df_with_name[1,]    #取得第一列的值('data.frame':\t1 obs. of  3 variables:)\n",
    "df_with_name[,1]    #取得第一行的值(chr [1:5] \"Quincy\" \"Jordan\" ...)\n",
    "df_with_name[[1]]   #取得第一行的值(chr [1:5] \"Quincy\" \"Jordan\" ...)\n",
    "df_with_name[1:2]\n",
    "df_with_name[,1:2]\n",
    "df_with_name[1,\"name\"] #取第一列在 name 欄位的值\n",
    "df_with_name[df_with_name[\"name\"]==\"Jordan\",]\n",
    "df_with_name[which(df_with_name$name == \"Jordan\"),]\n",
    "with(df_with_name, df_with_name[name==\"Jordan\",])\n",
    "\n",
    "# order\n",
    "order(df_with_name$name) #依據名字做排序\n",
    "df_with_name[order(df_with_name$name),]\n",
    "df_with_name[1:3,]\n",
    "df_with_name[c(1,3,5),]\n",
    "\n",
    "# library vs require\n",
    "library(dplyr)\n",
    "if(!require(dplyr)){\n",
    "        install.packages(dplyr)\n",
    "}\n",
    "\n",
    "# dplyr\n",
    "df_with_name[c(\"name\",\"height\")]\n",
    "select(df_with_name,name,height)\n",
    "##################################\n",
    "df_with_name[df_with_name[\"name\"]==\"Jordan\",]\n",
    "filter(df_with_name, name==\"Jordan\")\n",
    "##################################\n",
    "df_with_name[order(df_with_name[\"name\"]),]\n",
    "arrange(df_with_name, name)\n",
    "##################################\n",
    "mutate(df_with_name, BMI=weight/(height/100)^2)"
   ]
  },
  {
   "cell_type": "markdown",
   "metadata": {},
   "source": [
    "## Flow Control"
   ]
  },
  {
   "cell_type": "code",
   "execution_count": null,
   "metadata": {
    "collapsed": true
   },
   "outputs": [],
   "source": [
    "x=5;\n",
    "if(x>3){\n",
    "  print\n",
    "  (\"x > 3\");\n",
    "}else{\n",
    "  print\n",
    "  (\"x <= 3\");\n",
    "}\n",
    "\n",
    "x=5;\n",
    "if(x>3){\n",
    "  print (\"x > 3\");\n",
    "} else if (x ==3){\n",
    "  print (\"x == 3\");\n",
    "}else{\n",
    "  print\n",
    "  (\"x <= 3\");\n",
    "}\n",
    "\n",
    "for(i in 1:10){\n",
    "  print(i);\n",
    "}\n",
    "\n",
    "sum=0\n",
    "for(i in 1:100){\n",
    "  sum= sum+ i;\n",
    "}\n",
    "sum\n",
    "\n",
    "sum(1:100)\n",
    "\n",
    "#製造一個 1:100 的 int\n",
    "ary = rep(NA, 100)\n",
    "for(i in 1:100){\n",
    "  ary[i]= i;\n",
    "}\n",
    "ary\n",
    "\n",
    "#變成向量也可以\n",
    "ary2 =c()\n",
    "for(i in 1:100){\n",
    "  ary2 = c(ary2, i);\n",
    "}\n",
    "ary2\n",
    "\n",
    "seq_len(5)\n",
    "\n",
    "mat = matrix(1:9, byrow=TRUE, nrow=3)\n",
    "for(i in seq_len(nrow(mat))) {\n",
    "  for(j in seq_len(ncol(mat))) {\n",
    "    cat(mat[i, j], \" \")\n",
    "  }\n",
    "  cat('\\n');\n",
    "}\n",
    "\n",
    "sum = 0;\n",
    "cnt = 0;\n",
    "while(cnt <= 100){\n",
    "  sum = sum + cnt;\n",
    "  cnt = cnt + 1;\n",
    "}\n",
    "sum"
   ]
  },
  {
   "cell_type": "markdown",
   "metadata": {},
   "source": [
    "## 算 9x9 乘法"
   ]
  },
  {
   "cell_type": "code",
   "execution_count": null,
   "metadata": {
    "collapsed": true
   },
   "outputs": [],
   "source": [
    "## 無知的小孩\n",
    "m99 = matrix(NA,nrow=9,ncol=9)\n",
    "for(i in 1:9){\n",
    "        r99 = vector()\n",
    "        for(j in 1:9){\n",
    "                r99 = c(r99,(i*j))\n",
    "        }\n",
    "        m99[i,] = r99\n",
    "}\n",
    "colnames(m99) = m99[,1]\n",
    "rownames(m99) = m99[1,]\n",
    "\n",
    "## use %*%\n",
    "x = 1:9\n",
    "x = matrix(1:9,nrow=9,byrow=TRUE)\n",
    "y = matrix(1:9,ncol=9,byrow=TRUE)\n",
    "m99 = x %*% y\n",
    "rownames(m99) = x\n",
    "colnames(m99) = y\n",
    "\n",
    "## use %o%\n",
    "x = 1:9\n",
    "names(x) = x\n",
    "x %o% x"
   ]
  }
 ],
 "metadata": {
  "kernelspec": {
   "display_name": "Python 2",
   "language": "python",
   "name": "python2"
  },
  "language_info": {
   "codemirror_mode": {
    "name": "ipython",
    "version": 2
   },
   "file_extension": ".py",
   "mimetype": "text/x-python",
   "name": "python",
   "nbconvert_exporter": "python",
   "pygments_lexer": "ipython2",
   "version": "2.7.11"
  }
 },
 "nbformat": 4,
 "nbformat_minor": 0
}
